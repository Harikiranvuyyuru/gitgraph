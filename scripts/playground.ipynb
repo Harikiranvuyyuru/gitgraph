{
 "metadata": {
  "name": ""
 },
 "nbformat": 3,
 "nbformat_minor": 0,
 "worksheets": [
  {
   "cells": [
    {
     "cell_type": "code",
     "collapsed": false,
     "input": [
      "from cassandra.cluster import Cluster\n",
      "from flask import Flask, jsonify, render_template, request\n",
      "from flask_restful import Resource, Api\n",
      "import json\n",
      "from cassandra.query import SimpleStatement\n",
      "import operator\n",
      "\n",
      "cluster = Cluster(['52.8.127.252'])\n",
      "session = cluster.connect('watch_events')\n"
     ],
     "language": "python",
     "metadata": {},
     "outputs": [
      {
       "output_type": "stream",
       "stream": "stderr",
       "text": [
        "/usr/local/lib/python2.7/dist-packages/cassandra/util.py:486: UserWarning: The blist library is not available, so a pure python list-based set will be used in place of blist.sortedset for set collection values. You can find the blist library here: https://pypi.python.org/pypi/blist/\n",
        "  \"The blist library is not available, so a pure python list-based set will \"\n"
       ]
      }
     ],
     "prompt_number": 1
    },
    {
     "cell_type": "code",
     "collapsed": false,
     "input": [
      "from sets import Set\n",
      "username = \"aouyang1\"\n",
      "repojson = []\n",
      "cql = \"SELECT following from userfollow WHERE username=%s\"\n",
      "stmt = session.execute(cql, parameters=[username])\n",
      "following_list = stmt[0].following\n",
      "\n",
      "for all in following_list:\n",
      "    cql = \"SELECT repo from userrepo WHERE username=%s\"\n",
      "    reporow = session.execute(cql, parameters=[all])\n",
      "    if reporow==[]:\n",
      "        repojson.append({\"name\": all})\n",
      "    else:        \n",
      "        repojson.append({\"name\": all, \"children\": [{\"name\":reponame, \"size\":10000} for reponame in Set(list(reporow[0].repo))]})\n",
      "    print \"\\n\", all, repojson\n",
      "    \n",
      "jsonresponse = {\"name\": username, \"children\": [x for x in repojson]}"
     ],
     "language": "python",
     "metadata": {},
     "outputs": [
      {
       "output_type": "stream",
       "stream": "stdout",
       "text": [
        "\n",
        "gy8 [{'name': u'gy8', 'children': [{'name': u'databricks/spark-avro', 'size': 10000}, {'name': u'ajmssc/bitcoin-inspector', 'size': 10000}, {'name': u'mistercrunch/Airflow', 'size': 10000}, {'name': u'jbogp/InsightCommentsCrawler', 'size': 10000}]}]\n",
        "\n",
        "ddrum001 [{'name': u'gy8', 'children': [{'name': u'databricks/spark-avro', 'size': 10000}, {'name': u'ajmssc/bitcoin-inspector', 'size': 10000}, {'name': u'mistercrunch/Airflow', 'size': 10000}, {'name': u'jbogp/InsightCommentsCrawler', 'size': 10000}]}, {'name': u'ddrum001', 'children': [{'name': u'twitter/summingbird', 'size': 10000}, {'name': u'coodict/javascript-in-one-pic', 'size': 10000}, {'name': u'aouyang1/ClusterConfig', 'size': 10000}, {'name': u'mistercrunch/Airflow', 'size': 10000}, {'name': u'apache/storm', 'size': 10000}, {'name': u'cfregly/spark-after-dark', 'size': 10000}, {'name': u'johnjoo1/example_project', 'size': 10000}, {'name': u'caesar0301/awesome-public-datasets', 'size': 10000}, {'name': u'yahooooooo/cc-example', 'size': 10000}]}]\n",
        "\n",
        "MHouyang [{'name': u'gy8', 'children': [{'name': u'databricks/spark-avro', 'size': 10000}, {'name': u'ajmssc/bitcoin-inspector', 'size': 10000}, {'name': u'mistercrunch/Airflow', 'size': 10000}, {'name': u'jbogp/InsightCommentsCrawler', 'size': 10000}]}, {'name': u'ddrum001', 'children': [{'name': u'twitter/summingbird', 'size': 10000}, {'name': u'coodict/javascript-in-one-pic', 'size': 10000}, {'name': u'aouyang1/ClusterConfig', 'size': 10000}, {'name': u'mistercrunch/Airflow', 'size': 10000}, {'name': u'apache/storm', 'size': 10000}, {'name': u'cfregly/spark-after-dark', 'size': 10000}, {'name': u'johnjoo1/example_project', 'size': 10000}, {'name': u'caesar0301/awesome-public-datasets', 'size': 10000}, {'name': u'yahooooooo/cc-example', 'size': 10000}]}, {'name': u'MHouyang'}]\n"
       ]
      }
     ],
     "prompt_number": 8
    },
    {
     "cell_type": "code",
     "collapsed": false,
     "input": [
      "from sets import Set\n",
      "username = \"amdd\"\n",
      "repojson = []\n",
      "cql = \"SELECT following from userfollow WHERE username=%s\"\n",
      "stmt = session.execute(cql, parameters=[username])\n",
      "print stmt\n",
      "# following_list = stmt[0].following\n",
      "# print following_list"
     ],
     "language": "python",
     "metadata": {},
     "outputs": [
      {
       "output_type": "stream",
       "stream": "stdout",
       "text": [
        "[]\n"
       ]
      }
     ],
     "prompt_number": 4
    },
    {
     "cell_type": "code",
     "collapsed": false,
     "input": [],
     "language": "python",
     "metadata": {},
     "outputs": []
    }
   ],
   "metadata": {}
  }
 ]
}