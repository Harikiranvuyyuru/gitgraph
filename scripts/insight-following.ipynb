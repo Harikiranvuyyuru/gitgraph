{
 "metadata": {
  "name": ""
 },
 "nbformat": 3,
 "nbformat_minor": 0,
 "worksheets": [
  {
   "cells": [
    {
     "cell_type": "code",
     "collapsed": false,
     "input": [
      "import json\n",
      "following_dict = []\n",
      "\n",
      "with open(\"following-insight.json\") as f:\n",
      "    for i, line in enumerate(f):\n",
      "        follows = []\n",
      "        record = json.loads(line)']\n",
      "        try:\n",
      "            if len(record['following']) > 0:\n",
      "                for x in record['following']:\n",
      "                    follows.append(x['login'])\n",
      "            following_dict.append((record['login'], follows))\n",
      "        except:\n",
      "            print record        "
     ],
     "language": "python",
     "metadata": {},
     "outputs": [
      {
       "output_type": "stream",
       "stream": "stdout",
       "text": [
        "{u'following': [u'documentation_url', u'message', u'documentation_url', u'message', u'documentation_url', u'message', u'documentation_url', u'message', u'documentation_url', u'message', u'documentation_url', u'message', u'documentation_url', u'message', u'documentation_url', u'message', u'documentation_url', u'message'], u'login': u'vimal1kaurani'}\n"
       ]
      }
     ],
     "prompt_number": 40
    },
    {
     "cell_type": "code",
     "collapsed": false,
     "input": [
      "print following_dict[0][0]"
     ],
     "language": "python",
     "metadata": {},
     "outputs": [
      {
       "output_type": "stream",
       "stream": "stdout",
       "text": [
        "dennyac\n"
       ]
      }
     ],
     "prompt_number": 50
    },
    {
     "cell_type": "code",
     "collapsed": false,
     "input": [
      "from cqlengine import columns\n",
      "from cqlengine.models import Model\n",
      "from cqlengine import connection\n",
      "from cqlengine.management import sync_table\n"
     ],
     "language": "python",
     "metadata": {},
     "outputs": [
      {
       "output_type": "stream",
       "stream": "stderr",
       "text": [
        "/usr/local/lib/python2.7/dist-packages/cassandra/util.py:486: UserWarning: The blist library is not available, so a pure python list-based set will be used in place of blist.sortedset for set collection values. You can find the blist library here: https://pypi.python.org/pypi/blist/\n",
        "  \"The blist library is not available, so a pure python list-based set will \"\n"
       ]
      }
     ],
     "prompt_number": 45
    },
    {
     "cell_type": "code",
     "collapsed": false,
     "input": [
      "class userfollow(Model):\n",
      "  username = columns.Text(primary_key=True)\n",
      "  following = columns.List(columns.Text)\n",
      "  def __repr__(self):\n",
      "    return '%s %d' % (self.username, self.following)"
     ],
     "language": "python",
     "metadata": {},
     "outputs": [],
     "prompt_number": 46
    },
    {
     "cell_type": "code",
     "collapsed": false,
     "input": [
      "connection.setup(['52.8.127.252'], \"watch_events\")\n",
      "sync_table(userfollow)\n"
     ],
     "language": "python",
     "metadata": {},
     "outputs": [],
     "prompt_number": 49
    },
    {
     "cell_type": "code",
     "collapsed": false,
     "input": [
      "for val in following_dict:\n",
      "    userfollow.create(username = val[0], following = val[1])"
     ],
     "language": "python",
     "metadata": {},
     "outputs": [],
     "prompt_number": 51
    },
    {
     "cell_type": "code",
     "collapsed": false,
     "input": [
      "class userfollow(Model):\n",
      "  username = columns.Text(primary_key=True)\n",
      "  following = columns.List(columns.Text)\n",
      "  def __repr__(self):\n",
      "    return '%s %d' % (self.username, self.following)"
     ],
     "language": "python",
     "metadata": {},
     "outputs": []
    }
   ],
   "metadata": {}
  }
 ]
}