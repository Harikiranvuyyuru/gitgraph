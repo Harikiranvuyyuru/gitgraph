{
 "metadata": {
  "name": ""
 },
 "nbformat": 3,
 "nbformat_minor": 0,
 "worksheets": [
  {
   "cells": [
    {
     "cell_type": "code",
     "collapsed": false,
     "input": [
      "import os\n",
      "import sys\n",
      "\n",
      "os.environ['PYSPARK_SUBMIT_ARGS']='--master spark://ip-172-31-2-89:7077 --executor-memory 1300m --driver-memory 1300m'\n",
      "\n",
      "spark_home = os.environ.get('SPARK_HOME', None)\n",
      "if not spark_home:\n",
      "  raise ValueError('SPARK_HOME environment variable is not set')\n",
      "sys.path.insert(0, os.path.join(spark_home, 'python'))\n",
      "sys.path.insert(0, os.path.join(spark_home, 'python/lib/py4j-0.8.1-src.zip'))\n",
      "execfile(os.path.join(spark_home, 'python/pyspark/shell.py'))\n"
     ],
     "language": "python",
     "metadata": {},
     "outputs": [
      {
       "output_type": "stream",
       "stream": "stdout",
       "text": [
        "Welcome to\n",
        "      ____              __\n",
        "     / __/__  ___ _____/ /__\n",
        "    _\\ \\/ _ \\/ _ `/ __/  '_/\n",
        "   /__ / .__/\\_,_/_/ /_/\\_\\   version 1.3.1\n",
        "      /_/\n",
        "\n",
        "Using Python version 2.7.6 (default, Mar 22 2014 22:59:56)\n",
        "SparkContext available as sc, HiveContext available as sqlContext.\n"
       ]
      }
     ],
     "prompt_number": 1
    },
    {
     "cell_type": "code",
     "collapsed": false,
     "input": [
      "from pyspark import SparkContext\n",
      "from pyspark.sql import SQLContext\n",
      "\n",
      "\n",
      "sc.stop()\n",
      "sc = SparkContext(\"spark://ip-172-31-2-89:7077\", \"userfollow\")\n",
      "sqlContext = SQLContext(sc)\n"
     ],
     "language": "python",
     "metadata": {},
     "outputs": [],
     "prompt_number": 2
    },
    {
     "cell_type": "code",
     "collapsed": false,
     "input": [
      "from cqlengine import columns\n",
      "from cqlengine.models import Model\n",
      "from cqlengine import connection\n",
      "from cqlengine.management import sync_table\n",
      "\n",
      "connection.setup(['52.8.127.252', '52.8.41.216'], \"watch_events\")"
     ],
     "language": "python",
     "metadata": {},
     "outputs": [],
     "prompt_number": 52
    },
    {
     "cell_type": "code",
     "collapsed": false,
     "input": [
      "class userfollowing(Model):\n",
      "  username = columns.Text(primary_key=True)\n",
      "  following = columns.List(columns.Text)\n",
      "  def __repr__(self):\n",
      "    return (self.username, self.following)\n",
      "\n",
      "sync_table(userfollowing)"
     ],
     "language": "python",
     "metadata": {},
     "outputs": [],
     "prompt_number": 53
    },
    {
     "cell_type": "code",
     "collapsed": false,
     "input": [
      "df1 = sqlContext.jsonFile(\"hdfs://ec2-52-8-127-252.us-west-1.compute.amazonaws.com:9000/camus/topics/scrap-following-1/*/*/*/*/*/*\")\n",
      "df1 = sqlContext.jsonFile(\"hdfs://ec2-52-8-127-252.us-west-1.compute.amazonaws.com:9000/camus/topics/scrap-following-2/*/*/*/*/*/*\")\n"
     ],
     "language": "python",
     "metadata": {},
     "outputs": [],
     "prompt_number": 3
    },
    {
     "cell_type": "code",
     "collapsed": false,
     "input": [
      "df3 = sqlContext.jsonFile(\"hdfs://ec2-52-8-127-252.us-west-1.compute.amazonaws.com:9000/camus/topics/scrap-following-3/*/*/*/*/*/*\")\n",
      "# df3_2 = sqlContext.jsonFile(\"hdfs://ec2-52-8-127-252.us-west-1.compute.amazonaws.com:9000/camus/topics/scrap-following-3/hourly/2015/06/26/01/*\")\n",
      "# df3_3 = sqlContext.jsonFile(\"hdfs://ec2-52-8-127-252.us-west-1.compute.amazonaws.com:9000/camus/topics/scrap-following-3/hourly/2015/06/28/19/*\")"
     ],
     "language": "python",
     "metadata": {},
     "outputs": [],
     "prompt_number": 130
    },
    {
     "cell_type": "code",
     "collapsed": false,
     "input": [
      "df3.show()"
     ],
     "language": "python",
     "metadata": {},
     "outputs": [
      {
       "output_type": "stream",
       "stream": "stdout",
       "text": [
        "following            id      login         \n",
        "ArrayBuffer()        3917507 KaKiZeOne     \n",
        "ArrayBuffer()        3917508 g00d          \n",
        "ArrayBuffer()        3917509 nephewwren55  \n",
        "ArrayBuffer()        3917510 oraclehlc     \n",
        "ArrayBuffer()        3917511 adehury       \n",
        "ArrayBuffer()        3917512 zubster       \n",
        "ArrayBuffer()        3917513 mthewes       \n",
        "ArrayBuffer()        3917514 slime02mail   \n",
        "ArrayBuffer()        3917515 castwine82    \n",
        "ArrayBuffer()        3917516 mdhzamir      \n",
        "ArrayBuffer()        3917517 repanisrinivas\n",
        "ArrayBuffer()        3917518 mrahman-bat   \n",
        "ArrayBuffer({\"gis... 3917519 PetSerVas     \n",
        "ArrayBuffer()        3917520 bankerbench7  \n",
        "ArrayBuffer()        3917521 SlipperFits13 \n",
        "ArrayBuffer()        3917522 krakenbul     \n",
        "ArrayBuffer()        3917523 wallet7manx   \n",
        "ArrayBuffer()        3917524 bite8path     \n",
        "ArrayBuffer()        3917525 king21st      \n",
        "ArrayBuffer()        3917526 rhythmchess6  \n"
       ]
      }
     ],
     "prompt_number": 131
    },
    {
     "cell_type": "code",
     "collapsed": false,
     "input": [
      "def follows(x):\n",
      "    try:\n",
      "        following_list = []\n",
      "        if x == []:\n",
      "            return following_list\n",
      "        else:\n",
      "            for user in x:\n",
      "                following_list.append(json.loads(user)['login'])\n",
      "            return following_list\n",
      "    except:\n",
      "        print x\n",
      "    \n",
      "df3_following = df3.map(lambda x: (x.login, follows(x.following))).collect()\n",
      "# test = following(rf.following)\n",
      "# print test"
     ],
     "language": "python",
     "metadata": {},
     "outputs": [],
     "prompt_number": 132
    },
    {
     "cell_type": "code",
     "collapsed": false,
     "input": [
      "df3_following[1:20]"
     ],
     "language": "python",
     "metadata": {},
     "outputs": [
      {
       "metadata": {},
       "output_type": "pyout",
       "prompt_number": 133,
       "text": [
        "[(u'g00d', []),\n",
        " (u'nephewwren55', []),\n",
        " (u'oraclehlc', []),\n",
        " (u'adehury', []),\n",
        " (u'zubster', []),\n",
        " (u'mthewes', []),\n",
        " (u'slime02mail', []),\n",
        " (u'castwine82', []),\n",
        " (u'mdhzamir', []),\n",
        " (u'repanisrinivas', []),\n",
        " (u'mrahman-bat', []),\n",
        " (u'PetSerVas', [u'DamianEdwards', u'ivan19871002', u'Herna1994']),\n",
        " (u'bankerbench7', []),\n",
        " (u'SlipperFits13', []),\n",
        " (u'krakenbul', []),\n",
        " (u'wallet7manx', []),\n",
        " (u'bite8path', []),\n",
        " (u'king21st', []),\n",
        " (u'rhythmchess6', [])]"
       ]
      }
     ],
     "prompt_number": 133
    },
    {
     "cell_type": "code",
     "collapsed": false,
     "input": [
      "r = df3_1.filter('login=\"KaKiZeOne\"')\n",
      "r2 = df3_1.filter('login=\"PetSerVas\"')"
     ],
     "language": "python",
     "metadata": {},
     "outputs": [],
     "prompt_number": 111
    },
    {
     "cell_type": "code",
     "collapsed": false,
     "input": [
      "# for i, val in enumerate(df3_following):\n",
      "#     userfollowing.create(username=val[0], following=val[1])\n",
      "#     sys.stderr.write(\".\")"
     ],
     "language": "python",
     "metadata": {},
     "outputs": [],
     "prompt_number": 1
    },
    {
     "cell_type": "code",
     "collapsed": false,
     "input": [
      "# rf = r.first()\n",
      "# print rf.following\n",
      "# print type(rf.following)\n",
      "# rf2 = r2.first()\n",
      "# print rf2.following\n",
      "# print type(rf2.following)"
     ],
     "language": "python",
     "metadata": {},
     "outputs": [],
     "prompt_number": 116
    },
    {
     "cell_type": "code",
     "collapsed": false,
     "input": [],
     "language": "python",
     "metadata": {},
     "outputs": [],
     "prompt_number": 115
    },
    {
     "cell_type": "code",
     "collapsed": false,
     "input": [],
     "language": "python",
     "metadata": {},
     "outputs": [],
     "prompt_number": 115
    },
    {
     "cell_type": "code",
     "collapsed": false,
     "input": [],
     "language": "python",
     "metadata": {},
     "outputs": []
    },
    {
     "cell_type": "code",
     "collapsed": false,
     "input": [],
     "language": "python",
     "metadata": {},
     "outputs": [],
     "prompt_number": 120
    },
    {
     "cell_type": "code",
     "collapsed": false,
     "input": [],
     "language": "python",
     "metadata": {},
     "outputs": [
      {
       "output_type": "stream",
       "stream": "stdout",
       "text": [
        "[]\n"
       ]
      }
     ],
     "prompt_number": 114
    },
    {
     "cell_type": "code",
     "collapsed": false,
     "input": [],
     "language": "python",
     "metadata": {},
     "outputs": [],
     "prompt_number": 1
    },
    {
     "cell_type": "code",
     "collapsed": false,
     "input": [
      "print type(df3followingcollect)"
     ],
     "language": "python",
     "metadata": {},
     "outputs": [
      {
       "output_type": "stream",
       "stream": "stdout",
       "text": [
        "<type 'list'>\n"
       ]
      }
     ],
     "prompt_number": 57
    },
    {
     "cell_type": "code",
     "collapsed": false,
     "input": [
      "print df3followingcollect[1:5]"
     ],
     "language": "python",
     "metadata": {},
     "outputs": [
      {
       "output_type": "stream",
       "stream": "stdout",
       "text": [
        "[(u'g00d', [u'DamianEdwards', u'ivan19871002', u'Herna1994']), (u'nephewwren55', [u'DamianEdwards', u'ivan19871002', u'Herna1994']), (u'oraclehlc', [u'DamianEdwards', u'ivan19871002', u'Herna1994']), (u'adehury', [u'DamianEdwards', u'ivan19871002', u'Herna1994'])]\n"
       ]
      }
     ],
     "prompt_number": 58
    },
    {
     "cell_type": "code",
     "collapsed": false,
     "input": [],
     "language": "python",
     "metadata": {},
     "outputs": []
    },
    {
     "cell_type": "code",
     "collapsed": false,
     "input": [
      "df3 = sqlContext.jsonFile(\"hdfs://ec2-52-8-127-252.us-west-1.compute.amazonaws.com:9000/camus/topics/scrap-following-3/*/*/*/*/*/*\")\n",
      "df4 = sqlContext.jsonFile(\"hdfs://ec2-52-8-127-252.us-west-1.compute.amazonaws.com:9000/camus/topics/scrap-following-4/*/*/*/*/*/*\")\n",
      "df5 = sqlContext.jsonFile(\"hdfs://ec2-52-8-127-252.us-west-1.compute.amazonaws.com:9000/camus/topics/scrap-following-5/*/*/*/*/*/*\")\n",
      "df7 = sqlContext.jsonFile(\"hdfs://ec2-52-8-127-252.us-west-1.compute.amazonaws.com:9000/camus/topics/scrap-following-7/*/*/*/*/*/*\")\n"
     ],
     "language": "python",
     "metadata": {},
     "outputs": [],
     "prompt_number": 4
    },
    {
     "cell_type": "code",
     "collapsed": false,
     "input": [
      "df3.show()"
     ],
     "language": "python",
     "metadata": {},
     "outputs": [
      {
       "output_type": "stream",
       "stream": "stdout",
       "text": [
        "following            id      login         \n",
        "ArrayBuffer()        3917507 KaKiZeOne     \n",
        "ArrayBuffer()        3917508 g00d          \n",
        "ArrayBuffer()        3917509 nephewwren55  \n",
        "ArrayBuffer()        3917510 oraclehlc     \n",
        "ArrayBuffer()        3917511 adehury       \n",
        "ArrayBuffer()        3917512 zubster       \n",
        "ArrayBuffer()        3917513 mthewes       \n",
        "ArrayBuffer()        3917514 slime02mail   \n",
        "ArrayBuffer()        3917515 castwine82    \n",
        "ArrayBuffer()        3917516 mdhzamir      \n",
        "ArrayBuffer()        3917517 repanisrinivas\n",
        "ArrayBuffer()        3917518 mrahman-bat   \n",
        "ArrayBuffer({\"gis... 3917519 PetSerVas     \n",
        "ArrayBuffer()        3917520 bankerbench7  \n",
        "ArrayBuffer()        3917521 SlipperFits13 \n",
        "ArrayBuffer()        3917522 krakenbul     \n",
        "ArrayBuffer()        3917523 wallet7manx   \n",
        "ArrayBuffer()        3917524 bite8path     \n",
        "ArrayBuffer()        3917525 king21st      \n",
        "ArrayBuffer()        3917526 rhythmchess6  \n"
       ]
      }
     ],
     "prompt_number": 5
    },
    {
     "cell_type": "code",
     "collapsed": false,
     "input": [
      "r = df3.filter('login=\"PetSerVas\"')\n",
      "r = r.first()\n",
      "import json\n",
      "print r\n",
      "j = [json.loads(x)['login'] for x in r.following if len(r.following)<0]"
     ],
     "language": "python",
     "metadata": {},
     "outputs": [
      {
       "output_type": "stream",
       "stream": "stdout",
       "text": [
        "Row(following=[u'{\"gists_url\":\"https://api.github.com/users/DamianEdwards/gists{/gist_id}\",\"organizations_url\":\"https://api.github.com/users/DamianEdwards/orgs\",\"gravatar_id\":\"\",\"url\":\"https://api.github.com/users/DamianEdwards\",\"repos_url\":\"https://api.github.com/users/DamianEdwards/repos\",\"received_events_url\":\"https://api.github.com/users/DamianEdwards/received_events\",\"id\":249088,\"following_url\":\"https://api.github.com/users/DamianEdwards/following{/other_user}\",\"site_admin\":false,\"subscriptions_url\":\"https://api.github.com/users/DamianEdwards/subscriptions\",\"starred_url\":\"https://api.github.com/users/DamianEdwards/starred{/owner}{/repo}\",\"html_url\":\"https://github.com/DamianEdwards\",\"login\":\"DamianEdwards\",\"type\":\"User\",\"events_url\":\"https://api.github.com/users/DamianEdwards/events{/privacy}\",\"avatar_url\":\"https://avatars.githubusercontent.com/u/249088?v=3\",\"followers_url\":\"https://api.github.com/users/DamianEdwards/followers\"}', u'{\"gists_url\":\"https://api.github.com/users/ivan19871002/gists{/gist_id}\",\"organizations_url\":\"https://api.github.com/users/ivan19871002/orgs\",\"gravatar_id\":\"\",\"url\":\"https://api.github.com/users/ivan19871002\",\"repos_url\":\"https://api.github.com/users/ivan19871002/repos\",\"received_events_url\":\"https://api.github.com/users/ivan19871002/received_events\",\"id\":836387,\"following_url\":\"https://api.github.com/users/ivan19871002/following{/other_user}\",\"site_admin\":false,\"subscriptions_url\":\"https://api.github.com/users/ivan19871002/subscriptions\",\"starred_url\":\"https://api.github.com/users/ivan19871002/starred{/owner}{/repo}\",\"html_url\":\"https://github.com/ivan19871002\",\"login\":\"ivan19871002\",\"type\":\"User\",\"events_url\":\"https://api.github.com/users/ivan19871002/events{/privacy}\",\"avatar_url\":\"https://avatars.githubusercontent.com/u/836387?v=3\",\"followers_url\":\"https://api.github.com/users/ivan19871002/followers\"}', u'{\"gists_url\":\"https://api.github.com/users/Herna1994/gists{/gist_id}\",\"organizations_url\":\"https://api.github.com/users/Herna1994/orgs\",\"gravatar_id\":\"\",\"url\":\"https://api.github.com/users/Herna1994\",\"repos_url\":\"https://api.github.com/users/Herna1994/repos\",\"received_events_url\":\"https://api.github.com/users/Herna1994/received_events\",\"id\":5259277,\"following_url\":\"https://api.github.com/users/Herna1994/following{/other_user}\",\"site_admin\":false,\"subscriptions_url\":\"https://api.github.com/users/Herna1994/subscriptions\",\"starred_url\":\"https://api.github.com/users/Herna1994/starred{/owner}{/repo}\",\"html_url\":\"https://github.com/Herna1994\",\"login\":\"Herna1994\",\"type\":\"User\",\"events_url\":\"https://api.github.com/users/Herna1994/events{/privacy}\",\"avatar_url\":\"https://avatars.githubusercontent.com/u/5259277?v=3\",\"followers_url\":\"https://api.github.com/users/Herna1994/followers\"}'], id=3917519, login=u'PetSerVas')\n"
       ]
      }
     ],
     "prompt_number": 67
    },
    {
     "cell_type": "code",
     "collapsed": false,
     "input": [
      "# j = [json.loads(x)['login'] for x in r.following if len(r.following)<0]\n",
      "j = [json.loads(y)['login'] if len(r.following)>0 else r.following for y in r.following]\n",
      "print j"
     ],
     "language": "python",
     "metadata": {},
     "outputs": [
      {
       "output_type": "stream",
       "stream": "stdout",
       "text": [
        "[u'DamianEdwards', u'ivan19871002', u'Herna1994']\n"
       ]
      }
     ],
     "prompt_number": 79
    },
    {
     "cell_type": "code",
     "collapsed": false,
     "input": [
      "r = df3.filter('login=\"PetSerVas\"')\n",
      "rf = r.first()\n",
      "print rf\n",
      "f = rf.following\n",
      "print \"\\n\"\n",
      "print f\n",
      "type(f)\n",
      "len(f)\n",
      "print \"\\n\"\n",
      "print f[0]\n",
      "print type(f[0])\n",
      "import json\n",
      "j = json.loads(f[0])\n",
      "print \"\\n\"\n",
      "print type(j)\n",
      "print j['login']"
     ],
     "language": "python",
     "metadata": {},
     "outputs": [
      {
       "output_type": "stream",
       "stream": "stdout",
       "text": [
        "Row(following=[u'{\"gists_url\":\"https://api.github.com/users/DamianEdwards/gists{/gist_id}\",\"organizations_url\":\"https://api.github.com/users/DamianEdwards/orgs\",\"gravatar_id\":\"\",\"url\":\"https://api.github.com/users/DamianEdwards\",\"repos_url\":\"https://api.github.com/users/DamianEdwards/repos\",\"received_events_url\":\"https://api.github.com/users/DamianEdwards/received_events\",\"id\":249088,\"following_url\":\"https://api.github.com/users/DamianEdwards/following{/other_user}\",\"site_admin\":false,\"subscriptions_url\":\"https://api.github.com/users/DamianEdwards/subscriptions\",\"starred_url\":\"https://api.github.com/users/DamianEdwards/starred{/owner}{/repo}\",\"html_url\":\"https://github.com/DamianEdwards\",\"login\":\"DamianEdwards\",\"type\":\"User\",\"events_url\":\"https://api.github.com/users/DamianEdwards/events{/privacy}\",\"avatar_url\":\"https://avatars.githubusercontent.com/u/249088?v=3\",\"followers_url\":\"https://api.github.com/users/DamianEdwards/followers\"}', u'{\"gists_url\":\"https://api.github.com/users/ivan19871002/gists{/gist_id}\",\"organizations_url\":\"https://api.github.com/users/ivan19871002/orgs\",\"gravatar_id\":\"\",\"url\":\"https://api.github.com/users/ivan19871002\",\"repos_url\":\"https://api.github.com/users/ivan19871002/repos\",\"received_events_url\":\"https://api.github.com/users/ivan19871002/received_events\",\"id\":836387,\"following_url\":\"https://api.github.com/users/ivan19871002/following{/other_user}\",\"site_admin\":false,\"subscriptions_url\":\"https://api.github.com/users/ivan19871002/subscriptions\",\"starred_url\":\"https://api.github.com/users/ivan19871002/starred{/owner}{/repo}\",\"html_url\":\"https://github.com/ivan19871002\",\"login\":\"ivan19871002\",\"type\":\"User\",\"events_url\":\"https://api.github.com/users/ivan19871002/events{/privacy}\",\"avatar_url\":\"https://avatars.githubusercontent.com/u/836387?v=3\",\"followers_url\":\"https://api.github.com/users/ivan19871002/followers\"}', u'{\"gists_url\":\"https://api.github.com/users/Herna1994/gists{/gist_id}\",\"organizations_url\":\"https://api.github.com/users/Herna1994/orgs\",\"gravatar_id\":\"\",\"url\":\"https://api.github.com/users/Herna1994\",\"repos_url\":\"https://api.github.com/users/Herna1994/repos\",\"received_events_url\":\"https://api.github.com/users/Herna1994/received_events\",\"id\":5259277,\"following_url\":\"https://api.github.com/users/Herna1994/following{/other_user}\",\"site_admin\":false,\"subscriptions_url\":\"https://api.github.com/users/Herna1994/subscriptions\",\"starred_url\":\"https://api.github.com/users/Herna1994/starred{/owner}{/repo}\",\"html_url\":\"https://github.com/Herna1994\",\"login\":\"Herna1994\",\"type\":\"User\",\"events_url\":\"https://api.github.com/users/Herna1994/events{/privacy}\",\"avatar_url\":\"https://avatars.githubusercontent.com/u/5259277?v=3\",\"followers_url\":\"https://api.github.com/users/Herna1994/followers\"}'], id=3917519, login=u'PetSerVas')\n",
        "\n",
        "\n",
        "[u'{\"gists_url\":\"https://api.github.com/users/DamianEdwards/gists{/gist_id}\",\"organizations_url\":\"https://api.github.com/users/DamianEdwards/orgs\",\"gravatar_id\":\"\",\"url\":\"https://api.github.com/users/DamianEdwards\",\"repos_url\":\"https://api.github.com/users/DamianEdwards/repos\",\"received_events_url\":\"https://api.github.com/users/DamianEdwards/received_events\",\"id\":249088,\"following_url\":\"https://api.github.com/users/DamianEdwards/following{/other_user}\",\"site_admin\":false,\"subscriptions_url\":\"https://api.github.com/users/DamianEdwards/subscriptions\",\"starred_url\":\"https://api.github.com/users/DamianEdwards/starred{/owner}{/repo}\",\"html_url\":\"https://github.com/DamianEdwards\",\"login\":\"DamianEdwards\",\"type\":\"User\",\"events_url\":\"https://api.github.com/users/DamianEdwards/events{/privacy}\",\"avatar_url\":\"https://avatars.githubusercontent.com/u/249088?v=3\",\"followers_url\":\"https://api.github.com/users/DamianEdwards/followers\"}', u'{\"gists_url\":\"https://api.github.com/users/ivan19871002/gists{/gist_id}\",\"organizations_url\":\"https://api.github.com/users/ivan19871002/orgs\",\"gravatar_id\":\"\",\"url\":\"https://api.github.com/users/ivan19871002\",\"repos_url\":\"https://api.github.com/users/ivan19871002/repos\",\"received_events_url\":\"https://api.github.com/users/ivan19871002/received_events\",\"id\":836387,\"following_url\":\"https://api.github.com/users/ivan19871002/following{/other_user}\",\"site_admin\":false,\"subscriptions_url\":\"https://api.github.com/users/ivan19871002/subscriptions\",\"starred_url\":\"https://api.github.com/users/ivan19871002/starred{/owner}{/repo}\",\"html_url\":\"https://github.com/ivan19871002\",\"login\":\"ivan19871002\",\"type\":\"User\",\"events_url\":\"https://api.github.com/users/ivan19871002/events{/privacy}\",\"avatar_url\":\"https://avatars.githubusercontent.com/u/836387?v=3\",\"followers_url\":\"https://api.github.com/users/ivan19871002/followers\"}', u'{\"gists_url\":\"https://api.github.com/users/Herna1994/gists{/gist_id}\",\"organizations_url\":\"https://api.github.com/users/Herna1994/orgs\",\"gravatar_id\":\"\",\"url\":\"https://api.github.com/users/Herna1994\",\"repos_url\":\"https://api.github.com/users/Herna1994/repos\",\"received_events_url\":\"https://api.github.com/users/Herna1994/received_events\",\"id\":5259277,\"following_url\":\"https://api.github.com/users/Herna1994/following{/other_user}\",\"site_admin\":false,\"subscriptions_url\":\"https://api.github.com/users/Herna1994/subscriptions\",\"starred_url\":\"https://api.github.com/users/Herna1994/starred{/owner}{/repo}\",\"html_url\":\"https://github.com/Herna1994\",\"login\":\"Herna1994\",\"type\":\"User\",\"events_url\":\"https://api.github.com/users/Herna1994/events{/privacy}\",\"avatar_url\":\"https://avatars.githubusercontent.com/u/5259277?v=3\",\"followers_url\":\"https://api.github.com/users/Herna1994/followers\"}']\n",
        "\n",
        "\n",
        "{\"gists_url\":\"https://api.github.com/users/DamianEdwards/gists{/gist_id}\",\"organizations_url\":\"https://api.github.com/users/DamianEdwards/orgs\",\"gravatar_id\":\"\",\"url\":\"https://api.github.com/users/DamianEdwards\",\"repos_url\":\"https://api.github.com/users/DamianEdwards/repos\",\"received_events_url\":\"https://api.github.com/users/DamianEdwards/received_events\",\"id\":249088,\"following_url\":\"https://api.github.com/users/DamianEdwards/following{/other_user}\",\"site_admin\":false,\"subscriptions_url\":\"https://api.github.com/users/DamianEdwards/subscriptions\",\"starred_url\":\"https://api.github.com/users/DamianEdwards/starred{/owner}{/repo}\",\"html_url\":\"https://github.com/DamianEdwards\",\"login\":\"DamianEdwards\",\"type\":\"User\",\"events_url\":\"https://api.github.com/users/DamianEdwards/events{/privacy}\",\"avatar_url\":\"https://avatars.githubusercontent.com/u/249088?v=3\",\"followers_url\":\"https://api.github.com/users/DamianEdwards/followers\"}\n",
        "<type 'unicode'>\n",
        "\n",
        "\n",
        "<type 'dict'>\n",
        "DamianEdwards\n"
       ]
      }
     ],
     "prompt_number": 25
    },
    {
     "cell_type": "code",
     "collapsed": false,
     "input": [
      "r = df3.filter('login=\"PetSerVas\"')\n",
      "rf = r.first()\n",
      "f = rf.following\n",
      "k = [json.loads(x)['login'] if len(f)>0 else f for x in f]"
     ],
     "language": "python",
     "metadata": {},
     "outputs": [],
     "prompt_number": 44
    },
    {
     "cell_type": "code",
     "collapsed": false,
     "input": [
      "print len(f)"
     ],
     "language": "python",
     "metadata": {},
     "outputs": [
      {
       "output_type": "stream",
       "stream": "stdout",
       "text": [
        "3\n"
       ]
      }
     ],
     "prompt_number": 46
    },
    {
     "cell_type": "code",
     "collapsed": false,
     "input": [],
     "language": "python",
     "metadata": {},
     "outputs": [
      {
       "output_type": "stream",
       "stream": "stdout",
       "text": [
        "following            id      login          \n",
        "ArrayBuffer()        903512  Jakubzik       \n",
        "ArrayBuffer()        903513  vietord        \n",
        "ArrayBuffer()        903514  dheat1         \n",
        "ArrayBuffer()        903515  sltcavalcante  \n",
        "ArrayBuffer()        903516  Gecko136       \n",
        "ArrayBuffer()        903517  yennaji-wgen   \n",
        "ArrayBuffer()        903518  LOSANG         \n",
        "ArrayBuffer({\"gis... 903519  adawsonfullsail\n",
        "ArrayBuffer()        903520  popt4rt        \n",
        "ArrayBuffer()        903521  mjgordon       \n",
        "ArrayBuffer()        1077832 mcvisto87      \n",
        "ArrayBuffer()        1077833 DStu-dominion  \n",
        "ArrayBuffer()        1077834 gasuuu         \n",
        "ArrayBuffer({\"gis... 1077835 abilondias     \n",
        "ArrayBuffer()        1077836 axsunicom      \n",
        "ArrayBuffer()        1077837 ken1802        \n",
        "ArrayBuffer()        1077838 ferixinaga     \n",
        "ArrayBuffer()        1077839 aneeshnainani  \n",
        "ArrayBuffer()        1077840 xikii          \n",
        "ArrayBuffer()        1077841 acekiller0818  \n"
       ]
      }
     ],
     "prompt_number": 26
    },
    {
     "cell_type": "code",
     "collapsed": false,
     "input": [
      "r = df4.filter('login=\"adawsonfullsail\"')\n",
      "print r\n",
      "rf = r.first()\n",
      "print rf\n",
      "f = rf.following\n",
      "print \"\\n\"\n",
      "print f\n",
      "type(f)\n",
      "len(f)\n",
      "print \"\\n\"\n",
      "print f[0]\n",
      "print type(f[0])\n",
      "import json\n",
      "j = json.loads(f[0])\n",
      "print \"\\n\"\n",
      "print type(j)\n",
      "print j['login']"
     ],
     "language": "python",
     "metadata": {},
     "outputs": [
      {
       "output_type": "stream",
       "stream": "stdout",
       "text": [
        "DataFrame[following: array<string>, id: bigint, login: string]\n",
        "Row(following=[u'{\"gists_url\":\"https://api.github.com/users/bhofer/gists{/gist_id}\",\"organizations_url\":\"https://api.github.com/users/bhofer/orgs\",\"gravatar_id\":\"\",\"url\":\"https://api.github.com/users/bhofer\",\"repos_url\":\"https://api.github.com/users/bhofer/repos\",\"received_events_url\":\"https://api.github.com/users/bhofer/received_events\",\"id\":1240239,\"following_url\":\"https://api.github.com/users/bhofer/following{/other_user}\",\"site_admin\":false,\"subscriptions_url\":\"https://api.github.com/users/bhofer/subscriptions\",\"starred_url\":\"https://api.github.com/users/bhofer/starred{/owner}{/repo}\",\"html_url\":\"https://github.com/bhofer\",\"login\":\"bhofer\",\"type\":\"User\",\"events_url\":\"https://api.github.com/users/bhofer/events{/privacy}\",\"avatar_url\":\"https://avatars.githubusercontent.com/u/1240239?v=3\",\"followers_url\":\"https://api.github.com/users/bhofer/followers\"}', u'{\"gists_url\":\"https://api.github.com/users/mtr8667/gists{/gist_id}\",\"organizations_url\":\"https://api.github.com/users/mtr8667/orgs\",\"gravatar_id\":\"\",\"url\":\"https://api.github.com/users/mtr8667\",\"repos_url\":\"https://api.github.com/users/mtr8667/repos\",\"received_events_url\":\"https://api.github.com/users/mtr8667/received_events\",\"id\":1505067,\"following_url\":\"https://api.github.com/users/mtr8667/following{/other_user}\",\"site_admin\":false,\"subscriptions_url\":\"https://api.github.com/users/mtr8667/subscriptions\",\"starred_url\":\"https://api.github.com/users/mtr8667/starred{/owner}{/repo}\",\"html_url\":\"https://github.com/mtr8667\",\"login\":\"mtr8667\",\"type\":\"User\",\"events_url\":\"https://api.github.com/users/mtr8667/events{/privacy}\",\"avatar_url\":\"https://avatars.githubusercontent.com/u/1505067?v=3\",\"followers_url\":\"https://api.github.com/users/mtr8667/followers\"}', u'{\"gists_url\":\"https://api.github.com/users/ekristian/gists{/gist_id}\",\"organizations_url\":\"https://api.github.com/users/ekristian/orgs\",\"gravatar_id\":\"\",\"url\":\"https://api.github.com/users/ekristian\",\"repos_url\":\"https://api.github.com/users/ekristian/repos\",\"received_events_url\":\"https://api.github.com/users/ekristian/received_events\",\"id\":1704042,\"following_url\":\"https://api.github.com/users/ekristian/following{/other_user}\",\"site_admin\":false,\"subscriptions_url\":\"https://api.github.com/users/ekristian/subscriptions\",\"starred_url\":\"https://api.github.com/users/ekristian/starred{/owner}{/repo}\",\"html_url\":\"https://github.com/ekristian\",\"login\":\"ekristian\",\"type\":\"User\",\"events_url\":\"https://api.github.com/users/ekristian/events{/privacy}\",\"avatar_url\":\"https://avatars.githubusercontent.com/u/1704042?v=3\",\"followers_url\":\"https://api.github.com/users/ekristian/followers\"}', u'{\"gists_url\":\"https://api.github.com/users/jbentley313/gists{/gist_id}\",\"organizations_url\":\"https://api.github.com/users/jbentley313/orgs\",\"gravatar_id\":\"\",\"url\":\"https://api.github.com/users/jbentley313\",\"repos_url\":\"https://api.github.com/users/jbentley313/repos\",\"received_events_url\":\"https://api.github.com/users/jbentley313/received_events\",\"id\":1706993,\"following_url\":\"https://api.github.com/users/jbentley313/following{/other_user}\",\"site_admin\":false,\"subscriptions_url\":\"https://api.github.com/users/jbentley313/subscriptions\",\"starred_url\":\"https://api.github.com/users/jbentley313/starred{/owner}{/repo}\",\"html_url\":\"https://github.com/jbentley313\",\"login\":\"jbentley313\",\"type\":\"User\",\"events_url\":\"https://api.github.com/users/jbentley313/events{/privacy}\",\"avatar_url\":\"https://avatars.githubusercontent.com/u/1706993?v=3\",\"followers_url\":\"https://api.github.com/users/jbentley313/followers\"}', u'{\"gists_url\":\"https://api.github.com/users/lswitzer/gists{/gist_id}\",\"organizations_url\":\"https://api.github.com/users/lswitzer/orgs\",\"gravatar_id\":\"\",\"url\":\"https://api.github.com/users/lswitzer\",\"repos_url\":\"https://api.github.com/users/lswitzer/repos\",\"received_events_url\":\"https://api.github.com/users/lswitzer/received_events\",\"id\":1909937,\"following_url\":\"https://api.github.com/users/lswitzer/following{/other_user}\",\"site_admin\":false,\"subscriptions_url\":\"https://api.github.com/users/lswitzer/subscriptions\",\"starred_url\":\"https://api.github.com/users/lswitzer/starred{/owner}{/repo}\",\"html_url\":\"https://github.com/lswitzer\",\"login\":\"lswitzer\",\"type\":\"User\",\"events_url\":\"https://api.github.com/users/lswitzer/events{/privacy}\",\"avatar_url\":\"https://avatars.githubusercontent.com/u/1909937?v=3\",\"followers_url\":\"https://api.github.com/users/lswitzer/followers\"}', u'{\"gists_url\":\"https://api.github.com/users/chrisvarble/gists{/gist_id}\",\"organizations_url\":\"https://api.github.com/users/chrisvarble/orgs\",\"gravatar_id\":\"\",\"url\":\"https://api.github.com/users/chrisvarble\",\"repos_url\":\"https://api.github.com/users/chrisvarble/repos\",\"received_events_url\":\"https://api.github.com/users/chrisvarble/received_events\",\"id\":2095249,\"following_url\":\"https://api.github.com/users/chrisvarble/following{/other_user}\",\"site_admin\":false,\"subscriptions_url\":\"https://api.github.com/users/chrisvarble/subscriptions\",\"starred_url\":\"https://api.github.com/users/chrisvarble/starred{/owner}{/repo}\",\"html_url\":\"https://github.com/chrisvarble\",\"login\":\"chrisvarble\",\"type\":\"User\",\"events_url\":\"https://api.github.com/users/chrisvarble/events{/privacy}\",\"avatar_url\":\"https://avatars.githubusercontent.com/u/2095249?v=3\",\"followers_url\":\"https://api.github.com/users/chrisvarble/followers\"}', u'{\"gists_url\":\"https://api.github.com/users/brandonmackey/gists{/gist_id}\",\"organizations_url\":\"https://api.github.com/users/brandonmackey/orgs\",\"gravatar_id\":\"\",\"url\":\"https://api.github.com/users/brandonmackey\",\"repos_url\":\"https://api.github.com/users/brandonmackey/repos\",\"received_events_url\":\"https://api.github.com/users/brandonmackey/received_events\",\"id\":2105182,\"following_url\":\"https://api.github.com/users/brandonmackey/following{/other_user}\",\"site_admin\":false,\"subscriptions_url\":\"https://api.github.com/users/brandonmackey/subscriptions\",\"starred_url\":\"https://api.github.com/users/brandonmackey/starred{/owner}{/repo}\",\"html_url\":\"https://github.com/brandonmackey\",\"login\":\"brandonmackey\",\"type\":\"User\",\"events_url\":\"https://api.github.com/users/brandonmackey/events{/privacy}\",\"avatar_url\":\"https://avatars.githubusercontent.com/u/2105182?v=3\",\"followers_url\":\"https://api.github.com/users/brandonmackey/followers\"}', u'{\"gists_url\":\"https://api.github.com/users/tfreeman82/gists{/gist_id}\",\"organizations_url\":\"https://api.github.com/users/tfreeman82/orgs\",\"gravatar_id\":\"\",\"url\":\"https://api.github.com/users/tfreeman82\",\"repos_url\":\"https://api.github.com/users/tfreeman82/repos\",\"received_events_url\":\"https://api.github.com/users/tfreeman82/received_events\",\"id\":2231431,\"following_url\":\"https://api.github.com/users/tfreeman82/following{/other_user}\",\"site_admin\":false,\"subscriptions_url\":\"https://api.github.com/users/tfreeman82/subscriptions\",\"starred_url\":\"https://api.github.com/users/tfreeman82/starred{/owner}{/repo}\",\"html_url\":\"https://github.com/tfreeman82\",\"login\":\"tfreeman82\",\"type\":\"User\",\"events_url\":\"https://api.github.com/users/tfreeman82/events{/privacy}\",\"avatar_url\":\"https://avatars.githubusercontent.com/u/2231431?v=3\",\"followers_url\":\"https://api.github.com/users/tfreeman82/followers\"}', u'{\"gists_url\":\"https://api.github.com/users/woolardjason/gists{/gist_id}\",\"organizations_url\":\"https://api.github.com/users/woolardjason/orgs\",\"gravatar_id\":\"\",\"url\":\"https://api.github.com/users/woolardjason\",\"repos_url\":\"https://api.github.com/users/woolardjason/repos\",\"received_events_url\":\"https://api.github.com/users/woolardjason/received_events\",\"id\":2288780,\"following_url\":\"https://api.github.com/users/woolardjason/following{/other_user}\",\"site_admin\":false,\"subscriptions_url\":\"https://api.github.com/users/woolardjason/subscriptions\",\"starred_url\":\"https://api.github.com/users/woolardjason/starred{/owner}{/repo}\",\"html_url\":\"https://github.com/woolardjason\",\"login\":\"woolardjason\",\"type\":\"User\",\"events_url\":\"https://api.github.com/users/woolardjason/events{/privacy}\",\"avatar_url\":\"https://avatars.githubusercontent.com/u/2288780?v=3\",\"followers_url\":\"https://api.github.com/users/woolardjason/followers\"}', u'{\"gists_url\":\"https://api.github.com/users/dorkettechicky/gists{/gist_id}\",\"organizations_url\":\"https://api.github.com/users/dorkettechicky/orgs\",\"gravatar_id\":\"\",\"url\":\"https://api.github.com/users/dorkettechicky\",\"repos_url\":\"https://api.github.com/users/dorkettechicky/repos\",\"received_events_url\":\"https://api.github.com/users/dorkettechicky/received_events\",\"id\":3128326,\"following_url\":\"https://api.github.com/users/dorkettechicky/following{/other_user}\",\"site_admin\":false,\"subscriptions_url\":\"https://api.github.com/users/dorkettechicky/subscriptions\",\"starred_url\":\"https://api.github.com/users/dorkettechicky/starred{/owner}{/repo}\",\"html_url\":\"https://github.com/dorkettechicky\",\"login\":\"dorkettechicky\",\"type\":\"User\",\"events_url\":\"https://api.github.com/users/dorkettechicky/events{/privacy}\",\"avatar_url\":\"https://avatars.githubusercontent.com/u/3128326?v=3\",\"followers_url\":\"https://api.github.com/users/dorkettechicky/followers\"}'], id=903519, login=u'adawsonfullsail')"
       ]
      },
      {
       "output_type": "stream",
       "stream": "stdout",
       "text": [
        "\n",
        "\n",
        "\n",
        "[u'{\"gists_url\":\"https://api.github.com/users/bhofer/gists{/gist_id}\",\"organizations_url\":\"https://api.github.com/users/bhofer/orgs\",\"gravatar_id\":\"\",\"url\":\"https://api.github.com/users/bhofer\",\"repos_url\":\"https://api.github.com/users/bhofer/repos\",\"received_events_url\":\"https://api.github.com/users/bhofer/received_events\",\"id\":1240239,\"following_url\":\"https://api.github.com/users/bhofer/following{/other_user}\",\"site_admin\":false,\"subscriptions_url\":\"https://api.github.com/users/bhofer/subscriptions\",\"starred_url\":\"https://api.github.com/users/bhofer/starred{/owner}{/repo}\",\"html_url\":\"https://github.com/bhofer\",\"login\":\"bhofer\",\"type\":\"User\",\"events_url\":\"https://api.github.com/users/bhofer/events{/privacy}\",\"avatar_url\":\"https://avatars.githubusercontent.com/u/1240239?v=3\",\"followers_url\":\"https://api.github.com/users/bhofer/followers\"}', u'{\"gists_url\":\"https://api.github.com/users/mtr8667/gists{/gist_id}\",\"organizations_url\":\"https://api.github.com/users/mtr8667/orgs\",\"gravatar_id\":\"\",\"url\":\"https://api.github.com/users/mtr8667\",\"repos_url\":\"https://api.github.com/users/mtr8667/repos\",\"received_events_url\":\"https://api.github.com/users/mtr8667/received_events\",\"id\":1505067,\"following_url\":\"https://api.github.com/users/mtr8667/following{/other_user}\",\"site_admin\":false,\"subscriptions_url\":\"https://api.github.com/users/mtr8667/subscriptions\",\"starred_url\":\"https://api.github.com/users/mtr8667/starred{/owner}{/repo}\",\"html_url\":\"https://github.com/mtr8667\",\"login\":\"mtr8667\",\"type\":\"User\",\"events_url\":\"https://api.github.com/users/mtr8667/events{/privacy}\",\"avatar_url\":\"https://avatars.githubusercontent.com/u/1505067?v=3\",\"followers_url\":\"https://api.github.com/users/mtr8667/followers\"}', u'{\"gists_url\":\"https://api.github.com/users/ekristian/gists{/gist_id}\",\"organizations_url\":\"https://api.github.com/users/ekristian/orgs\",\"gravatar_id\":\"\",\"url\":\"https://api.github.com/users/ekristian\",\"repos_url\":\"https://api.github.com/users/ekristian/repos\",\"received_events_url\":\"https://api.github.com/users/ekristian/received_events\",\"id\":1704042,\"following_url\":\"https://api.github.com/users/ekristian/following{/other_user}\",\"site_admin\":false,\"subscriptions_url\":\"https://api.github.com/users/ekristian/subscriptions\",\"starred_url\":\"https://api.github.com/users/ekristian/starred{/owner}{/repo}\",\"html_url\":\"https://github.com/ekristian\",\"login\":\"ekristian\",\"type\":\"User\",\"events_url\":\"https://api.github.com/users/ekristian/events{/privacy}\",\"avatar_url\":\"https://avatars.githubusercontent.com/u/1704042?v=3\",\"followers_url\":\"https://api.github.com/users/ekristian/followers\"}', u'{\"gists_url\":\"https://api.github.com/users/jbentley313/gists{/gist_id}\",\"organizations_url\":\"https://api.github.com/users/jbentley313/orgs\",\"gravatar_id\":\"\",\"url\":\"https://api.github.com/users/jbentley313\",\"repos_url\":\"https://api.github.com/users/jbentley313/repos\",\"received_events_url\":\"https://api.github.com/users/jbentley313/received_events\",\"id\":1706993,\"following_url\":\"https://api.github.com/users/jbentley313/following{/other_user}\",\"site_admin\":false,\"subscriptions_url\":\"https://api.github.com/users/jbentley313/subscriptions\",\"starred_url\":\"https://api.github.com/users/jbentley313/starred{/owner}{/repo}\",\"html_url\":\"https://github.com/jbentley313\",\"login\":\"jbentley313\",\"type\":\"User\",\"events_url\":\"https://api.github.com/users/jbentley313/events{/privacy}\",\"avatar_url\":\"https://avatars.githubusercontent.com/u/1706993?v=3\",\"followers_url\":\"https://api.github.com/users/jbentley313/followers\"}', u'{\"gists_url\":\"https://api.github.com/users/lswitzer/gists{/gist_id}\",\"organizations_url\":\"https://api.github.com/users/lswitzer/orgs\",\"gravatar_id\":\"\",\"url\":\"https://api.github.com/users/lswitzer\",\"repos_url\":\"https://api.github.com/users/lswitzer/repos\",\"received_events_url\":\"https://api.github.com/users/lswitzer/received_events\",\"id\":1909937,\"following_url\":\"https://api.github.com/users/lswitzer/following{/other_user}\",\"site_admin\":false,\"subscriptions_url\":\"https://api.github.com/users/lswitzer/subscriptions\",\"starred_url\":\"https://api.github.com/users/lswitzer/starred{/owner}{/repo}\",\"html_url\":\"https://github.com/lswitzer\",\"login\":\"lswitzer\",\"type\":\"User\",\"events_url\":\"https://api.github.com/users/lswitzer/events{/privacy}\",\"avatar_url\":\"https://avatars.githubusercontent.com/u/1909937?v=3\",\"followers_url\":\"https://api.github.com/users/lswitzer/followers\"}', u'{\"gists_url\":\"https://api.github.com/users/chrisvarble/gists{/gist_id}\",\"organizations_url\":\"https://api.github.com/users/chrisvarble/orgs\",\"gravatar_id\":\"\",\"url\":\"https://api.github.com/users/chrisvarble\",\"repos_url\":\"https://api.github.com/users/chrisvarble/repos\",\"received_events_url\":\"https://api.github.com/users/chrisvarble/received_events\",\"id\":2095249,\"following_url\":\"https://api.github.com/users/chrisvarble/following{/other_user}\",\"site_admin\":false,\"subscriptions_url\":\"https://api.github.com/users/chrisvarble/subscriptions\",\"starred_url\":\"https://api.github.com/users/chrisvarble/starred{/owner}{/repo}\",\"html_url\":\"https://github.com/chrisvarble\",\"login\":\"chrisvarble\",\"type\":\"User\",\"events_url\":\"https://api.github.com/users/chrisvarble/events{/privacy}\",\"avatar_url\":\"https://avatars.githubusercontent.com/u/2095249?v=3\",\"followers_url\":\"https://api.github.com/users/chrisvarble/followers\"}', u'{\"gists_url\":\"https://api.github.com/users/brandonmackey/gists{/gist_id}\",\"organizations_url\":\"https://api.github.com/users/brandonmackey/orgs\",\"gravatar_id\":\"\",\"url\":\"https://api.github.com/users/brandonmackey\",\"repos_url\":\"https://api.github.com/users/brandonmackey/repos\",\"received_events_url\":\"https://api.github.com/users/brandonmackey/received_events\",\"id\":2105182,\"following_url\":\"https://api.github.com/users/brandonmackey/following{/other_user}\",\"site_admin\":false,\"subscriptions_url\":\"https://api.github.com/users/brandonmackey/subscriptions\",\"starred_url\":\"https://api.github.com/users/brandonmackey/starred{/owner}{/repo}\",\"html_url\":\"https://github.com/brandonmackey\",\"login\":\"brandonmackey\",\"type\":\"User\",\"events_url\":\"https://api.github.com/users/brandonmackey/events{/privacy}\",\"avatar_url\":\"https://avatars.githubusercontent.com/u/2105182?v=3\",\"followers_url\":\"https://api.github.com/users/brandonmackey/followers\"}', u'{\"gists_url\":\"https://api.github.com/users/tfreeman82/gists{/gist_id}\",\"organizations_url\":\"https://api.github.com/users/tfreeman82/orgs\",\"gravatar_id\":\"\",\"url\":\"https://api.github.com/users/tfreeman82\",\"repos_url\":\"https://api.github.com/users/tfreeman82/repos\",\"received_events_url\":\"https://api.github.com/users/tfreeman82/received_events\",\"id\":2231431,\"following_url\":\"https://api.github.com/users/tfreeman82/following{/other_user}\",\"site_admin\":false,\"subscriptions_url\":\"https://api.github.com/users/tfreeman82/subscriptions\",\"starred_url\":\"https://api.github.com/users/tfreeman82/starred{/owner}{/repo}\",\"html_url\":\"https://github.com/tfreeman82\",\"login\":\"tfreeman82\",\"type\":\"User\",\"events_url\":\"https://api.github.com/users/tfreeman82/events{/privacy}\",\"avatar_url\":\"https://avatars.githubusercontent.com/u/2231431?v=3\",\"followers_url\":\"https://api.github.com/users/tfreeman82/followers\"}', u'{\"gists_url\":\"https://api.github.com/users/woolardjason/gists{/gist_id}\",\"organizations_url\":\"https://api.github.com/users/woolardjason/orgs\",\"gravatar_id\":\"\",\"url\":\"https://api.github.com/users/woolardjason\",\"repos_url\":\"https://api.github.com/users/woolardjason/repos\",\"received_events_url\":\"https://api.github.com/users/woolardjason/received_events\",\"id\":2288780,\"following_url\":\"https://api.github.com/users/woolardjason/following{/other_user}\",\"site_admin\":false,\"subscriptions_url\":\"https://api.github.com/users/woolardjason/subscriptions\",\"starred_url\":\"https://api.github.com/users/woolardjason/starred{/owner}{/repo}\",\"html_url\":\"https://github.com/woolardjason\",\"login\":\"woolardjason\",\"type\":\"User\",\"events_url\":\"https://api.github.com/users/woolardjason/events{/privacy}\",\"avatar_url\":\"https://avatars.githubusercontent.com/u/2288780?v=3\",\"followers_url\":\"https://api.github.com/users/woolardjason/followers\"}', u'{\"gists_url\":\"https://api.github.com/users/dorkettechicky/gists{/gist_id}\",\"organizations_url\":\"https://api.github.com/users/dorkettechicky/orgs\",\"gravatar_id\":\"\",\"url\":\"https://api.github.com/users/dorkettechicky\",\"repos_url\":\"https://api.github.com/users/dorkettechicky/repos\",\"received_events_url\":\"https://api.github.com/users/dorkettechicky/received_events\",\"id\":3128326,\"following_url\":\"https://api.github.com/users/dorkettechicky/following{/other_user}\",\"site_admin\":false,\"subscriptions_url\":\"https://api.github.com/users/dorkettechicky/subscriptions\",\"starred_url\":\"https://api.github.com/users/dorkettechicky/starred{/owner}{/repo}\",\"html_url\":\"https://github.com/dorkettechicky\",\"login\":\"dorkettechicky\",\"type\":\"User\",\"events_url\":\"https://api.github.com/users/dorkettechicky/events{/privacy}\",\"avatar_url\":\"https://avatars.githubusercontent.com/u/3128326?v=3\",\"followers_url\":\"https://api.github.com/users/dorkettechicky/followers\"}']\n",
        "\n",
        "\n",
        "{\"gists_url\":\"https://api.github.com/users/bhofer/gists{/gist_id}\",\"organizations_url\":\"https://api.github.com/users/bhofer/orgs\",\"gravatar_id\":\"\",\"url\":\"https://api.github.com/users/bhofer\",\"repos_url\":\"https://api.github.com/users/bhofer/repos\",\"received_events_url\":\"https://api.github.com/users/bhofer/received_events\",\"id\":1240239,\"following_url\":\"https://api.github.com/users/bhofer/following{/other_user}\",\"site_admin\":false,\"subscriptions_url\":\"https://api.github.com/users/bhofer/subscriptions\",\"starred_url\":\"https://api.github.com/users/bhofer/starred{/owner}{/repo}\",\"html_url\":\"https://github.com/bhofer\",\"login\":\"bhofer\",\"type\":\"User\",\"events_url\":\"https://api.github.com/users/bhofer/events{/privacy}\",\"avatar_url\":\"https://avatars.githubusercontent.com/u/1240239?v=3\",\"followers_url\":\"https://api.github.com/users/bhofer/followers\"}\n",
        "<type 'unicode'>\n",
        "\n",
        "\n",
        "<type 'dict'>\n",
        "bhofer\n"
       ]
      }
     ],
     "prompt_number": 30
    },
    {
     "cell_type": "code",
     "collapsed": false,
     "input": [
      "df5.show()"
     ],
     "language": "python",
     "metadata": {},
     "outputs": [
      {
       "output_type": "stream",
       "stream": "stdout",
       "text": [
        "following            id      login       \n",
        "ArrayBuffer()        5027222 PeterJcasey \n",
        "ArrayBuffer()        5027223 tonyavellana\n",
        "ArrayBuffer()        5027224 keepcoolwu  \n",
        "ArrayBuffer()        5027225 japanmass0  \n",
        "ArrayBuffer()        5027226 ICRadio     \n",
        "ArrayBuffer()        5027227 313406075   \n",
        "ArrayBuffer({\"gis... 5027228 ruslanakh   \n",
        "ArrayBuffer()        5027229 gsydonkey   \n",
        "ArrayBuffer()        5027230 nevaek      \n",
        "ArrayBuffer()        5027231 marvinarae  \n",
        "ArrayBuffer()        5027232 marvincasco \n",
        "ArrayBuffer()        5027233 huangchang  \n",
        "ArrayBuffer()        5027234 AyeLynn     \n",
        "ArrayBuffer()        5027235 liamcardenas\n",
        "ArrayBuffer()        5027236 noahx       \n",
        "ArrayBuffer()        5027237 ips3m9      \n",
        "ArrayBuffer()        5027238 huangjunfeng\n",
        "ArrayBuffer()        5027239 cristian828 \n",
        "ArrayBuffer()        5027240 TheClamFace \n",
        "ArrayBuffer()        5027241 cheryllium  \n"
       ]
      }
     ],
     "prompt_number": 32
    },
    {
     "cell_type": "code",
     "collapsed": false,
     "input": [
      "r = df5.filter('login=\"ruslanakh\"')\n",
      "print r\n",
      "rf = r.first()\n",
      "print rf\n",
      "f = rf.following\n",
      "print \"\\n\"\n",
      "print f\n",
      "print \"\\n\"\n",
      "type(f)\n",
      "print \"\\n\"\n",
      "len(f)\n",
      "print \"\\n\"\n",
      "print f[0]\n",
      "print type(f[0])\n",
      "import json\n",
      "j = json.loads(f[0])\n",
      "print \"\\n\"\n",
      "print type(j)\n",
      "print j['login']"
     ],
     "language": "python",
     "metadata": {},
     "outputs": [
      {
       "output_type": "stream",
       "stream": "stdout",
       "text": [
        "DataFrame[following: array<string>, id: bigint, login: string]\n",
        "Row(following=[u'{\"gists_url\":\"https://api.github.com/users/pablojim/gists{/gist_id}\",\"organizations_url\":\"https://api.github.com/users/pablojim/orgs\",\"gravatar_id\":\"\",\"url\":\"https://api.github.com/users/pablojim\",\"repos_url\":\"https://api.github.com/users/pablojim/repos\",\"received_events_url\":\"https://api.github.com/users/pablojim/received_events\",\"id\":683731,\"following_url\":\"https://api.github.com/users/pablojim/following{/other_user}\",\"site_admin\":false,\"subscriptions_url\":\"https://api.github.com/users/pablojim/subscriptions\",\"starred_url\":\"https://api.github.com/users/pablojim/starred{/owner}{/repo}\",\"html_url\":\"https://github.com/pablojim\",\"login\":\"pablojim\",\"type\":\"User\",\"events_url\":\"https://api.github.com/users/pablojim/events{/privacy}\",\"avatar_url\":\"https://avatars.githubusercontent.com/u/683731?v=3\",\"followers_url\":\"https://api.github.com/users/pablojim/followers\"}'], id=5027228, login=u'ruslanakh')"
       ]
      },
      {
       "output_type": "stream",
       "stream": "stdout",
       "text": [
        "\n",
        "\n",
        "\n",
        "[u'{\"gists_url\":\"https://api.github.com/users/pablojim/gists{/gist_id}\",\"organizations_url\":\"https://api.github.com/users/pablojim/orgs\",\"gravatar_id\":\"\",\"url\":\"https://api.github.com/users/pablojim\",\"repos_url\":\"https://api.github.com/users/pablojim/repos\",\"received_events_url\":\"https://api.github.com/users/pablojim/received_events\",\"id\":683731,\"following_url\":\"https://api.github.com/users/pablojim/following{/other_user}\",\"site_admin\":false,\"subscriptions_url\":\"https://api.github.com/users/pablojim/subscriptions\",\"starred_url\":\"https://api.github.com/users/pablojim/starred{/owner}{/repo}\",\"html_url\":\"https://github.com/pablojim\",\"login\":\"pablojim\",\"type\":\"User\",\"events_url\":\"https://api.github.com/users/pablojim/events{/privacy}\",\"avatar_url\":\"https://avatars.githubusercontent.com/u/683731?v=3\",\"followers_url\":\"https://api.github.com/users/pablojim/followers\"}']\n",
        "\n",
        "\n",
        "\n",
        "\n",
        "\n",
        "\n",
        "{\"gists_url\":\"https://api.github.com/users/pablojim/gists{/gist_id}\",\"organizations_url\":\"https://api.github.com/users/pablojim/orgs\",\"gravatar_id\":\"\",\"url\":\"https://api.github.com/users/pablojim\",\"repos_url\":\"https://api.github.com/users/pablojim/repos\",\"received_events_url\":\"https://api.github.com/users/pablojim/received_events\",\"id\":683731,\"following_url\":\"https://api.github.com/users/pablojim/following{/other_user}\",\"site_admin\":false,\"subscriptions_url\":\"https://api.github.com/users/pablojim/subscriptions\",\"starred_url\":\"https://api.github.com/users/pablojim/starred{/owner}{/repo}\",\"html_url\":\"https://github.com/pablojim\",\"login\":\"pablojim\",\"type\":\"User\",\"events_url\":\"https://api.github.com/users/pablojim/events{/privacy}\",\"avatar_url\":\"https://avatars.githubusercontent.com/u/683731?v=3\",\"followers_url\":\"https://api.github.com/users/pablojim/followers\"}\n",
        "<type 'unicode'>\n",
        "\n",
        "\n",
        "<type 'dict'>\n",
        "pablojim\n"
       ]
      }
     ],
     "prompt_number": 33
    },
    {
     "cell_type": "code",
     "collapsed": false,
     "input": [
      "df7.show()"
     ],
     "language": "python",
     "metadata": {},
     "outputs": [
      {
       "output_type": "stream",
       "stream": "stdout",
       "text": [
        "following            id      login             \n",
        "ArrayBuffer()        6075536 amjfon            \n",
        "ArrayBuffer()        6075537 michelcoulon      \n",
        "ArrayBuffer()        6075538 AitherIntegrations\n",
        "ArrayBuffer()        6075539 camilotm          \n",
        "ArrayBuffer([http... 6075540 killpigman        \n",
        "ArrayBuffer()        6075541 DavisM33          \n",
        "ArrayBuffer()        6075542 ProgramaHermes    \n",
        "ArrayBuffer()        6075543 feifel            \n",
        "ArrayBuffer()        6075544 Craigeh90         \n",
        "ArrayBuffer()        6075545 amirafroozeh      \n",
        "ArrayBuffer()        6075546 vijulp            \n",
        "ArrayBuffer()        6075547 outofluck         \n",
        "ArrayBuffer()        6075548 lew-tolstoi       \n",
        "ArrayBuffer([http... 6075549 Ricone            \n",
        "ArrayBuffer()        6075550 tonioc987         \n",
        "ArrayBuffer()        6075551 BettyRubble54     \n",
        "ArrayBuffer()        6075552 javierdelrio      \n",
        "ArrayBuffer([http... 6075553 Huntrr            \n",
        "ArrayBuffer()        6075554 PokemarioHDG      \n",
        "ArrayBuffer()        6075555 uplinkmx          \n"
       ]
      }
     ],
     "prompt_number": 34
    },
    {
     "cell_type": "code",
     "collapsed": false,
     "input": [
      "df7.show()"
     ],
     "language": "python",
     "metadata": {},
     "outputs": [
      {
       "output_type": "stream",
       "stream": "stdout",
       "text": [
        "following            id      login             \n",
        "ArrayBuffer()        6075536 amjfon            \n",
        "ArrayBuffer()        6075537 michelcoulon      \n",
        "ArrayBuffer()        6075538 AitherIntegrations\n",
        "ArrayBuffer()        6075539 camilotm          \n",
        "ArrayBuffer([http... 6075540 killpigman        \n",
        "ArrayBuffer()        6075541 DavisM33          \n",
        "ArrayBuffer()        6075542 ProgramaHermes    \n",
        "ArrayBuffer()        6075543 feifel            \n",
        "ArrayBuffer()        6075544 Craigeh90         \n",
        "ArrayBuffer()        6075545 amirafroozeh      \n",
        "ArrayBuffer()        6075546 vijulp            \n",
        "ArrayBuffer()        6075547 outofluck         \n",
        "ArrayBuffer()        6075548 lew-tolstoi       \n",
        "ArrayBuffer([http... 6075549 Ricone            \n",
        "ArrayBuffer()        6075550 tonioc987         \n",
        "ArrayBuffer()        6075551 BettyRubble54     \n",
        "ArrayBuffer()        6075552 javierdelrio      \n",
        "ArrayBuffer([http... 6075553 Huntrr            \n",
        "ArrayBuffer()        6075554 PokemarioHDG      \n",
        "ArrayBuffer()        6075555 uplinkmx          \n"
       ]
      }
     ],
     "prompt_number": 50
    },
    {
     "cell_type": "code",
     "collapsed": false,
     "input": [
      "r = df7.filter('login=\"killpigman\"')\n",
      "print r\n",
      "rf = r.first()\n",
      "print \"\\n\"\n",
      "print rf.following\n",
      "f = rf.following\n",
      "print \"\\n\"\n",
      "print f[0].login"
     ],
     "language": "python",
     "metadata": {},
     "outputs": [
      {
       "output_type": "stream",
       "stream": "stdout",
       "text": [
        "DataFrame[following: array<struct<avatar_url:string,events_url:string,followers_url:string,following_url:string,gists_url:string,gravatar_id:string,html_url:string,id:bigint,login:string,organizations_url:string,received_events_url:string,repos_url:string,site_admin:boolean,starred_url:string,subscriptions_url:string,type:string,url:string>>, id: bigint, login: string]\n",
        "\n"
       ]
      },
      {
       "output_type": "stream",
       "stream": "stdout",
       "text": [
        "\n",
        "[Row(avatar_url=u'https://avatars.githubusercontent.com/u/2127912?v=3', events_url=u'https://api.github.com/users/johnlui/events{/privacy}', followers_url=u'https://api.github.com/users/johnlui/followers', following_url=u'https://api.github.com/users/johnlui/following{/other_user}', gists_url=u'https://api.github.com/users/johnlui/gists{/gist_id}', gravatar_id=u'', html_url=u'https://github.com/johnlui', id=2127912, login=u'johnlui', organizations_url=u'https://api.github.com/users/johnlui/orgs', received_events_url=u'https://api.github.com/users/johnlui/received_events', repos_url=u'https://api.github.com/users/johnlui/repos', site_admin=False, starred_url=u'https://api.github.com/users/johnlui/starred{/owner}{/repo}', subscriptions_url=u'https://api.github.com/users/johnlui/subscriptions', type=u'User', url=u'https://api.github.com/users/johnlui'), Row(avatar_url=u'https://avatars.githubusercontent.com/u/5622734?v=3', events_url=u'https://api.github.com/users/woooowen/events{/privacy}', followers_url=u'https://api.github.com/users/woooowen/followers', following_url=u'https://api.github.com/users/woooowen/following{/other_user}', gists_url=u'https://api.github.com/users/woooowen/gists{/gist_id}', gravatar_id=u'', html_url=u'https://github.com/woooowen', id=5622734, login=u'woooowen', organizations_url=u'https://api.github.com/users/woooowen/orgs', received_events_url=u'https://api.github.com/users/woooowen/received_events', repos_url=u'https://api.github.com/users/woooowen/repos', site_admin=False, starred_url=u'https://api.github.com/users/woooowen/starred{/owner}{/repo}', subscriptions_url=u'https://api.github.com/users/woooowen/subscriptions', type=u'User', url=u'https://api.github.com/users/woooowen')]\n",
        "\n",
        "\n",
        "johnlui\n"
       ]
      }
     ],
     "prompt_number": 40
    },
    {
     "cell_type": "code",
     "collapsed": false,
     "input": [
      "r2 = df2.first()"
     ],
     "language": "python",
     "metadata": {},
     "outputs": [],
     "prompt_number": 39
    },
    {
     "cell_type": "code",
     "collapsed": false,
     "input": [
      "r1"
     ],
     "language": "python",
     "metadata": {},
     "outputs": [
      {
       "metadata": {},
       "output_type": "pyout",
       "prompt_number": 40,
       "text": [
        "Row(following=[], id=1710111, login=u'sashiks1009')"
       ]
      }
     ],
     "prompt_number": 40
    },
    {
     "cell_type": "code",
     "collapsed": false,
     "input": [
      "r2"
     ],
     "language": "python",
     "metadata": {},
     "outputs": [
      {
       "metadata": {},
       "output_type": "pyout",
       "prompt_number": 41,
       "text": [
        "Row(following=[], id=1080903, login=u'finnissy')"
       ]
      }
     ],
     "prompt_number": 41
    },
    {
     "cell_type": "code",
     "collapsed": false,
     "input": [
      "df1.show()"
     ],
     "language": "python",
     "metadata": {},
     "outputs": [
      {
       "output_type": "stream",
       "stream": "stdout",
       "text": [
        "following            id      login        \n",
        "ArrayBuffer()        1710111 sashiks1009  \n",
        "ArrayBuffer()        1710112 tim524151    \n",
        "ArrayBuffer()        1710113 kTangiblez   \n",
        "ArrayBuffer(Array... 1710114 diogodadalt  \n",
        "ArrayBuffer(Array... 1710115 innparusu95  \n",
        "ArrayBuffer()        1710116 ekopriyo     \n",
        "ArrayBuffer()        1710117 binduvijayan \n",
        "ArrayBuffer(Array... 1710119 waynell      \n",
        "ArrayBuffer()        1710120 Thordan      \n",
        "ArrayBuffer(Array... 1710121 joelrebel    \n",
        "ArrayBuffer()        1710122 ssdan        \n",
        "ArrayBuffer()        1710123 MrDjHaster   \n",
        "ArrayBuffer()        1710124 rainbowB0y   \n",
        "ArrayBuffer()        1710125 pallet-racks \n",
        "ArrayBuffer()        1710126 bruce-rfi    \n",
        "ArrayBuffer()        1710127 ghanizadeh   \n",
        "ArrayBuffer(Array... 1710128 quiqueg      \n",
        "ArrayBuffer()        1710129 shutdownmouse\n",
        "ArrayBuffer()        1710130 haibop       \n",
        "ArrayBuffer()        1710131 tautvas      \n"
       ]
      }
     ],
     "prompt_number": 42
    },
    {
     "cell_type": "code",
     "collapsed": false,
     "input": [
      "df2.show()"
     ],
     "language": "python",
     "metadata": {},
     "outputs": [
      {
       "output_type": "stream",
       "stream": "stdout",
       "text": [
        "following            id      login          \n",
        "ArrayBuffer()        1080903 finnissy       \n",
        "ArrayBuffer()        1080904 sushantl       \n",
        "ArrayBuffer()        1080905 Nedox          \n",
        "ArrayBuffer()        1080907 lombardi81     \n",
        "ArrayBuffer({\"gis... 1080908 aravindhsampath\n",
        "ArrayBuffer()        1080909 pacificpaudel  \n",
        "ArrayBuffer()        1080910 knm-deploy     \n",
        "ArrayBuffer()        1080911 NordicWare     \n",
        "ArrayBuffer()        1080912 912wojtek      \n",
        "ArrayBuffer()        1080913 kmoylan        \n",
        "ArrayBuffer()        1080914 rmotta         \n",
        "ArrayBuffer()        1080915 uplekar        \n",
        "ArrayBuffer({\"gis... 1080916 DAUTMarcin     \n",
        "ArrayBuffer({\"gis... 1080917 Theodosis      \n",
        "ArrayBuffer()        1080918 DexterJKim     \n",
        "ArrayBuffer()        1080919 JoonasVali     \n",
        "ArrayBuffer()        1080920 hamude         \n",
        "ArrayBuffer()        1080921 chleb          \n",
        "ArrayBuffer({\"gis... 1080923 stefanzweifel  \n",
        "ArrayBuffer()        1080925 eliascm36      \n"
       ]
      }
     ],
     "prompt_number": 43
    },
    {
     "cell_type": "code",
     "collapsed": false,
     "input": [
      "userfollowmap = df.map(lambda x: (x.login, tuple([user.login if len(x.following)>1 else x.following for user in x.following]))).groupByKey() "
     ],
     "language": "python",
     "metadata": {},
     "outputs": [],
     "prompt_number": 24
    },
    {
     "cell_type": "code",
     "collapsed": false,
     "input": [],
     "language": "python",
     "metadata": {},
     "outputs": []
    },
    {
     "cell_type": "code",
     "collapsed": false,
     "input": [],
     "language": "python",
     "metadata": {},
     "outputs": []
    },
    {
     "cell_type": "code",
     "collapsed": false,
     "input": [],
     "language": "python",
     "metadata": {},
     "outputs": []
    },
    {
     "cell_type": "code",
     "collapsed": false,
     "input": [],
     "language": "python",
     "metadata": {},
     "outputs": []
    },
    {
     "cell_type": "code",
     "collapsed": false,
     "input": [
      "type(userfollowmap)"
     ],
     "language": "python",
     "metadata": {},
     "outputs": [
      {
       "metadata": {},
       "output_type": "pyout",
       "prompt_number": 25,
       "text": [
        "pyspark.rdd.PipelinedRDD"
       ]
      }
     ],
     "prompt_number": 25
    },
    {
     "cell_type": "code",
     "collapsed": false,
     "input": [
      "userfollowcollect = userfollowmap.map(lambda x: (x[0], list(x[1]))).collect()"
     ],
     "language": "python",
     "metadata": {},
     "outputs": [
      {
       "ename": "Py4JJavaError",
       "evalue": "An error occurred while calling z:org.apache.spark.api.python.PythonRDD.collectAndServe.\n: org.apache.spark.SparkException: Job aborted due to stage failure: Task 5 in stage 5.0 failed 4 times, most recent failure: Lost task 5.3 in stage 5.0 (TID 67, ip-172-31-2-90.us-west-1.compute.internal): org.apache.spark.api.python.PythonException: Traceback (most recent call last):\n  File \"/usr/local/spark/python/pyspark/worker.py\", line 101, in main\n    process()\n  File \"/usr/local/spark/python/pyspark/worker.py\", line 96, in process\n    serializer.dump_stream(func(split_index, iterator), outfile)\n  File \"/usr/local/spark/python/pyspark/rdd.py\", line 2252, in pipeline_func\n    return func(split, prev_func(split, iterator))\n  File \"/usr/local/spark/python/pyspark/rdd.py\", line 2252, in pipeline_func\n    return func(split, prev_func(split, iterator))\n  File \"/usr/local/spark/python/pyspark/rdd.py\", line 282, in func\n    return f(iterator)\n  File \"/usr/local/spark/python/pyspark/rdd.py\", line 1705, in combineLocally\n    merger.mergeValues(iterator)\n  File \"/usr/local/spark/python/pyspark/shuffle.py\", line 252, in mergeValues\n    for k, v in iterator:\n  File \"<ipython-input-24-94fe447cdfe4>\", line 1, in <lambda>\nAttributeError: 'unicode' object has no attribute 'login'\n\n\tat org.apache.spark.api.python.PythonRDD$$anon$1.read(PythonRDD.scala:135)\n\tat org.apache.spark.api.python.PythonRDD$$anon$1.<init>(PythonRDD.scala:176)\n\tat org.apache.spark.api.python.PythonRDD.compute(PythonRDD.scala:94)\n\tat org.apache.spark.rdd.RDD.computeOrReadCheckpoint(RDD.scala:277)\n\tat org.apache.spark.rdd.RDD.iterator(RDD.scala:244)\n\tat org.apache.spark.api.python.PairwiseRDD.compute(PythonRDD.scala:311)\n\tat org.apache.spark.rdd.RDD.computeOrReadCheckpoint(RDD.scala:277)\n\tat org.apache.spark.rdd.RDD.iterator(RDD.scala:244)\n\tat org.apache.spark.scheduler.ShuffleMapTask.runTask(ShuffleMapTask.scala:68)\n\tat org.apache.spark.scheduler.ShuffleMapTask.runTask(ShuffleMapTask.scala:41)\n\tat org.apache.spark.scheduler.Task.run(Task.scala:64)\n\tat org.apache.spark.executor.Executor$TaskRunner.run(Executor.scala:203)\n\tat java.util.concurrent.ThreadPoolExecutor.runWorker(ThreadPoolExecutor.java:1145)\n\tat java.util.concurrent.ThreadPoolExecutor$Worker.run(ThreadPoolExecutor.java:615)\n\tat java.lang.Thread.run(Thread.java:745)\n\nDriver stacktrace:\n\tat org.apache.spark.scheduler.DAGScheduler.org$apache$spark$scheduler$DAGScheduler$$failJobAndIndependentStages(DAGScheduler.scala:1204)\n\tat org.apache.spark.scheduler.DAGScheduler$$anonfun$abortStage$1.apply(DAGScheduler.scala:1193)\n\tat org.apache.spark.scheduler.DAGScheduler$$anonfun$abortStage$1.apply(DAGScheduler.scala:1192)\n\tat scala.collection.mutable.ResizableArray$class.foreach(ResizableArray.scala:59)\n\tat scala.collection.mutable.ArrayBuffer.foreach(ArrayBuffer.scala:47)\n\tat org.apache.spark.scheduler.DAGScheduler.abortStage(DAGScheduler.scala:1192)\n\tat org.apache.spark.scheduler.DAGScheduler$$anonfun$handleTaskSetFailed$1.apply(DAGScheduler.scala:693)\n\tat org.apache.spark.scheduler.DAGScheduler$$anonfun$handleTaskSetFailed$1.apply(DAGScheduler.scala:693)\n\tat scala.Option.foreach(Option.scala:236)\n\tat org.apache.spark.scheduler.DAGScheduler.handleTaskSetFailed(DAGScheduler.scala:693)\n\tat org.apache.spark.scheduler.DAGSchedulerEventProcessLoop.onReceive(DAGScheduler.scala:1393)\n\tat org.apache.spark.scheduler.DAGSchedulerEventProcessLoop.onReceive(DAGScheduler.scala:1354)\n\tat org.apache.spark.util.EventLoop$$anon$1.run(EventLoop.scala:48)\n",
       "output_type": "pyerr",
       "traceback": [
        "\u001b[0;31m---------------------------------------------------------------------------\u001b[0m\n\u001b[0;31mPy4JJavaError\u001b[0m                             Traceback (most recent call last)",
        "\u001b[0;32m<ipython-input-27-4a939822cf91>\u001b[0m in \u001b[0;36m<module>\u001b[0;34m()\u001b[0m\n\u001b[0;32m----> 1\u001b[0;31m \u001b[0muserfollowcollect\u001b[0m \u001b[0;34m=\u001b[0m \u001b[0muserfollowmap\u001b[0m\u001b[0;34m.\u001b[0m\u001b[0mmap\u001b[0m\u001b[0;34m(\u001b[0m\u001b[0;32mlambda\u001b[0m \u001b[0mx\u001b[0m\u001b[0;34m:\u001b[0m \u001b[0;34m(\u001b[0m\u001b[0mx\u001b[0m\u001b[0;34m[\u001b[0m\u001b[0;36m0\u001b[0m\u001b[0;34m]\u001b[0m\u001b[0;34m,\u001b[0m \u001b[0mlist\u001b[0m\u001b[0;34m(\u001b[0m\u001b[0mx\u001b[0m\u001b[0;34m[\u001b[0m\u001b[0;36m1\u001b[0m\u001b[0;34m]\u001b[0m\u001b[0;34m)\u001b[0m\u001b[0;34m)\u001b[0m\u001b[0;34m)\u001b[0m\u001b[0;34m.\u001b[0m\u001b[0mcollect\u001b[0m\u001b[0;34m(\u001b[0m\u001b[0;34m)\u001b[0m\u001b[0;34m\u001b[0m\u001b[0m\n\u001b[0m",
        "\u001b[0;32m/usr/local/spark/python/pyspark/rdd.pyc\u001b[0m in \u001b[0;36mcollect\u001b[0;34m(self)\u001b[0m\n\u001b[1;32m    711\u001b[0m         \"\"\"\n\u001b[1;32m    712\u001b[0m         \u001b[0;32mwith\u001b[0m \u001b[0mSCCallSiteSync\u001b[0m\u001b[0;34m(\u001b[0m\u001b[0mself\u001b[0m\u001b[0;34m.\u001b[0m\u001b[0mcontext\u001b[0m\u001b[0;34m)\u001b[0m \u001b[0;32mas\u001b[0m \u001b[0mcss\u001b[0m\u001b[0;34m:\u001b[0m\u001b[0;34m\u001b[0m\u001b[0m\n\u001b[0;32m--> 713\u001b[0;31m             \u001b[0mport\u001b[0m \u001b[0;34m=\u001b[0m \u001b[0mself\u001b[0m\u001b[0;34m.\u001b[0m\u001b[0mctx\u001b[0m\u001b[0;34m.\u001b[0m\u001b[0m_jvm\u001b[0m\u001b[0;34m.\u001b[0m\u001b[0mPythonRDD\u001b[0m\u001b[0;34m.\u001b[0m\u001b[0mcollectAndServe\u001b[0m\u001b[0;34m(\u001b[0m\u001b[0mself\u001b[0m\u001b[0;34m.\u001b[0m\u001b[0m_jrdd\u001b[0m\u001b[0;34m.\u001b[0m\u001b[0mrdd\u001b[0m\u001b[0;34m(\u001b[0m\u001b[0;34m)\u001b[0m\u001b[0;34m)\u001b[0m\u001b[0;34m\u001b[0m\u001b[0m\n\u001b[0m\u001b[1;32m    714\u001b[0m         \u001b[0;32mreturn\u001b[0m \u001b[0mlist\u001b[0m\u001b[0;34m(\u001b[0m\u001b[0m_load_from_socket\u001b[0m\u001b[0;34m(\u001b[0m\u001b[0mport\u001b[0m\u001b[0;34m,\u001b[0m \u001b[0mself\u001b[0m\u001b[0;34m.\u001b[0m\u001b[0m_jrdd_deserializer\u001b[0m\u001b[0;34m)\u001b[0m\u001b[0;34m)\u001b[0m\u001b[0;34m\u001b[0m\u001b[0m\n\u001b[1;32m    715\u001b[0m \u001b[0;34m\u001b[0m\u001b[0m\n",
        "\u001b[0;32m/usr/local/lib/python2.7/dist-packages/py4j/java_gateway.pyc\u001b[0m in \u001b[0;36m__call__\u001b[0;34m(self, *args)\u001b[0m\n\u001b[1;32m    536\u001b[0m         \u001b[0manswer\u001b[0m \u001b[0;34m=\u001b[0m \u001b[0mself\u001b[0m\u001b[0;34m.\u001b[0m\u001b[0mgateway_client\u001b[0m\u001b[0;34m.\u001b[0m\u001b[0msend_command\u001b[0m\u001b[0;34m(\u001b[0m\u001b[0mcommand\u001b[0m\u001b[0;34m)\u001b[0m\u001b[0;34m\u001b[0m\u001b[0m\n\u001b[1;32m    537\u001b[0m         return_value = get_return_value(answer, self.gateway_client,\n\u001b[0;32m--> 538\u001b[0;31m                 self.target_id, self.name)\n\u001b[0m\u001b[1;32m    539\u001b[0m \u001b[0;34m\u001b[0m\u001b[0m\n\u001b[1;32m    540\u001b[0m         \u001b[0;32mfor\u001b[0m \u001b[0mtemp_arg\u001b[0m \u001b[0;32min\u001b[0m \u001b[0mtemp_args\u001b[0m\u001b[0;34m:\u001b[0m\u001b[0;34m\u001b[0m\u001b[0m\n",
        "\u001b[0;32m/usr/local/lib/python2.7/dist-packages/py4j/protocol.pyc\u001b[0m in \u001b[0;36mget_return_value\u001b[0;34m(answer, gateway_client, target_id, name)\u001b[0m\n\u001b[1;32m    298\u001b[0m                 raise Py4JJavaError(\n\u001b[1;32m    299\u001b[0m                     \u001b[0;34m'An error occurred while calling {0}{1}{2}.\\n'\u001b[0m\u001b[0;34m.\u001b[0m\u001b[0;34m\u001b[0m\u001b[0m\n\u001b[0;32m--> 300\u001b[0;31m                     format(target_id, '.', name), value)\n\u001b[0m\u001b[1;32m    301\u001b[0m             \u001b[0;32melse\u001b[0m\u001b[0;34m:\u001b[0m\u001b[0;34m\u001b[0m\u001b[0m\n\u001b[1;32m    302\u001b[0m                 raise Py4JError(\n",
        "\u001b[0;31mPy4JJavaError\u001b[0m: An error occurred while calling z:org.apache.spark.api.python.PythonRDD.collectAndServe.\n: org.apache.spark.SparkException: Job aborted due to stage failure: Task 5 in stage 5.0 failed 4 times, most recent failure: Lost task 5.3 in stage 5.0 (TID 67, ip-172-31-2-90.us-west-1.compute.internal): org.apache.spark.api.python.PythonException: Traceback (most recent call last):\n  File \"/usr/local/spark/python/pyspark/worker.py\", line 101, in main\n    process()\n  File \"/usr/local/spark/python/pyspark/worker.py\", line 96, in process\n    serializer.dump_stream(func(split_index, iterator), outfile)\n  File \"/usr/local/spark/python/pyspark/rdd.py\", line 2252, in pipeline_func\n    return func(split, prev_func(split, iterator))\n  File \"/usr/local/spark/python/pyspark/rdd.py\", line 2252, in pipeline_func\n    return func(split, prev_func(split, iterator))\n  File \"/usr/local/spark/python/pyspark/rdd.py\", line 282, in func\n    return f(iterator)\n  File \"/usr/local/spark/python/pyspark/rdd.py\", line 1705, in combineLocally\n    merger.mergeValues(iterator)\n  File \"/usr/local/spark/python/pyspark/shuffle.py\", line 252, in mergeValues\n    for k, v in iterator:\n  File \"<ipython-input-24-94fe447cdfe4>\", line 1, in <lambda>\nAttributeError: 'unicode' object has no attribute 'login'\n\n\tat org.apache.spark.api.python.PythonRDD$$anon$1.read(PythonRDD.scala:135)\n\tat org.apache.spark.api.python.PythonRDD$$anon$1.<init>(PythonRDD.scala:176)\n\tat org.apache.spark.api.python.PythonRDD.compute(PythonRDD.scala:94)\n\tat org.apache.spark.rdd.RDD.computeOrReadCheckpoint(RDD.scala:277)\n\tat org.apache.spark.rdd.RDD.iterator(RDD.scala:244)\n\tat org.apache.spark.api.python.PairwiseRDD.compute(PythonRDD.scala:311)\n\tat org.apache.spark.rdd.RDD.computeOrReadCheckpoint(RDD.scala:277)\n\tat org.apache.spark.rdd.RDD.iterator(RDD.scala:244)\n\tat org.apache.spark.scheduler.ShuffleMapTask.runTask(ShuffleMapTask.scala:68)\n\tat org.apache.spark.scheduler.ShuffleMapTask.runTask(ShuffleMapTask.scala:41)\n\tat org.apache.spark.scheduler.Task.run(Task.scala:64)\n\tat org.apache.spark.executor.Executor$TaskRunner.run(Executor.scala:203)\n\tat java.util.concurrent.ThreadPoolExecutor.runWorker(ThreadPoolExecutor.java:1145)\n\tat java.util.concurrent.ThreadPoolExecutor$Worker.run(ThreadPoolExecutor.java:615)\n\tat java.lang.Thread.run(Thread.java:745)\n\nDriver stacktrace:\n\tat org.apache.spark.scheduler.DAGScheduler.org$apache$spark$scheduler$DAGScheduler$$failJobAndIndependentStages(DAGScheduler.scala:1204)\n\tat org.apache.spark.scheduler.DAGScheduler$$anonfun$abortStage$1.apply(DAGScheduler.scala:1193)\n\tat org.apache.spark.scheduler.DAGScheduler$$anonfun$abortStage$1.apply(DAGScheduler.scala:1192)\n\tat scala.collection.mutable.ResizableArray$class.foreach(ResizableArray.scala:59)\n\tat scala.collection.mutable.ArrayBuffer.foreach(ArrayBuffer.scala:47)\n\tat org.apache.spark.scheduler.DAGScheduler.abortStage(DAGScheduler.scala:1192)\n\tat org.apache.spark.scheduler.DAGScheduler$$anonfun$handleTaskSetFailed$1.apply(DAGScheduler.scala:693)\n\tat org.apache.spark.scheduler.DAGScheduler$$anonfun$handleTaskSetFailed$1.apply(DAGScheduler.scala:693)\n\tat scala.Option.foreach(Option.scala:236)\n\tat org.apache.spark.scheduler.DAGScheduler.handleTaskSetFailed(DAGScheduler.scala:693)\n\tat org.apache.spark.scheduler.DAGSchedulerEventProcessLoop.onReceive(DAGScheduler.scala:1393)\n\tat org.apache.spark.scheduler.DAGSchedulerEventProcessLoop.onReceive(DAGScheduler.scala:1354)\n\tat org.apache.spark.util.EventLoop$$anon$1.run(EventLoop.scala:48)\n"
       ]
      }
     ],
     "prompt_number": 27
    },
    {
     "cell_type": "code",
     "collapsed": false,
     "input": [],
     "language": "python",
     "metadata": {},
     "outputs": []
    },
    {
     "cell_type": "code",
     "collapsed": false,
     "input": [
      "d = {'login': 'ronak', 'following':[{'login':'kushan', 'foll':'abc'}, {'login':'sundar', 'foll':'xyz'}]}\n"
     ],
     "language": "python",
     "metadata": {},
     "outputs": [],
     "prompt_number": 11
    },
    {
     "cell_type": "code",
     "collapsed": false,
     "input": [
      "l = []\n",
      "l.append(d)\n",
      "l.append({'login': 'sundar', 'following':[]})\n"
     ],
     "language": "python",
     "metadata": {},
     "outputs": [],
     "prompt_number": 18
    },
    {
     "cell_type": "code",
     "collapsed": false,
     "input": [
      "k = [(d['login'], [y['login'] if len(d['following']) > 1 else d['following'] for y in d['following']]) for d in l]"
     ],
     "language": "python",
     "metadata": {},
     "outputs": [],
     "prompt_number": 19
    },
    {
     "cell_type": "code",
     "collapsed": false,
     "input": [
      "k\n"
     ],
     "language": "python",
     "metadata": {},
     "outputs": [
      {
       "metadata": {},
       "output_type": "pyout",
       "prompt_number": 20,
       "text": [
        "[('ronak', ['kushan', 'sundar']), ('sundar', [])]"
       ]
      }
     ],
     "prompt_number": 20
    },
    {
     "cell_type": "code",
     "collapsed": false,
     "input": [],
     "language": "python",
     "metadata": {},
     "outputs": []
    }
   ],
   "metadata": {}
  }
 ]
}