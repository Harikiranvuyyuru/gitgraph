{
 "metadata": {
  "name": ""
 },
 "nbformat": 3,
 "nbformat_minor": 0,
 "worksheets": [
  {
   "cells": [
    {
     "cell_type": "code",
     "collapsed": false,
     "input": [
      "import os \n",
      "import sys\n",
      "\n",
      "os.environ['PYSPARK_SUBMIT_ARGS']='--master spark://ip-172-31-0-189:7077 --executor-memory 10240m --driver-memory 10240m'\n",
      "\n",
      "spark_home = os.environ.get('SPARK_HOME', None)\n",
      "if not spark_home:\n",
      "  raise ValueError('SPARK_HOME environment variable is not set')\n",
      "sys.path.insert(0, os.path.join(spark_home, 'python'))\n",
      "sys.path.insert(0, os.path.join(spark_home, 'python/lib/py4j-0.8.2.1-src.zip'))\n",
      "execfile(os.path.join(spark_home, 'python/pyspark/shell.py'))\n"
     ],
     "language": "python",
     "metadata": {},
     "outputs": [
      {
       "output_type": "stream",
       "stream": "stdout",
       "text": [
        "Welcome to\n",
        "      ____              __\n",
        "     / __/__  ___ _____/ /__\n",
        "    _\\ \\/ _ \\/ _ `/ __/  '_/\n",
        "   /__ / .__/\\_,_/_/ /_/\\_\\   version 1.3.1\n",
        "      /_/\n",
        "\n",
        "Using Python version 2.7.6 (default, Mar 22 2014 22:59:56)\n",
        "SparkContext available as sc, HiveContext available as sqlContext.\n"
       ]
      }
     ],
     "prompt_number": 1
    },
    {
     "cell_type": "code",
     "collapsed": false,
     "input": [],
     "language": "python",
     "metadata": {},
     "outputs": [],
     "prompt_number": 1
    },
    {
     "cell_type": "code",
     "collapsed": false,
     "input": [
      "from pyspark import SparkContext\n",
      "from pyspark.sql import SQLContext"
     ],
     "language": "python",
     "metadata": {},
     "outputs": [],
     "prompt_number": 2
    },
    {
     "cell_type": "code",
     "collapsed": false,
     "input": [
      "sc.stop()\n",
      "sc = SparkContext(\"spark://ip-172-31-0-189:7077\", \"following\")\n",
      "sqlContext = SQLContext(sc)"
     ],
     "language": "python",
     "metadata": {},
     "outputs": [],
     "prompt_number": 3
    },
    {
     "cell_type": "code",
     "collapsed": false,
     "input": [
      "df15 = sqlContext.jsonFile(\"hdfs://ec2-52-8-127-252.us-west-1.compute.amazonaws.com:9000/data2015/*.*\")"
     ],
     "language": "python",
     "metadata": {},
     "outputs": [],
     "prompt_number": 4
    },
    {
     "cell_type": "code",
     "collapsed": false,
     "input": [],
     "language": "python",
     "metadata": {},
     "outputs": []
    },
    {
     "cell_type": "code",
     "collapsed": false,
     "input": [
      "df15_watch = df15.filter(\"type='WatchEvent'\")\n",
      "df15_commit = df15.filter(\"type='CommitCommentEvent'\")\n",
      "df15_fork = df15.filter(\"type='ForkEvent'\")\n",
      "# df15_create = df15.filter(\"type='CreateEvent'\")\n",
      "\n",
      "sqlContext.registerDataFrameAsTable(df15_watch, \"df15_watch_table\")\n",
      "sqlContext.registerDataFrameAsTable(df15_commit, \"df15_commit_table\")\n",
      "sqlContext.registerDataFrameAsTable(df15_fork, \"df15_fork_table\")\n",
      "# sqlContext.registerDataFrameAsTable(df15_create, \"df15_create_table\")"
     ],
     "language": "python",
     "metadata": {},
     "outputs": [],
     "prompt_number": 34
    },
    {
     "cell_type": "code",
     "collapsed": false,
     "input": [
      "df15_watch_altered = sqlContext.sql(\"SELECT actor, repo, type FROM df15_watch_table\")\n",
      "df15_commit_altered = sqlContext.sql(\"SELECT actor, repo, type FROM df15_commit_table\")\n",
      "df15_fork_altered = sqlContext.sql(\"SELECT actor, repo, type FROM df15_fork_table\")\n",
      "# df15_create_altered = sqlContext.sql(\"SELECT actor, repo, type FROM df15_create_table\")"
     ],
     "language": "python",
     "metadata": {},
     "outputs": [],
     "prompt_number": 35
    },
    {
     "cell_type": "code",
     "collapsed": false,
     "input": [
      "sqlContext.registerDataFrameAsTable(df15_watch_altered, \"df15_watch_altered_table\")\n",
      "sqlContext.registerDataFrameAsTable(df15_commit_altered, \"df15_commit_altered_table\")\n",
      "sqlContext.registerDataFrameAsTable(df15_fork_altered, \"df15_fork_altered_table\")\n",
      "# sqlContext.registerDataFrameAsTable(df15_fork_altered, \"df15_create_altered_table\")\n",
      "\n",
      "df15_altered_union = sqlContext.sql(\"SELECT * from df15_watch_altered_table UNION ALL SELECT * from df15_commit_altered_table UNION ALL SELECT * from df15_fork_altered_table\")"
     ],
     "language": "python",
     "metadata": {},
     "outputs": [],
     "prompt_number": 36
    },
    {
     "cell_type": "code",
     "collapsed": false,
     "input": [
      "user_repo_map15 = df15_altered_union.map(lambda x: (x.actor.login, list([x.repo.name]))).groupByKey() "
     ],
     "language": "python",
     "metadata": {},
     "outputs": [],
     "prompt_number": 37
    },
    {
     "cell_type": "code",
     "collapsed": false,
     "input": [
      "user_repo15 = user_repo_map15.map(lambda x: {\"username\":x[0], \"repo\":[user for sublist in x[1] for user in sublist]}).collect()"
     ],
     "language": "python",
     "metadata": {},
     "outputs": [],
     "prompt_number": 55
    },
    {
     "cell_type": "code",
     "collapsed": false,
     "input": [
      "for i,v in enumerate(user_repo15):\n",
      "    if v['username']==\"aouyang1\":\n",
      "        print v['repo']"
     ],
     "language": "python",
     "metadata": {},
     "outputs": [
      {
       "output_type": "stream",
       "stream": "stdout",
       "text": [
        "[u'igorbarinov/awesome-data-engineering', u'gy8/stargazer', u'ajmssc/bitcoin-inspector', u'cfregly/spark-after-dark', u'Yelp/pyleus', u'ajmssc/bitcoin-inspector', u'rirwin/theft-market', u'rirwin/theft-market', u'ddrum001/patents_project', u'aouyang1/ClusterConfig', u'cfregly/spark-after-dark']\n"
       ]
      }
     ],
     "prompt_number": 45
    },
    {
     "cell_type": "code",
     "collapsed": false,
     "input": [
      "print len(user_repo15)"
     ],
     "language": "python",
     "metadata": {},
     "outputs": [
      {
       "output_type": "stream",
       "stream": "stdout",
       "text": [
        "1487916\n"
       ]
      }
     ],
     "prompt_number": 41
    },
    {
     "cell_type": "code",
     "collapsed": false,
     "input": [
      "from cqlengine import columns\n",
      "from cqlengine.models import Model\n",
      "from cqlengine import connection\n",
      "from cqlengine.management import sync_table"
     ],
     "language": "python",
     "metadata": {},
     "outputs": [],
     "prompt_number": 47
    },
    {
     "cell_type": "code",
     "collapsed": false,
     "input": [
      "class userrepo(Model):\n",
      "  username = columns.Text(primary_key=True)\n",
      "  repo = columns.List(columns.Text)\n",
      "  def __repr__(self):\n",
      "    return '%s %d' % (self.username, self.repo)"
     ],
     "language": "python",
     "metadata": {},
     "outputs": [],
     "prompt_number": 48
    },
    {
     "cell_type": "code",
     "collapsed": false,
     "input": [
      "connection.setup(['52.8.127.252','52.8.41.216'], \"watch_events\")\n",
      "sync_table(userrepo)"
     ],
     "language": "python",
     "metadata": {},
     "outputs": [],
     "prompt_number": 51
    },
    {
     "cell_type": "code",
     "collapsed": false,
     "input": [
      "for val in user_repo15:\n",
      "    userrepo.create(username = val['username'], repo = val['repo'])"
     ],
     "language": "python",
     "metadata": {},
     "outputs": [],
     "prompt_number": 53
    },
    {
     "cell_type": "code",
     "collapsed": false,
     "input": [],
     "language": "python",
     "metadata": {},
     "outputs": []
    },
    {
     "cell_type": "markdown",
     "metadata": {},
     "source": [
      "# 2011 starts here"
     ]
    },
    {
     "cell_type": "code",
     "collapsed": false,
     "input": [
      "df11 = sqlContext.jsonFile(\"hdfs://ec2-52-8-127-252.us-west-1.compute.amazonaws.com:9000/data_jan2015/2011-*.*\")"
     ],
     "language": "python",
     "metadata": {},
     "outputs": [],
     "prompt_number": 4
    },
    {
     "cell_type": "code",
     "collapsed": false,
     "input": [
      "df11_watch = df11.filter(\"type='WatchEvent'\")\n",
      "df11_commit = df11.filter(\"type='CommitCommentEvent'\")\n",
      "df11_fork = df11.filter(\"type='ForkEvent'\")\n",
      "\n",
      "sqlContext.registerDataFrameAsTable(df11_watch, \"df11_watch_table\")\n",
      "sqlContext.registerDataFrameAsTable(df11_commit, \"df11_commit_table\")\n",
      "sqlContext.registerDataFrameAsTable(df11_fork, \"df11_fork_table\")"
     ],
     "language": "python",
     "metadata": {},
     "outputs": [],
     "prompt_number": 5
    },
    {
     "cell_type": "code",
     "collapsed": false,
     "input": [
      "df11_watch_altered = sqlContext.sql(\"SELECT actor, repo, type FROM df11_watch_table\")\n",
      "df11_commit_altered = sqlContext.sql(\"SELECT actor, repo, type FROM df11_commit_table\")\n",
      "df11_fork_altered = sqlContext.sql(\"SELECT actor, repo, type FROM df11_fork_table\")"
     ],
     "language": "python",
     "metadata": {},
     "outputs": [],
     "prompt_number": 6
    },
    {
     "cell_type": "code",
     "collapsed": false,
     "input": [
      "sqlContext.registerDataFrameAsTable(df11_watch_altered, \"df11_watch_altered_table\")\n",
      "sqlContext.registerDataFrameAsTable(df11_commit_altered, \"df11_commit_altered_table\")\n",
      "sqlContext.registerDataFrameAsTable(df11_fork_altered, \"df11_fork_altered_table\")\n",
      "\n",
      "df11_altered_union = sqlContext.sql(\"SELECT * from df11_watch_altered_table UNION ALL SELECT * from df11_commit_altered_table UNION ALL SELECT * from df11_fork_altered_table\")"
     ],
     "language": "python",
     "metadata": {},
     "outputs": [],
     "prompt_number": 7
    },
    {
     "cell_type": "code",
     "collapsed": false,
     "input": [
      "user_repo_map11 = df11_altered_union.map(lambda x: (x.actor.login, list([x.repo.name]))).groupByKey() "
     ],
     "language": "python",
     "metadata": {},
     "outputs": [],
     "prompt_number": 8
    },
    {
     "cell_type": "code",
     "collapsed": false,
     "input": [],
     "language": "python",
     "metadata": {},
     "outputs": []
    },
    {
     "cell_type": "code",
     "collapsed": false,
     "input": [
      "user_repo11 = user_repo_map11.map(lambda x: {\"username\":x[0], \"repo\":[user for sublist in x[1] for user in sublist]}).collect()"
     ],
     "language": "python",
     "metadata": {},
     "outputs": [],
     "prompt_number": 9
    },
    {
     "cell_type": "code",
     "collapsed": false,
     "input": [
      "print len(user_repo11)"
     ],
     "language": "python",
     "metadata": {},
     "outputs": [
      {
       "output_type": "stream",
       "stream": "stdout",
       "text": [
        "148188\n"
       ]
      }
     ],
     "prompt_number": 10
    },
    {
     "cell_type": "code",
     "collapsed": false,
     "input": [
      "print user_repo11[0:5]"
     ],
     "language": "python",
     "metadata": {},
     "outputs": [
      {
       "output_type": "stream",
       "stream": "stdout",
       "text": [
        "[{'username': u'gill0r', 'repo': [u'dctrwatson/znc-fish', u'Codeux/Textual']}, {'username': u'laola', 'repo': [u'servergrove/ServerGroveLiveChat', u'sensio/doctrine2-nestedset']}, {'username': u'jimbrowne', 'repo': [u'joemiller/collectd-graphite', u'opscode/cookbooks']}, {'username': u'krsanky', 'repo': [u'bradjasper/django-jsonfield', u'courgette/b3-plugin-duel', u'dziegler/django-css', u'brentonashworth/sandbar']}, {'username': u'xitrox', 'repo': [u'elepferd/PushNotifier', u'elepferd/PushNotifier-web']}]\n"
       ]
      }
     ],
     "prompt_number": 11
    },
    {
     "cell_type": "code",
     "collapsed": false,
     "input": [
      "from cqlengine import columns\n",
      "from cqlengine.models import Model\n",
      "from cqlengine import connection\n",
      "from cqlengine.management import sync_table"
     ],
     "language": "python",
     "metadata": {},
     "outputs": [
      {
       "output_type": "stream",
       "stream": "stderr",
       "text": [
        "/usr/local/lib/python2.7/dist-packages/cassandra/util.py:486: UserWarning: The blist library is not available, so a pure python list-based set will be used in place of blist.sortedset for set collection values. You can find the blist library here: https://pypi.python.org/pypi/blist/\n",
        "  \"The blist library is not available, so a pure python list-based set will \"\n"
       ]
      }
     ],
     "prompt_number": 12
    },
    {
     "cell_type": "code",
     "collapsed": false,
     "input": [
      "class userrepo2011(Model):\n",
      "  username = columns.Text(primary_key=True)\n",
      "  repo = columns.List(columns.Text)\n",
      "  def __repr__(self):\n",
      "    return '%s %d' % (self.username, self.repo)"
     ],
     "language": "python",
     "metadata": {},
     "outputs": [],
     "prompt_number": 16
    },
    {
     "cell_type": "code",
     "collapsed": false,
     "input": [
      "connection.setup(['52.8.127.252','52.8.41.216'], \"watch_events\")\n",
      "sync_table(userrepo2011)"
     ],
     "language": "python",
     "metadata": {},
     "outputs": [],
     "prompt_number": 17
    },
    {
     "cell_type": "code",
     "collapsed": false,
     "input": [
      "print user_repo11[-1]"
     ],
     "language": "python",
     "metadata": {},
     "outputs": [
      {
       "output_type": "stream",
       "stream": "stdout",
       "text": [
        "{'username': u'xiaolong', 'repo': [u'krazykylep/Open-Android-Game']}\n"
       ]
      }
     ],
     "prompt_number": 21
    },
    {
     "cell_type": "code",
     "collapsed": false,
     "input": [
      "for val in user_repo11:\n",
      "    try:\n",
      "        userrepo2011.create(username = val['username'], repo = val['repo'])\n",
      "    except Exception as e:\n",
      "        print e, val"
     ],
     "language": "python",
     "metadata": {},
     "outputs": [
      {
       "output_type": "stream",
       "stream": "stdout",
       "text": [
        "code=2200 [Invalid query] message=\"Missing mandatory PRIMARY KEY part username\" {'username': None, 'repo': [u'jamierumbelow/pipesphp.org', u'dbloete/ioctocat', u'git/git', u'greasemonkey/greasemonkey', u'dyoo/moby-scheme', u'justinlilly/jlilly_emacs', u'ezmobius/super-nginx', u'amatsuda/kaminari', u'joshuaclayton/blueprint-css', u'paulirish/css_browser_selector', u'paulirish/html5-boilerplate', u'zzzsochi/Flask-Gravatar', u'mitsuhiko/flask-sqlalchemy', u'youngking/flask-cn', u'/', u'spree/spree_social', u'octo-technology/USI2011_BillionUserChallenge', u'waywardgeek/sonic-ndk', u'kraih/mojo', u'tonghuix/tonghuix.github.com', u'symfony/symfony', u'/', u'mxcl/homebrew', u'dhorrigan/codeigniter-reactor', u'jruby/jruby', u'jquery/jquery', u'jquery/jquery', u'/', u'19ceng/ceng104pro', u'19ceng/ceng201pro', u'/', u'pilu/web-app-theme', u'adamdunkels/contiki-2.x', u'alokthapa/satori', u'akaspin/nun', u'donpark/node-tld', u'Joose/Joose', u'joshfire/node-crawler', u'Tim-Smart/node-parallel', u'robrighter/node-boilerplate', u'/', u'technoweenie/coffee-resque', u'davidcoallier/node-simplewhois', u'visionmedia/n', u'patrikf/glip', u'patrikf/ewiki', u'mirrors/linux-2.6', u'sjl/gundo.vim', u'mirrors/linux-2.6', u'rubiii/savon', u'silverstripe/silverstripe-cms', u'silverstripe/sapphire', u'bcosca/PHP-Fat-Free-Framework', u'bastos/nicedog', u'crshd/dots', u'nette/nette', u'LearnBoost/Socket.IO-node', u'apache/couchdb', u'Strawberry-Pr0jcts/Core', u'/', u'/', u'git/git', u'/', u'mishoo/ymacs', u'jquery/jquery-mobile', u'karlisson/1001', u'jarmo/require_all', u'DmitryBaranovskiy/raphael', u'jquery/jquery', u'mikaa123/umlify', u'symfony/symfony', u'meskyanichi/backup', u'tpope/vim-pathogen', u'douglascrockford/JSLint', u'schacon/showoff', u'joyent/node', u'jquery/jquery', u'rails/rails', u'supereggbert/GLGE', u'jquery/jquery', u'/', u'bowsersenior/workflow_on_mongoid', u'geekq/workflow', u'johnboiles/JBKinectHacks', u'oschrenk/kd-tree', u'dchelimsky/rspec-rails', u'etsy/logster', u'paulhodge/EASTL', u'philogb/philogl', u'mrdoob/three.js', u'rails/rails', u'joyent/node', u'paulirish/html5-boilerplate', u'mxcl/homebrew', u'diaspora/diaspora', u'facebook/three20', u'plataformatec/devise', u'binarylogic/authlogic', u'justinfrench/formtastic', u'jquery/jquery-ui', u'DmitryBaranovskiy/raphael', u'Modernizr/Modernizr', u'SlexAxton/yepnope.js', u'sporkd/compass-html5-boilerplate', u'/', u'tglines/nodrr', u'antirez/Gitan', u'mxcl/homebrew', u'codebutler/firesheep', u'mikelaurence/peabrain', u'paulirish/html5-boilerplate', u'/', u'/', u'miyagawa/github-growler', u'awwx/ar', u'nex3/arc', u'diaspora/diaspora', u'carlhuda/janus', u'carlhuda/janus', u'robbyrussell/oh-my-zsh', u'robbyrussell/oh-my-zsh', u'/', u'fador/mineserver', u'acaudwell/Gource', u'kovyrin/db-charmer', u'scotchi/wikipedia-beautifier', u'philc/textmatevim', u'saberma/shopqi', u'ahupp/python-magic', u'timburks/nu', u'/', u'jquery/jquery', u'jquery/jquery', u'jeremyevans/home_run', u'antimatter15/player', u'intridea/omniauth', u'jnicklas/capybara', u'mojombo/jekyll', u'mojombo/god', u'pkrumins/sed-cheat-sheet', u'dotcloud/cloudlets', u'scrooloose/nerdtree', u'tpope/vim-fugitive', u'aleks223/dotfiles', u'ngerakines/commitment', u'robconery/massive', u'/', u'/', u'mongoid/mongoid', u'defunkt/gist', u'defunkt/resque', u'/', u'int3/vim-extradite', u'mikejs/gomongo', u'emesene/emesene', u'oy/teeworlds', u'paulirish/html5-boilerplate', u'travis-ci/travis-ci', u'earcar/inconsolata', u'perl6/book', u'teambox/teambox', u'fabpot/Twig', u'visionmedia/jade', u'/', u'macournoyer/thin', u'defunkt/unicorn', u'crnixon/nesta', u'QaDeS/sandboxed', u'cdzombak/cdzombak.github.com', u'jiho/tile-windows', u'torquebox/torquebox', u'mgeraci/Less-Boilerplate', u'hotsh/rstat.us', u'danharper/Singing-with-Sinatra', u'michiel-unhosted/myfavouritesandwich', u'codeguy/Slim', u'fernandezpablo85/scribe', u'abraham/twitteroauth', u'fennb/phirehose', u'schacon/git-pulls', u'edavis10/redmine', u'mangos/mangos', u'tekkub/wow-ui-source', u'facebook/three20', u'git/git', u'jquery/jquery', u'git/git', u'rails/rails', u'jquery/jquery-ui', u'funkatron/spaz-webos', u'edgecase/ruby_koans', u'mrdavidlaing/javascript-koans', u'MacRuby/MacRuby', u'alexd/metapad', u'creaven/Zoomer-jq', u'banister/pry', u'/', u'andyedinborough/stress-css', u'charliesome/Fructose', u'seattlerb/minitest', u'pepelsbey/darkbox', u'pypa/virtualenv', u'pypa/pip', u'leftnode/get-shit-done', u'sebleier/django-redis-cache', u'jsocol/scottbot', u'sitaramc/gitolite', u'ddollar/foreman', u'funkatron/spaz-desktop-air', u'funkatron/spazcore', u'funkatron/Spaz-Web-APIs', u'mzenz/ACT', u'jurgens/flickbar', u'danwrong/loadrunner', u'github/dmca', u'defunkt/facebox', u'/', u'zippy/flowplace', u'chriseppstein/compass', u'paulirish/html5-boilerplate', u'tenderlove/playpen', u'unconed/TermKit', u'Iov/mangos', u'Iov/mangos', u'rsa/scriptdev2', u'facebook/php-sdk', u'facebook/php-sdk', u'facebook/php-sdk', u'facebook/php-sdk', u'facebook/php-sdk', u'facebook/php-sdk', u'nette/nette', u'/', u'/', u'github/help.github.com', u'teamSbrissenmod/platform_development', u'/', u'/', u'/', u'/', u'/', u'/', u'/', u'SkyFire/SkyFireDB', u'/', u'/', u'/', u'teamSbrissenmod/platform_frameworks_policies_base', u'/', u'/', u'sudoadam/manifest_aosp', u'/', u'sudoadam/manifest_aosp', u'webpy/webpy', u'/', u'sayz/python.em', u'android/platform_external_dbus', u'/', u'/', u'ajaxorg/cloud9', u'azkaban/azkaban', u'azkaban/azkaban', u'davedevelopment/lnkd.in', u'isaacs/npm', u'faux/Android-Theme-ColorChanger', u'bpedman/Android-Theme-ColorChanger', u'19ceng/ceng104pro', u'Bukkit/CraftBukkit', u'simogeo/Filemanager', u'supercurio/tegrak-test', u'robolson/watchtower', u'robolson/watchtower', u'robolson/watchtower', u'ansoncat/jamvm', u'FriendsOfSymfony/FacebookBundle', u'/', u'CruzBishop/DLogger', u'spotweb/spotweb', u'shellscape/Gmail-Notifier-Plus', u'vanillaforums/Garden', u'AIFDR/riab_core_obsolete', u'ModADroid/platform_packages_apps_phone', u'peej/phpdoctor', u'multitheftauto/multitheftauto', u'mirrors/linux-2.6', u'TrinityCore/TrinityCore', u'BKcore/Orion', u'sinatra/sinatra', u'felipebenevides/tatame', u'emerose/pingr', u'/', u'cvpcs/android_packages_apps_AppWidgetPicker', u'linus123/TDDWithMvc', u'octocat/Spoon-Knife', u'mason-larobina/luakit', u'rfosta/Gravy', u'erikh/ruby-dbi', u'spree/spree', u'SkyFire/SkyFireDB', u'SkyFire/SkyFireEMU', u'octocat/Spoon-Knife', u'SkyFire/SkyFireDB', u'octocat/Spoon-Knife', u'/', u'awwx/ar', u'msanders/wol.c', u'/', u'/', u'/', u'marcinwol/zfopenid', u'mishoo/UglifyJS', u'divio/django-shop', u'SkyFire/SkyFireDB', u'19ceng/ceng104pro', u'opscode/cookbooks', u'juanblo/symfony-docs-es', u'etsy/statsd', u'naparuba/shinken', u'mirrors/linux-2.6', u'pensive612/DF4', u'zencoder/html5-boilerplate-for-wordpress', u'ry/node_chat', u'geb/geb', u'aiaio/mortimer', u'yconst/Assemblage', u'knplabs/MenuBundle', u'knplabs/TimeBundle', u'sonata-project/NewsBundle', u'epi/pz-sandbox', u'Snoops/Bad', u'teamSbrissenmod/platform_manifest', u'diaspora/diaspora', u'kohana/core', u'androidian/FH-Intranet', u'stevedekorte/io', u'pieterclaerhout/yii-dbmigrations', u'bloom-lang/bud', u'auxesis/visage', u'auxesis/visage', u'aeosynth/4chan-x', u'/', u'/', u'/', u'schacon/git-reference', u'omz/AppSales-Mobile', u'Tolmark12/portfolio-dragon', u'EnderWiggin/Haven-and-Hearth-client-modified-by-Ender', u'facebook/php-sdk', u'github/gollum', u'mikedeboer/jsDAV', u'mikedeboer/trie', u'/', u'fespinoza/PerOrgV2', u'fespinoza/dotvim', u'gma/nesta', u'facebook/three20', u'phonegap/phonegap-start', u'/', u'npverni/rails-boilerplate-script', u'SkyFire/SkyFireEMU', u'alexpetrov/Mentor-Bank', u'jsgoecke/tvshows', u'powerbot/RSBot', u'ops4j/org.ops4j.pax.construct', u'mojombo/sf-vegetarian-restaurants', u'Bukkit/Bukkit', u'Bukkit/CraftBukkit', u'dpp/liftweb', u'lift/framework', u'mangos/mangos', u'TrinityCore/TrinityCore', u'SkyFire/SkyFireDB', u'elasticsearch/elasticsearch', u'petrohi/Stratosphere.Imap', u'schacon/why_i_love_github', u'twotoasters/RestKit', u'mxcl/homebrew', u'Crash-/Misc-Projects', u'Hybris95/HeadBlocks', u'subwindow/negative-captcha', u'subwindow/negative-captcha', u'subwindow/negative-captcha', u'CyanogenMod/htc-kernel-msm7x30', u'git/git', u'/', u'plataformatec/simple_form', u'paulirish/html5-boilerplate', u'jquery/jquery', u'/', u'cubiq/add-to-homescreen', u'xaviershay/enki', u'rails/rails', u'paulirish/html5-boilerplate', u'nathansmith/960-Grid-System', u'ddfreyne/nanoc', u'webpy/webpy', u'kennethreitz/requests', u'/', u'midgetspy/Sick-Beard', u'jceb/vim-orgmode', u'laullon/gitx', u'netty/netty', u'/', u'mojombo/jekyll', u'sinatra/sinatra', u'/', u'/', u'plestoon/python-sinat', u'brosner/python-oauth2', u'DmitryBaranovskiy/g.raphael', u'/', u'/', u'philsturgeon/codeigniter-restserver', u'daylightstudio/FUEL-CMS', u'elliothaughin/codeigniter-twitter', u'tomschlick/memcached-library', u'/', u'ericbarnes/ci-minify', u'backstack/bucket', u'pilu/web-app-theme', u'LearnBoost/cluster', u'hut/ranger', u'dylang/opowerjobs', u'droolsjbpm/jbpm', u'jbossas/jboss-modules', u'rcarlsen/Pocket-OCR', u'Two9A/jsGB', u'digitalfruit/limejs', u'kesiev/akihabara', u'fairfieldt/xcjs', u'senchalabs/philogl', u'pubnub/pubnub-api', u'voxdolo/decent_exposure', u'mrdoob/three.js', u'tbuser/thingiview.js', u'voxdolo/decent_exposure', u'sinatra/sinatra', u'pokeb/asi-http-request', u'facebook/three20', u'facebook/tornado', u'facebook/hiphop-php', u'AlanQuatermain/AQGridView', u'jeresig/processing-js', u'joyent/node', u'calyptus/linq-to-sqlxml', u'rogeralsing/linq-to-sqlxml', u'erlang/otp', u'basho/rebar', u'slspeek/jQueryTrails', u'freenet/fred-official', u'mongodb/mongo-ruby-driver', u'lakshmivyas/hyde', u'k4rt33k/research', u'k4rt33k/misc-code', u'a1exsh/redmine_pastebin', u'mxcl/homebrew', u'mkottman/lqt', u'evansagge/mongoid-rspec', u'progit/progit', u'HCDRJacob/device_zte_blade', u'msporny/dna', u'plataformatec/devise', u'beingzoe/wptheme-kitchen-sink-html5-twentyeleven', u'beingzoe/wpplugin-kitchen-sink-html5-base', u'beingzoe/wpplugin-kitchen-sink-html5-base', u'defnull/bottle', u'fabpot/symfony', u'cleditor/cleditor', u'tmpvar/jsdom', u'/', u'/', u'2600hz/bluebox', u'jberkel/sms-backup-plus', u'insophia/scrapy', u'joyent/node', u'amatsuda/kaminari', u'jdpace/errbit', u'codegram/markdownizer', u'joachifm/cl-mechanize', u'Ramarren/cl-parser-combinators', u'imakewebthings/jquery-waypoints', u'rvirding/lfe', u'basho/rebar', u'richardshepherd/TwentyTenFive', u'justinbaker/huh', u'ott/kite', u'mangos/mangos', u'/', u'/', u'stubbornella/oocss', u'jzellner/encurses', u'BlackLight/blash', u'paulelliott/fabrication', u'Bukkit/Bukkit', u'redhead/NetBeans-Nette-Framework-Plugin', u'dg/dibi', u'dg/texy', u'lianis/MapEE', u'ulrich/useful-linux-command', u'mojombo/jekyll', u'staticmatic/staticmatic', u'CyanogenMod/android_packages_apps_Contacts', u'cloudhead/cradle', u'phonegap/phonegap-iphone', u'phonegap/phonegap-android', u'phonegap/phonegap-blackberry-webworks', u'technomancy/emacs-starter-kit', u'mongodb/casbah', u'tpope/vim-surround', u'milomouse/dotfiles', u'hyde/hyde', u'avalanche123/Imagine', u'DanielRapp/Noisy', u'kaw3939/Generic-MVC-Web-Service', u'mirrors/linux-2.6', u'mxcl/homebrew', u'meskyanichi/backup', u'plataformatec/show_for', u'plataformatec/devise', u'plataformatec/simple_form', u'plataformatec/mail_form', u'gmate/gmate', u'yanekk/gedit_cucumber_table_cleaner', u'rails/rails', u'rails/arel', u'cucumber/cucumber-rails', u'indirect/rails3-generators', u'joyent/node', u'carlhuda/janus', u'jonathangeiger/kohana-jelly', u'mikhailberis/cpp-netlib', u'GraylinKim/sc2reader', u'Modernizr/Modernizr', u'ning/async-http-client', u'jquery/jquery-mobile', u'fredwu/ruby-slim-textmate-bundle', u'zacharyscott/sinatra-book', u'brow/leaves', u'knu/postgresql-plruby', u'auxesis/cucumber-nagios', u'midgetspy/Sick-Beard', u'diaspora/diaspora', u'nebiros/titanium-mobile-sdoc', u'/', u'ProLoser/AnythingSlider', u'soyjavi/euskotransit', u'rakudo/star', u'webpy/webpy.github.com', u'Shougo/vimproc', u'Shougo/unite.vim', u'Shougo/neocomplcache', u'Shougo/vimshell', u'thinca/vim-ref', u'thinca/vim-quickrun', u'wangshilian/noc', u'facebook/hiphop-php', u'tpope/vim-fugitive', u'scrooloose/nerdtree', u'mirrors/linux-2.6', u'git/git', u'antirez/redis', u'snapframework/snap-server', u'snapframework/snap-core', u'snapframework/xmlhtml', u'snapframework/snap', u'snapframework/snap-website', u'snapframework/heist', u'snapframework/snap-auth', u'snapframework/snap-static-pages', u'snapframework/snap-benchmarks', u'bdurand/sunspot_index_queue', u'outoftime/sunspot', u'haitham/sunspot_autocomplete', u'280north/narwhal', u'dpp/starting_point', u'lift/lift', u'developmentseed/bones-auth', u'n8han/Unfiltered', u'rstudio/rstudio', u'/', u'isaacs/npm', u'quartzjer/TeleHash', u'doctrine/phpcr-odm', u'sferik/rails_admin', u'kossnocorp/crab.js', u'linus123/TDDWithMvc', u'jnicklas/carrierwave', u'graulund/tweetnest', u'jnunemaker/mongomapper', u'paulirish/html5-boilerplate', u'ajaxorg/cloud9', u'mitsuhiko/flask', u'flyerhzm/rails_best_practices', u'jeffkreeftmeijer/jeffkreeftmeijer.com', u'robhawkes/rawkets', u'f055/fedit-image-editor', u'f055/fiew-image-viewer', u'markuszeller/perl.sugar', u'processone/ejabberd', u'processone/exmpp', u'processone/oms', u'processone/oneteam', u'processone/oneweb', u'bagder/curl', u'tyru/eskk.vim', u'ujihisa/vital.vim', u'tyru/cul.vim', u'tyru/savemap.vim', u'tyru/vice.vim', u'/', u'cucumber/cucumber', u'Fingertips/saga', u'rspec/rspec-rails', u'thoughtbot/high_voltage', u'lincolnloop/django-startproject', u'jacobian/django-deployment-workshop', u'plasticboy/vim-markdown', u'michaelhue/skimthrough', u'michaelhue/keyscss', u'icsharpcode/ILSpy', u'capttaco/Briefs', u'github/gitignore', u'amatsuda/kaminari_themes', u'fador/mineserver', u'cch123/python-editor', u'mazenharake/cecho', u'ornicar/php-github-api', u'jinzhu/vrome', u'ryanb/railscasts', u'rafi/jsTree', u'goyote/hint', u'rsms/kod', u'jquery/jquery', u'benhutton/friendly_id', u'norman/friendly_id', u'jshint/jshint', u'bpierre/jshint.tmbundle', u'spotweb/spotweb', u'mootools/mootools-core', u'/', u'davedevelopment/lnkd.in', u'spree/spree_paypal_express', u'MostAwesomeDude/bravo', u'AlexDenton/Hopulent', u'TrinityCore/TrinityCore', u'/', u'philsturgeon/codeigniter-restclient', u'philsturgeon/codeigniter-restserver', u'philsturgeon/codeigniter-curl', u'LearnBoost/Socket.IO-node', u'alex/django-taggit', u'dcramer/django-ratings', u'bmabey/database_cleaner', u'sandal/prawn', u'rails/jquery-ujs', u'stothardj/Sudoku', u'pypa/pip', u'coleifer/django-simple-ratings', u'moserware/AES-Illustrated', u'sevenwire/forgery', u'naugtur/jQuery-Mobile-dictionary', u'NoamB/sorcery', u'joshmcarthur/spree-hosted-gateway', u'spree/spree_affiliate', u'intridea/omniauth', u'mailru/tarantool', u'guardianproject/LUKS', u'hanklords/flickraw', u'SkyFire/SkyFireEMU', u'SkyFire/SkyFireDB', u'seattlerb/flog', u'senchalabs/philogl', u'albion/redmine-basecamp-theme', u'nu7hatch/gmail', u'h1mesuke/unite-outline', u'sproutcore/sproutcore', u'tcatm/oclminer', u'joyent/node', u'jquery/jquery', u'dojo/dojo', u'dojo/dojox', u'dojo/dijit', u'Mur4ik/ThunderG-Kernel', u'fesplugas/typus', u'rails/rails', u'jamis/theseus', u'blazingcloud/ruby_lessons', u'facebook/scribe', u'cloudera/flume', u'stonean/slim', u'briancherne/jquery-hoverIntent', u'jquery/jquery', u'jquery/jquery-ui', u'jquerytools/jquerytools', u'Yelp/mrjob', u'pgregory/blackpool', u'brianmario/mysql2', u'shantanugoel/Kinect-PS3', u'paulirish/html5-boilerplate', u'mojombo/jekyll', u'apsavin/jCanvaScript', u'ippa/jaws', u'calebh/Propulsion', u'koggdal/ocanvas', u'cloudhead/toto', u'cloudhead/dorothy', u'postrank-labs/goliath', u'phonegap/phonegap', u'ianwhite/pickle', u'mason-larobina/luakit', u'brennannovak/codeigniter-facebook-oauth', u'pawal/dnssec-monitor', u'christophevg/UmlCanvas', u'jondot/passage', u'mirrors/linux-2.6', u'git/git', u'mirrors/linux-2.6', u'mirrors/linux-2.6', u'yconst/Assemblage', u'kolber/stacey', u'altercation/solarized', u'jtsage/jquery-mobile-simpledialog', u'mrdoob/three.js', u'jeremyfry/PikaChoose', u'robertpenner/as3-signals', u'chriskite/anemone', u'/', u'/', u'naparuba/shinken', u'aFarkas/accessible--stylable-Radiobuttons-and-Checkboxes', u'rails/rails', u'voormedia/rails-erd', u'isaacs/nave', u'RevoGirl/RevoBoot', u'infews/keydown', u'intridea/omniauth', u'ryanb/cancan', u'cloudhead/toto', u'cloudhead/dorothy', u'andreberg/Meslo-Font', u'Snorby/snorby', u'andreberg/Meslo-Font', u'joshuaclayton/blueprint-css', u'topfunky/hpple', u'kohana/core', u'/', u'bmabey/database_cleaner', u'jrgifford/Tutorials', u'osCommerce/oscommerce', u'haraldpdl/oscommerce', u'msouto/REDES3V-POO-2011.1', u'spree/spree_static_content', u'romul/spree-enhanced-option-types', u'jquery/jquery', u'philippe/FrogCMS', u'asiekierka/64pixels', u'divegeek/uscode', u'sinisterchipmunk/bot-away', u'heroku/logplex', u'git/git', u'git/git', u'jquery/jquery', u'cakephp/cakephp', u'sporkd/compass-html5-boilerplate', u'mwade290/PictureSorter', u'knplabs/MenuBundle', u'knplabs/TimeBundle', u'sonata-project/NewsBundle', u'rails/rails', u'mdp/gibberish', u'jquery/jquery', u'rails/rails', u'richhickey/clojure', u'paulirish/html5-boilerplate', u'jquery/jquery-ui', u'jquery/jquery', u'jquery/jquery', u'rails/rails', u'ruby/ruby', u'tekkub/wow-ui-source', u'nadlabak/android', u'schacon/objective-git', u'libgit2/libgit2', u'libgit2/objective-git', u'jascotty2/Help', u'tkelly910/BigBrother', u'phaed420/TelePlusPlus', u'Dinnerbone/Craftbukkit', u'TheYeti/Permissions', u'jascotty2/Help', u'tkelly910/BigBrother', u'TheYeti/Permissions', u'aash/hw_app', u'BlackLight/blash', u'ericam/compass-susy-plugin', u'ddfreyne/nanoc', u'jashkenas/coffee-script', u'jnunemaker/mongomapper', u'lamfadadev/ustodo-110122_hubbub', u'michenriksen/css3buttons', u'michenriksen/css3buttons', u'marcnvidic/android_device_huawei_ideos', u'jquery/jquery', u'seatgeek/soulmate', u'DanielWaterworth/Raphters', u'ry/http-parser', u'chenshuo/recipes', u'kswedberg/jquery-tmbundle', u'bmabey/cucumber-tmbundle', u'rspec/rspec-tmbundle', u'Modernizr/Modernizr', u'SlexAxton/yepnope.js', u'scottjehl/Respond', u'mynyml/watchr', u'rails/rails', u'openid/ruby-openid', u'visionmedia/dox', u'pokeb/asi-http-request', u'paulirish/html5-boilerplate-server-configs', u'twotoasters/RestKit', u'technoweenie/allofthestars', u'nvie/gitflow', u'jquery/qunit', u'jquery/jquery', u'jquery/jquery', u'postgres/postgres', u'postgres/postgres', u'metaskills/mini_backtrace', u'alloy/MacBacon', u'mirah/mirah', u'phpmd/phpmd', u'chromium/chromium', u'mishoo/UglifyJS', u'joyent/node', u'scotchi/wikipedia-beautifier', u'ajaxorg/cloud9', u'cjohansen/Sinon.JS', u'isaacs/npm', u'rsandor/gury', u'280north/cappuccino', u'mongodb/mongo', u'ruby/ruby', u'v8/v8', u'joyent/node', u'jashkenas/coffee-script', u'mrdoob/three.js', u'SkyFire/SkyFireDB', u'kr/okjson', u'SpringSource/spring-batch-admin', u'SpringSource/spring-batch-admin', u'ezmobius/redis-rb', u'tpope/vim-haml', u'RevoGirl/RevoBoot', u'FriendsOfSymfony/UserBundle', u'ornicar/GravatarBundle', u'Garfield-fr/Symfony2Project', u'hsitz/VimOrganizer', u'akzhan/jwysiwyg', u'SkyFire/SkyFireDB', u'rkh/almost-sinatra', u'jlnr/gosu', u'rubygame/rubygame', u'jbrownlee/CleverAlgorithms', u'Vheissu/Ci-Smarty', u'retlehs/roots', u'memcached/memcached', u'nkallen/cache-money', u'Empact/roxml', u'ezmobius/ez-where', u'technoweenie/restful-authentication', u'37signals/libmemcached_store', u'stffn/declarative_authorization', u'eventmachine/eventmachine', u'mislav/will_paginate', u'rlivsey/timed_fragment_cache', u'pullmonkey/open_flash_chart', u'grimen/validatious-on-rails', u'thorny-sun/prawnto', u'mxcl/homebrew', u'joyent/node', u'gojko/jenkins', u'jenkinsci/jenkins', u'chromatic/modern_perl_book', u'TrinityCore/TrinityCore', u'visionmedia/asset', u'mojombo/jekyll', u'subsonic/SubSonic-3.0-Templates', u'CogneticCode/Bash', u'django/django', u'pinax/pinax', u'xui/xui', u'mojombo/chronic', u'robbyrussell/oh-my-zsh', u'joyent/node', u'swiz/swiz-framework', u'sattvik/decafbot', u'mirrors/linux-2.6', u'/', u'Bukkit/Bukkit', u'Bukkit/CraftBukkit', u'AlexZeitler/gitcheatsheet', u'sferik/rails_admin', u'seattlerb/minitest', u'Seldaek/sublime-plugins', u'danharper/onelineserver', u'Ramaze/ramaze', u'collectiveidea/delayed_job', u'rails/rails', u'ruby/ruby', u'jscruggs/metric_fu', u'padrino/padrino-framework', u'koggdal/ocanvas', u'ryanb/nifty-generators', u'ryanb/nifty-generators', u'zk00006/OpenTLD', u'amberbit/translator', u'Carw/SBShop', u'progit/progit', u'magro/memcached-session-manager', u'entp/warehouse', u'joyent/node', u'drnic/github-tmbundle', u'technoweenie/node-chain-gang', u'danwrong/restler', u'chriso/node.io', u'ryanmcgrath/maprejuice', u'jzellner/rogueunlike', u'basho/erlang_js', u'kwhinnery/Snapost', u'akquinet/android-archetypes', u'drtyhbo/drty', u'yui/nodejs-yui3', u'joyent/node', u'TrinityCore/TrinityCore', u'fritzy/SleekXMPP', u'blambeau/nib.js', u'vti/mojox-validator', u'vti/mojox-session', u'/', u'mongoid/mongoid', u'fgnass/jshint.tmbundle', u'jnicklas/carrierwave', u'jnicklas/capybara', u'anutron/clientcide', u'shellscape/Gmail-Notifier-Plus', u'semifor/twirc', u'2600hz/bluebox', u'Graylog2/graylog2-server', u'railstutorial/first_app', u'rackspace/csharp-cloudfiles', u'Aptina/BeagleBoard-xM', u'basyura/TwitVim', u'fluxinc/spree-simple-volume-pricing', u'indirect/jquery-rails', u'symfony/symfony', u'jnstq/munin-nginx-ubuntu', u'Snorby/snorby', u'sintaxi/phonegap', u'andymatuschak/Sparkle', u'jblemee/Coool', u'nathansearles/Slides', u'reinout/emacs-starter-kit', u'mynyml/watchr', u'antirez/redis', u'tomafro/mongo-rails-instrumentation', u'arduino/Arduino', u'DanielRapp/Noisy', u'mojombo/jekyll', u'scalatra/scalatra', u'twitter/flockdb', u'TrinityCore/TrinityCore', u'sinatra/sinatra', u'mikaa123/umlify', u'amatsuda/kaminari_themes', u'justinbaker/huh', u'svenfuchs/travis', u'amatsuda/kaminari', u'jnicklas/carrierwave', u'jnicklas/capybara', u'pilu/web-app-theme', u'teambox/teambox', u'kschiess/parslet', u'paulrouget/html5dashboard', u'thorncp/fsck', u'colder/scalaircbot', u'bdelbosc/tcsv2png', u'sstephenson/sprockets', u'/', u'stephskardal/sinatrashop', u'ginatrapani/todo.txt-cli', u'/', u'wayneeseguin/rvm', u'FooBarWidget/passenger', u'defunkt/cijoe', u'b4winckler/macvim', u'montylounge/django-mingus', u'Bukkit/Bukkit', u'sitaramc/gitolite', u'/', u'svenfuchs/gem-release', u'wvanbergen/adyen', u'mirrors/linux-2.6', u'hjlarsson/gevent-memcache', u'mthurlin/gevent-MySQL', u'jskorpan/ultrajson', u'fileability/Ingredients', u'/', u'appcelerator-titans/Aidori', u'appcelerator-titans/abcsWriter', u'appcelerator/titanium_modules', u'appcelerator/KitchenSink', u'appcelerator/tweetanium', u'jnunemaker/twitter', u'powerbot/RSBot', u'/', u'gnachman/iTerm2', u'mattheworiordan/Full-stack-testing', u'openframeworks/openFrameworks', u'johnsheehan/RestSharp', u'dawsontoth/Appcelerator-Titanium-Redux', u'github/gitignore', u'Modernizr/Modernizr', u'dchelimsky/rspec', u'mcongrove/TiFTP', u'LearnBoost/Socket.IO-node', u'/', u'ops4j/org.ops4j.pax.construct', u'ded/sink-test', u'russfrisch/Rails-HTML5-Boilerplate-Template', u'bloom-lang/bud-sandbox', u'yad/easy-mangos', u'TwP/turn', u'jeremyevans/sequel', u'/', u'nateware/redis-objects', u'Brajeshwar/Sass.mode', u'mishoo/UglifyJS', u'ajaxorg/cloud9', u'thatcher/env-js', u'stagas/maga', u'/', u'blueboy/portal', u'skammer/vim-css-color', u'TeMPOraL/dna', u'/', u'/', u'bigbluebutton/bigbluebutton', u'/', u'/', u'rsa/mangos', u'rsa/mangos', u'rsa/mangos', u'/', u'Caged/gitnub', u'aphistic/aphos', u'jagodragon/udwbase', u'defunkt/jquery-pjax', u'rdp/ruby-prof', u'manmal/MockingDroid', u'georges/pajax', u'EpicCM/samsung-initramfs-epic', u'EpicCM/android_device_samsung_epic', u'paulirish/html5-boilerplate', u'jquery/jquery', u'jquery/jquery-ui', u'ballagarba/NeavUI', u'slashmili/LiftWeblogIn30Mins', u'zk00006/OpenTLD', u'tidal/APE_PHP', u'camping/camping', u'jpmobile/jpmobile', u'blaines/git-deploy', u'blaines/git-deploy', u'/', u'playframework/play', u'lift/lift', u'petdance/ack', u'anchepiece/statuspanic', u'rmurphey/jqfundamentals', u'murtaugh/HTML5-Reset-Wordpress-Theme', u'petewarden/iPhoneTracker', u'petewarden/openheatmap', u'ashaw/ALA-Sample-Sinatra-App', u'arciem/ios-openssl', u'st3fan/ios-openssl', u'nysenatecio/NYSenateMobileApp', u'emotive/CiviMobile', u'smontgomerie/Appcelerator-iPhone-Bluetooth-Module', u'pec1985/Flash-Cards-app', u'mwaylabs/titanium-barcode', u'pec1985/Calendar-View-for-Appcelerator-v2', u'pec1985/Photo-Gallery', u'aaronksaunders/google.charts', u'mick-schroeder/RxShortages', u'omorandi/Titanium-AR', u'wibblz/Appcelerator-Barcode-Example-App', u'jrburke/require-cs', u'jrburke/require-jquery', u'alexpetrov/Mentor-Bank', u'diaspora/diaspora', u'erlang/otp', u'mochi/mochiweb', u'basho/rebar', u'basho/webmachine', u'basho/riak_core', u'josevalim/elixir', u'klacke/yaws', u'github/help.github.com', u'asconix/paperless-android', u'reddit/reddit', u'reddit/reddit', u'technomancy/emacs-starter-kit', u'phonegap/phonegap', u'LearnBoost/Socket.IO-node', u'mnutt/hummingbird', u'mishoo/UglifyJS', u'senchalabs/connect', u'LearnBoost/mongoose', u'visionmedia/masteringnode', u'jcoglan/faye', u'visionmedia/jade', u'maccman/juggernaut', u'christkv/node-mongodb-native', u'jed/fab', u'dannycoates/node-inspector', u'assaf/zombie', u'mde/geddy', u'felixge/node-mysql', u'miksago/node-websocket-server', u'fictorial/redis-node-client', u'LearnBoost/stylus', u'cloudhead/vows', u'LearnBoost/cluster', u'nodejitsu/node-http-proxy', u'felixge/node-formidable', u'substack/dnode', u'creationix/haml-js', u'robrighter/node-boilerplate', u'danwrong/restler', u'creationix/wheat', u'LearnBoost/node-canvas', u'ciaranj/node-oauth', u'cloudhead/cradle', u'pgte/fugue', u'technoweenie/twitter-node', u'aliasaria/scrumblr', u'guille/node.websocket.js', u'felixge/node-couchdb', u'creationix/do', u'hij1nx/weld', u'visionmedia/kiwi', u'astro/node-xmpp', u'dantebronto/picard', u'simonw/djangode', u'raycmorgan/Mu', u'kriszyp/multi-node', u'fictivekin/webshell', u'Marak/Faker.js', u'Marak/pdf.js', u'pgriess/node-webworker', u'LearnBoost/soda', u'felixge/node-paperboy', u'caolan/nodeunit', u'donnerjack13589/node-spdy', u'ollym/nitrode', u'isaacsu/twich', u'creationix/nvm', u'nodester/nodester', u'ivan4th/swank-js', u'mape/node-scraper', u'/', u'visionmedia/sass.js', u'remy/nodemon', u'/', u'Graylog2/graylog2-server', u'zac/iphonearkit', u'kypselia/ARKit', u'dvxhouse/jsonpipe', u'JackMorris/AMath', u'tpope/vim-fugitive', u'scrooloose/nerdtree', u'mattn/zencoding-vim', u'scrooloose/nerdcommenter', u'hsitz/VimOrganizer', u'mattn/gist-vim', u'othree/html5.vim', u'MirkoRossini/django-redis-engine', u'sproutcore/sproutcore', u'dorkitude/Pimped-Vim', u'locomotivecms/engine', u'rsms/kod', u'devinross/tapkulibrary', u'/', u'michael/substance', u'amatsuda/kaminari', u'MrMEEE/bumblebee', u'codebutler/firesheep', u'vrapper/vrapper', u'TrinityCore/TrinityCore', u'cyrilmottier/GreenDroid', u'jfjade18/sassy_flash', u'symfony/symfony', u'rsa/mangos', u'/', u'CyanogenMod/android_system_vold', u'/', u'/', u'KhasMek/platform_manifest', u'/', u'AnalisisLogico/practica03', u'/', u'/', u'/', u'rvt/LibreCAD', u'SkyFire/SkyFireEMU', u'github/help.github.com', u'mangos/mangos', u'android/platform_frameworks_base', u'melarrosa/VB-Cash-Register', u'basho/basho_bench', u'RaD/djbookru', u'android/platform_external_webkit', u'android/platform_external_jdiff', u'android/platform_external_yaffs2', u'github/gollum', u'RusticiSoftware/SCORMCloud_GoogAppEngApp', u'RusticiSoftware/SCORMCloud_JavaDemoApp', u'RusticiSoftware/SCORMCloud_Moodle19Mod', u'RusticiSoftware/SCORMCloud_LegacyJava142Library', u'RusticiSoftware/SCORMCloud_JavaLibrary', u'RusticiSoftware/SCORMCloud_NetDemoApp', u'RusticiSoftware/SCORMCloud_NetLibrary', u'RusticiSoftware/SCORMCloud_PHPLibrary', u'pedromg/twittershoes', u'unboxed/icuke', u'shoes/shoes', u'drhenner/ror_ecommerce', u'joyent/node', u'fdietz/whitenoise-mac-app', u'zyiro/android_device_motorola_sholes', u'zyiro/android_hardware_ti_omap3', u'zyiro/android_packages_apps_Superuser', u'zyiro/android_system_extras', u'zyiro/android_hardware_ti_wlan', u'zyiro/android_external_busybox', u'zyiro/android_system_wlan_ti', u'joyent/node', u'android/platform_frameworks_base', u'alex3t/rails_on_pg', u'harrah/xsbt', u'/', u'facebook/facebook-ios-sdk', u'avalanche123/Imagine', u'ChrisMcKee/gitweaver', u'dev-co/ninja-bot', u'carlhuda/janus', u'solo123/gbm_plugin', u'/', u'dradovic/SoundCloud4PS3', u'jwagener/soundcloud-front', u'soundcloud/api', u'divio/django-shop', u'gilesbowkett/xtt', u'thoughtbot/clearance', u'binarylogic/authlogic', u'elevation/event_calendar', u'haxney/ezbl', u'hotsh/rstat.us', u'jquery/jquery', u'SkyFire/SkyFireDB', u'Caged/gitnub', u'instructure/canvas-lms', u'stonean/slim', u'cloudspace/mockups', u'osmwp/MeMoPlayer', u'douglascrockford/JSON-js', u'SkyFire/SkyFireDB', u'SkyFire/SkyFireEMU', u'dzignus/jqfundamentals', u'mrdoob/three.js', u'indirect/jquery-rails', u'rails/rails', u'Sensebloom/OSCeleton', u'hotsh/rstat.us', u'christophercliff/sausage', u'technoweenie/faraday', u'/', u'travis-ci/travis-ci', u'mikeal/spider', u'Barrucadu/home', u'joyent/node', u'/', u'SkyFire/SkyFireDB', u'/', u'/', u'/', u'X529970/touristsNaction', u'/', u'/', u'Sophrinix/TryRuby', u'facebook/phpembed', u'facebook/hiphop-php', u'facebook/tornado', u'facebook/php-sdk', u'mrdoob/three.js', u'TrinityCore/TrinityCore', u'drogus/apache-upload-progress-module', u'phpbb/support-toolkit', u'weiglewilczek/sbteclipse', u'koraktor/steam-condenser', u'wayneeseguin/rvm', u'darwin/visor', u'github/github-services', u'37signals/pow', u'/', u'thoughtbot/paperclip', u'/', u'/', u'comex/attach-and-detach', u'jquery/testswarm', u'davist11/jQuery-Presentation', u'scala/scala', u'maccman/spine', u'paulirish/html5-boilerplate', u'petewarden/iPhoneTracker', u'jquery/jquery-ui', u'sintaxi/phonegap', u'baskerville/iTerm-2-Color-Themes', u'scalatra/scalatra', u'appendto/jquery-mockjax', u'DanielWaterworth/Raphters', u'tomerfiliba/rpyc', u'stympy/faker', u'jlong/serve', u'schacon/showoff', u'mirrors/linux-2.6', u'kripken/emscripten', u'farinspace/wpalchemy', u'apotonick/roar', u'apotonick/restful_order', u'visionmedia/dox', u'lojjic/PIE', u'soveran/cuba', u'mojombo/semver.org', u'technoweenie/restful-authentication', u'mongodb/mongo', u'mongodb/mongo-java-driver', u'mongodb/mongo-python-driver', u'antirez/redis', u'indexzero/forever', u'sinefunc/sinatra-support', u'rstacruz/sinatra-template', u'antirez/redis-io', u'symfony/symfony', u'symfony/symfony', u'/', u'avalanche123/Imagine', u'sausheong/chirp', u'ahoward/map', u'elasticsearch/elasticsearch', u'ChainsDD/Superuser', u'android/platform_frameworks_base', u'telerik/razor-converter', u'/', u'/', u'xbmc/xbmc', u'/', u'/', u'/', u'/', u'/', u'github/pycon2011', u'TrinityCore/TrinityCore', u'/', u'/', u'/', u'/', u'/', u'/', u'behlendorf/zfs', u'/', u'spdr870/gitextensions', u'tukz/tukz.github.com', u'hajimehoshi/starruby', u'stonean/slim', u'pivotal/jasmine', u'documentcloud/underscore', u'visionmedia/express', u'github/gitignore', u'nvie/gitflow', u'matheusmoreira/forumby', u'matheusmoreira/forumby', u'/', u'/', u'SkyFire/SkyFireEMU', u'magicalpanda/MagicalRecord', u'/', u'capita/redmine_trackmine', u'edavis10/redmine', u'/', u'ivansafrin/Geest', u'openemr/openemr', u'Elv22/Tukui', u'Elv22/Tukui', u'Elv22/Tukui', u'mikl/drupal', u'Idivaldo/serrana', u'Pylons/pyramid', u'robbyrussell/oh-my-zsh', u'SinCityRuby/TrapQueue', u'LaurentGomila/SFML', u'mxcl/homebrew', u'vincentisambart/hotconsole', u'CyanogenMod/android_packages_apps_Music', u'CyanogenMod/android_packages_apps_Mms', u'CyanogenMod/android_packages_apps_Email', u'sparkfun/hacker-application', u'krisv/jbpm', u'tsurdilo/jbpm', u'seam/jbpm', u'sinatra/sinatra', u'CyanogenMod/android_packages_apps_Superuser', u'jnunemaker/twitter', u'CyanogenMod/android_system_vold', u'CyanogenMod/android_build', u'CyanogenMod/android_external_bluetooth_bluez', u'CyanogenMod/android_external_e2fsprogs', u'/', u'mishoo/UglifyJS', u'280north/cappuccino', u'libgit2/libgit2', u'rsms/kod', u'fileability/Ingredients', u'fernyb/Sequel-J', u'Caged/gitnub', u'entp/warehouse', u'jsgoecke/tvshows', u'zcohan/TVShows', u'victorpimentel/TVShows', u'ginatrapani/todo.txt-touch', u'schacon/simplegit', u'/', u'/', u'alanhogan/lessnmore', u'git/git', u'/', u'Idivaldo/javaserrana', u'/', u'/', u'/', u'/', u'webmademovies/butter', u'sinatra/sinatra', u'/', u'chrisdone/pdfinfo', u'codereflection/Giles', u'mgutz/nanoc3_blog', u'/', u'/', u'/', u'mxcl/homebrew', u'2600hz/bluebox', u'2600hz/bluebox', u'/', u'thedevnull/thedevnull-patches', u'ch33kybutt/i5700-kernel', u'ch33kybutt/i5700-kernel', u'blynn/gitmagic', u'/', u'erickrause/todo-cal', u'pivotal/jasmine', u'/', u'example42/puppet-modules', u'github/pycon2011', u'/', u'rsa/mangos', u'chocolateboy/pmsencoder', u'metaskills/mini_shoulda', u'floehopper/mocha', u'facebook/facebook-ios-sdk', u'cloudhead/less.js', u'phpbb/phpbb3', u'matricks/teeworlds', u'sebastianbergmann/phpunit', u'/', u'facebook/python-sdk', u'JWT-OSS/Google-Geocoding-PHP-SDK-Unofficial', u'SkyFire/SkyFireDB', u'n2cms/n2cms', u'hippich/poker-engine', u'ccgus/fmdb', u'/', u'divegeek/uscode', u'pero-ict-solutions/spree-homepager', u'bradley-holt/postr', u'janl/mustache.js', u'/', u'kohana/core', u'mxcl/homebrew', u'zeromq/jzmq', u'nette/nette', u'tomaz/appledoc', u'cameronmcefee/Image-Diff-View-Modes', u'nette/nette', u'JWT-OSS/sfJwtPhpUnitPlugin', u'/', u'2600hz/bluebox', u'rails/rails', u'josevalim/inherited_resources', u'plataformatec/simple_form', u'plataformatec/devise', u'amazonwebservices/aws-sdk-for-ios', u'andymatuschak/Sparkle', u'bsdperimeter/pfsense', u'mxcl/homebrew', u'/', u'tobmaps/TrinityCore', u'danielcrenna/json', u'/', u'Ocularis/PixelConsole', u'Krazus/World-Of-BakaCraft', u'infinispan/infinispan', u'SkyFire/SkyFireDB', u'lxchavez/Daily49er-Android-App', u'/', u'/', u'Iov/mangos', u'rails/rails', u'Iov/mangos', u'CyanogenMod/android_packages_apps_Contacts', u'/', u'/', u'OMJ-/gingerbread_vendor', u'freenet/fred-staging', u'mtigas/django-gheat', u'patrikf/glip', u'patrikf/ewiki', u'slspeek/jQueryTrails', u'SkyFire/SkyFireDB', u'/', u'ModADroid/platform_packages_apps_phone', u'dstendardi/AriadneBundle', u'mojombo/god', u'langalex/couch_potato', u'/', u'android/platform_frameworks_policies_base', u'koraktor/steam-condenser', u'ModADroid/platform_packages_apps_phone', u'ModADroid/platform_development', u'johnezang/JSONKit', u'mozilla/narcissus', u'mishoo/UglifyJS', u'ry/http-parser', u'joyent/node', u'opscode/chef', u'szjani/equcms', u'FacialTurd/The-Powder-Toy', u'bradbeattie/redmine-schedules-plugin', u'AD7six/git-hooks', u'romul/spree-enhanced-option-types', u'/', u'mirrors/linux-2.6', u'wbzyl/jblog', u'jt1134/android_packages_apps_Contacts', u'wingrime/android_kernel_swift', u'jenkinsci/jenkins', u'CyanogenMod/android_packages_apps_Music', u'fritzy/SleekXMPP', u'mason-larobina/luakit', u'codeguy/Slim', u'Bukkit/Bukkit', u'yohcop/web.go', u'stevedekorte/io', u'rhauch/modeshape', u'MSeven/cakephp_queue', u'timburks/nu', u'/', u'technoweenie/allofthestars', u'miksago/node-websocket-server', u'miksago/node-websocket-server', u'X529970/touristsNaction', u'ShaneC/Project-14S2', u'soyjavi/euskotransit', u'rumex/RXCustomTabBar', u'jdbarron/QualityAssuranceSSE72Group3', u'/', u'/', u'visionworkbench/visionworkbench', u'CyanogenMod/android_packages_apps_SoundRecorder', u'/', u'/', u'cvpcs/android_packages_apps_AppWidgetPicker', u'peteralfonso/platform_packages_inputmethods_LatinIME', u'nvie/gitflow', u'cinchrb/cinch', u'CyanogenMod/android_device_motorola_sholes', u'2600hz/bluebox', u'datamapper/dm-validations', u'markcipolla/Hudson-Global-Dashboard', u'/', u'Behat/Behat', u'Behat/Behat', u'robolson/watchtower', u'phleet/sc2ranks', u'cortesi/qtile', u'Lothy/Dionysus', u'webkitdotnet/webkitdotnet', u'/', u'resolve/refinerycms', u'octocat/Spoon-Knife', u'mxcl/homebrew', u'joshmcarthur/spree-hosted-gateway', u'/', u'/', u'kvz/phpjs', u'fdietz/whitenoise-mac-app', u'/', u'kohana/core', u'/', u'rsence/projectplus', u'jsmadja/project-wall', u'tibbe/unordered-containers', u'/', u'pivotalexperimental/wschef', u'aptana/studio3', u'theasta/vim-config', u'icsharpcode/ILSpy', u'/', u'octocat/Spoon-Knife', u'/', u'opengeo/readygxp', u'technomancy/emacs-starter-kit', u'drewblas/aws-ses', u'nodanaonlyzuul/SESChange', u'jfabian/Simulacion-de-lluvias', u'LeoAdamek/MC-PlayerCharter', u'Snorby/snorby', u'andymatuschak/Sparkle', u'/', u'/', u'ruflin/Elastica', u'peritor/simply_stored', u'jweiss/rocking_chair', u'jzaefferer/jquery-validation', u'abhishekmunie/abhishekmunie.github.com', u'SkyFire/SkyFireDB', u'mirrors/linux-2.6', u'teamSbrissenmod/platform_manifest', u'ericholscher/pony_barn', u'highergroundstudio/Google-CDN-newest-trick', u'thegdb/domaincli', u'michaeldv/fat_free_crm', u'fuel/fuel', u'infomaniac50/MembershipStarterKit', u'frankbille/teachus', u'SkyFire/SkyFireDB', u'iamjwc/yown', u'kohana/orm', u'SkyFire/SkyFireDB', u'SkyFire/SkyFireDB', u'SkyFire/SkyFireDB', u'Dieterbe/uzbl', u'piyushmishra/sambhuti', u'schacon/ShowOffPad', u'robstyles/Massive-Coupon---Open-source-groupon-clone', u'mxcl/homebrew', u'rafaelp/css_browser_selector', u'StefanKjartansson/Cloudstack-Python-Client', u'RavensKrag/eternity', u'punbb/punbb', u'TheMarco/Unit-Converter', u'midgetspy/Sick-Beard', u'octocat/Spoon-Knife', u'loggly/collectd-to-graphite', u'andrejbauer/Homotopy', u'havard/node-openid', u'kesiev/akihabara', u'/', u'ushahidi/Ushahidi_Web', u'sinsai/capfile', u'simonleber/6LoWPAN_SN', u'opscode/cookbooks', u'ajaxorg/cloud9', u'opscode/cookbooks', u'FriendsOfSymfony/UserBundle', u'ornicar/MessageBundle', u'ornicar/GravatarBundle', u'tombell/jessica', u'Garfield-fr/Symfony2Project', u'tombell/jessica-viewengine-dotliquid', u'tombell/jessica-factory-structuremap', u'tombell/jessica-factory-ninject', u'nephthys/insidetags', u'cloudhead/dorothy', u'danharper/onelineserver', u'slambert/wpfolio', u'pgregory/blackpool', u'daleharvey/dropup', u'Savaged-Zen/platform_packages_apps_camera', u'/', u'Savaged-Zen/android_packages_apps_TerminalVT100', u'Savaged-Zen/android', u'Savaged-Zen/android_vendor_htc', u'/', u'Savaged-Zen/platform_system_core', u'Savaged-Zen/android_device_htc_supersonic', u'Savaged-Zen/android_hardware_libhardware_legacy', u'Savaged-Zen/platform_frameworks_base', u'Savaged-Zen/android_hardware_libhardware', u'Savaged-Zen/platform_packages_apps_settings', u'/', u'Savaged-Zen/android_packages_apps_SZLauncher', u'Savaged-Zen/platform_packages_apps_email', u'Savaged-Zen/apps_SZ_Wallpapers', u'Savaged-Zen/android_system_extras', u'/', u'Savaged-Zen/platform_vendor_SavagedZen', u'Savaged-Zen/platform_packages_apps_mms', u'Savaged-Zen/platform_packages_apps_Bluetooth', u'Savaged-Zen/android_packages_apps_Superuser', u'/', u'/', u'/', u'Savaged-Zen/platform_external_flac', u'Savaged-Zen/platform_packages_apps_Launcher2', u'/', u'Savaged-Zen/platform_bionic', u'Savaged-Zen/platform_external_skia', u'Savaged-Zen/android_packages_apps_FileManager', u'Savaged-Zen/android_hardware_qcom_gps', u'/', u'snusnu/dm-is-localizable', u'mnutt/hummingbird', u'bagder/curl', u'vvuksan/ganglia-misc', u'stevedekorte/io', u'silinoron/SilinoronParser', u'ssiangge/helloworld', u'tropo/simpleMessage', u'facebook/tornado', u'mxcl/homebrew', u'/', u'/', u'symfony/symfony', u'phpbb/support-toolkit', u'TrinityCore/TrinityCore', u'TouchCode/TouchXML', u'TouchCode/TouchJSON', u'TrinityCore/TrinityCore', u'HandBrake/HandBrake', u'oy/teeworlds', u'pjambet/namae-bnf', u'emesene/emesene', u'octocat/Spoon-Knife', u'/', u'musk/SbtEclipsify', u'm4j3st1c/tic-tac-toe', u'stevedekorte/io', u'/', u'mwaterfall/MWFeedParser', u'Elv22/Tukui', u'Elv22/Tukui', u'Elv22/Tukui', u'Caged/gitnub', u'divio/django-shop', u'bloom-lang/bud-sandbox', u'm4j3st1c/tic-tac-toe', u'opscode/cookbooks', u'/', u'/', u'/', u'/', u'Bukkit/CraftBukkit', u'kohana/orm', u'mattheworiordan/Full-stack-testing', u'Elgg/Elgg', u'openframeworks/openFrameworks', u'miracle2k/tarsnapper', u'jsgoecke/tvshows', u'Idivaldo/javaserrana', u'spree/spree-guides', u'josevalim/enginex', u'projet11efr/project11', u'/', u'wangshilian/noc', u'itspriddle/textmate-config', u'github/help.github.com', u'CyanogenMod/android_bionic', u'CyanogenMod/android_system_netd', u'CyanogenMod/android_system_core', u'xbmc/xbmc', u'github/pycon2011', u'adamdunkels/contiki-2.x', u'dennmart/mongoshort', u'jmcnamara/spreadsheet-parseexcel', u'moodle/moodle', u'Philio/GoMySQL', u'clojure/clojure-contrib', u'tdh2002/TT', u'Zae/FacebookOAuth', u'icsharpcode/ILSpy', u'drio/dotfiles', u'drio/dotfiles', u'drio/dotfiles', u'subsonic/SubSonic-3.0-Templates', u'mailserv/mailserv', u'TimWolla/timwolla.github.com', u'oy/teeworlds', u'cleaton/liquid_ramdisk', u'cleaton/liquid-chocolate', u'cleaton/liquid_ramdisk', u'cleaton/liquid-chocolate', u'mxcl/homebrew', u'mpatric/mp3agic', u'jlindsey/dot-vim', u'der-rich/yUMLmeRails', u'binarylogic/authlogic', u'erlyvideo/erlyvideo', u'apenwarr/sshuttle', u'drbrain/meme', u'CogneticCode/Bash', u'cbilson/emacs-starter-kit', u'Raphfrk/CraftProxy', u'sigurdga/solarized', u'patricksan/Synchronizer-Movies', u'github/github-services', u'neovasolutions/rmeetup', u'TrinityCore/TrinityCore', u'FriendsOfSymfony/FacebookBundle', u'svenfuchs/i18n-active_record', u'marcnvidic/android_device_huawei_ideos', u'funtoo/funtoo-overlay', u'joyent/node', u'tidal/APE_PHP', u'RevoGirl/RevoBoot', u'blynn/gitmagic', u'ModADroid/android_packages_apps_Launcher2', u'auxesis/visage', u'quicksilver/Quicksilver', u'quicksilver/Plugins', u'quicksilver/QSApp.com', u'johnewart/ruby-metrics', u'spotweb/spotweb', u'rhomobile/rhodes', u'rhomobile/rhodes-system-api-samples', u'nathansearles/Slides', u'cortesi/qtile', u'wiz/aka-study', u'waylan/Python-Markdown', u'kohana/core', u'octocat/Spoon-Knife', u'octocat/Spoon-Knife', u'ModADroid/android_device_samsung_fascinate', u'facebook/three20', u'stig/json-framework', u'TouchCode/TouchJSON', u'multitheftauto/multitheftauto', u'LearnBoost/Socket.IO-node', u'mikevader/cashcow', u'jacobian/django-pjax', u'apache/cassandra', u'/', u'fullwall/DeathStick', u'jallen8484/AirportSimulator', u'pershoot/vision-2632', u'pershoot/vision-2632', u'/', u'hippich/poker-engine', u'jblemee/RecommendizR', u'hippich/poker-engine', u'hippich/poker-engine', u'hajimehoshi/starruby', u'diaspora/diaspora', u'jurgens/flickbar', u'mzenz/ACT', u'A-Metaphysical-Drama/BloodyCore', u'etolabo/kumofs', u'/', u'devinross/tapkulibrary', u'hiokidaichi/sample', u'ruby/ruby', u'kohana/core', u'/', u'/', u'tekkub/tekticles', u'octocat/Spoon-Knife', u'exitlights/FairSpawn', u'subwindow/negative-captcha', u'NBStarmonkeys/test_project', u'subwindow/negative-captcha', u'robhudson/python-paper-enigma', u'SkyFire/SkyFireDB', u'netarchy/Supersonic-2.6.32', u'jquery/jquery', u'mangos/zero', u'scriptdev/scriptdevzero', u'kotobuki/geiger-counter', u'matthiask/feincms', u'ModADroid/platform_packages_apps_contacts', u'pdickey/mgha_hockey', u'SkyFire/SkyFireDB', u'carlhuda/bundler', u'BrisFunctional/tdd-projects', u'bloom-lang/bud-sandbox', u'bloom-lang/bud', u'ros-pkg-git/libfreenect', u'JackMorris/AMath', u'noelg/symfony-demo', u'tobmaps/TrinityCore', u'EpicCM/android_device_samsung_epic', u'Konctantin/wowhead_parser', u'SkyFire/SkyFireEMU', u'/', u'django/django', u'castleproject/Castle.Facilities.Wcf', u'mikel/getting-started-code', u'jedisct1/pure-ftpd', u'pycassa/pycassa', u'driftx/Telephus', u'zippy/flowplace', u'pershoot/vision-2632', u'youen/djity', u'facebook/php-sdk', u'charleso/git-cc', u'charleso/git-cc', u'mikehadlow/AsmSpy', u'martinhanzalek/test', u'jurgens/flickbar', u'zeroroot/zkclient', u'paullik/dotophp', u'subwindow/negative-captcha', u'facebook/connect-js', u'CyanogenMod/htc-kernel-msm7x30', u'mxcl/homebrew', u'jdubois/Tudu-Lists', u'django/django', u'CyanogenMod/android_frameworks_base', u'mangosR2/mangos', u'blueboy/portal', u'blueboy/portal', u'jblemee/RecommendizR', u'subwindow/negative-captcha', u'spikensbror/McWife', u'octocat/Spoon-Knife', u'NESCent/dataone-ws-tester', u'SkyFire/SkyFireDB', u'SkyFire/SkyFireDB', u'edgecase/ruby_koans', u'etsy/statsd', u'cloudhead/toto', u'studiomohawk/jekyll-theme-the_minimum', u'octocat/Spoon-Knife', u'kohana/orm', u'CyanogenMod/android', u'mrflip/graphiterb', u'fritzy/SleekXMPP', u'havard/node-openid', u'sympy/sympy', u'robn/pioneer', u'symfony/symfony', u'/', u'oy/teeworlds', u'symfony/symfony', u'oy/teeworlds', u'CyanogenMod/cm-kernel', u'stevedekorte/io', u'BonsaiDen/JavaScript-Garden', u'12meses12katas/Marzo-FizzBuzz', u'pyrocms/pyrocms', u'acquia/commons', u'Sophrinix/TryRuby', u'CyanogenMod/android_vendor_cyanogen', u'geb/geb-example-gradle', u'mxcl/homebrew', u'/', u'mxcl/homebrew', u'rdohms/facebook-testuser-manager', u'rimbi/bookcrawler', u'docunext/docunext_dotfiles', u'tekezo/KeyRemap4MacBook', u'rvt/LibreCAD', u'powerbot/RSBot', u'wallix/redemption', u'ewinslow/elgg-htmlpurifier', u'emesene/emesene', u'Inferna/mangos', u'Shadowed/ShadowedUnitFrames', u'fayland/perl-net-github', u'octocat/Spoon-Knife', u'matricks/teeworlds', u'/', u'robik/Graphix', u'juradoz/horarioVerao', u'juradoz/definicao', u'juradoz/connectionPool', u'juradoz/HotLog', u'juradoz/avayaJtapi', u'juradoz/avayaIntegration', u'juradoz/socket', u'juradoz/ctconector', u'juradoz/jAzConector', u'juradoz/integracaoGennex', u'Shougo/vimproc', u'Ladislaus/insert-blog-title-here', u'tkelly910/hEmail', u'wendymock/mujava', u'wendymock/mujava', u'/', u'apenwarr/sshuttle', u'karsthammer/web-app-theme', u'pilu/web-app-theme', u'JeremyChase/OpenBSD-Snapshot-updates', u'richardbolt/django-transmeta', u'nabuur/nabuur-d5', u'TrinityCore/TrinityCore', u'mono/MonoGame', u'SparkViewEngine/spark', u'fullwall/GastronomicWater', u'fullwall/Gastronomic', u'CyanogenMod/htc-kernel-msm7x30', u'CyanogenMod/htc-kernel-msm7x30']}\n"
       ]
      }
     ],
     "prompt_number": 20
    },
    {
     "cell_type": "markdown",
     "metadata": {},
     "source": [
      "# 2012 Begins"
     ]
    },
    {
     "cell_type": "code",
     "collapsed": false,
     "input": [
      "df12 = sqlContext.jsonFile(\"hdfs://ec2-52-8-127-252.us-west-1.compute.amazonaws.com:9000/data_jan2015/2012-*.*\")"
     ],
     "language": "python",
     "metadata": {},
     "outputs": [],
     "prompt_number": 6
    },
    {
     "cell_type": "code",
     "collapsed": false,
     "input": [
      "df12.show()"
     ],
     "language": "python",
     "metadata": {},
     "outputs": [
      {
       "output_type": "stream",
       "stream": "stdout",
       "text": [
        "_corrupt_record actor                actor_attributes created_at           id         org                  payload              public repo                 repository type          url \n",
        "null            {\"gravatar_id\":\"b... null             2012-01-01T00:00:09Z 1508512236 null                 [null,null,null,n... true   [3055800,knowledg... null       PushEvent     null\n",
        "null            {\"gravatar_id\":\"7... null             2012-01-01T00:00:09Z 1508512237 null                 [null,null,null,n... true   [3081214,ozanturg... null       PushEvent     null\n",
        "null            {\"gravatar_id\":\"a... null             2012-01-01T00:00:12Z 1508512238 null                 [null,null,null,n... true   [3007212,eatnumbe... null       PushEvent     null\n",
        "null            {\"gravatar_id\":\"b... null             2012-01-01T00:00:12Z 1508512241 null                 [started,null,nul... true   [3079723,ronreite... null       WatchEvent    null\n",
        "null            {\"gravatar_id\":\"8... null             2012-01-01T00:00:14Z 1508512245 [https://secure.g... [null,null,null,n... true   [487828,DMDirc/DM... null       PushEvent     null\n",
        "null            {\"gravatar_id\":\"1... null             2012-01-01T00:00:15Z 1508512248 [https://secure.g... [null,null,null,n... true   [1012339,mozilla/... null       PushEvent     null\n",
        "null            {\"gravatar_id\":\"f... null             2012-01-01T00:00:16Z 1508512249 null                 [null,null,null,n... true   [3077770,breakhea... null       PushEvent     null\n",
        "null            {\"gravatar_id\":\"6... null             2012-01-01T00:00:18Z 1508512251 null                 [null,null,null,n... true   [3081069,adambyra... null       PushEvent     null\n",
        "null            {\"gravatar_id\":\"8... null             2012-01-01T00:00:19Z 1508512253 [https://secure.g... [null,null,null,n... true   [491743,DMDirc/Ut... null       PushEvent     null\n",
        "null            {\"gravatar_id\":\"e... null             2012-01-01T00:00:20Z 1508512254 null                 [null,null,null,n... true   [3021499,thedjpet... null       PushEvent     null\n",
        "null            {\"gravatar_id\":\"8... null             2012-01-01T00:00:22Z 1508512257 [https://secure.g... [null,null,null,n... true   [1954037,habari/s... null       PushEvent     null\n",
        "null            {\"gravatar_id\":\"9... null             2012-01-01T00:00:24Z 1508512258 null                 [null,null,null,n... true   [2906737,josebet1... null       CreateEvent   null\n",
        "null            {\"gravatar_id\":\"4... null             2012-01-01T00:00:27Z 1508512259 [https://secure.g... [null,null,null,n... true   [3074618,narvik-s... null       PushEvent     null\n",
        "null            {\"gravatar_id\":\"9... null             2012-01-01T00:00:30Z 1508512260 null                 [null,null,null,n... true   [2260424,hagleitn... null       DownloadEvent null\n",
        "null            {\"gravatar_id\":\"c... null             2012-01-01T00:00:31Z 1508512262 null                 [null,null,null,n... true   [1744616,andreaso... null       PushEvent     null\n",
        "null            {\"gravatar_id\":\"2... null             2012-01-01T00:00:31Z 1508512265 null                 [null,null,null,n... true   [3081229,shindows... null       CreateEvent   null\n",
        "null            {\"gravatar_id\":\"b... null             2012-01-01T00:00:32Z 1508512266 null                 [null,null,null,n... true   [3054454,isaacsan... null       PushEvent     null\n",
        "null            {\"gravatar_id\":\"e... null             2012-01-01T00:00:36Z 1508512267 [https://secure.g... [null,null,null,n... true   [1782396,sympy/pl... null       PushEvent     null\n",
        "null            {\"gravatar_id\":\"1... null             2012-01-01T00:00:53Z 1508512272 null                 [started,null,nul... true   [2929426,taitems/... null       WatchEvent    null\n",
        "null            {\"gravatar_id\":\"5... null             2012-01-01T00:00:55Z 1508512273 null                 [started,null,nul... true   [2939440,addyosma... null       WatchEvent    null\n"
       ]
      }
     ],
     "prompt_number": 17
    },
    {
     "cell_type": "code",
     "collapsed": false,
     "input": [
      "df12_watch = df12.filter(\"type='WatchEvent'\")\n",
      "df12_commit = df12.filter(\"type='CommitCommentEvent'\")\n",
      "df12_fork = df12.filter(\"type='ForkEvent'\")\n",
      "\n",
      "sqlContext.registerDataFrameAsTable(df12_watch, \"df12_watch_table\")\n",
      "sqlContext.registerDataFrameAsTable(df12_commit, \"df12_commit_table\")\n",
      "sqlContext.registerDataFrameAsTable(df12_fork, \"df12_fork_table\")"
     ],
     "language": "python",
     "metadata": {},
     "outputs": [],
     "prompt_number": 11
    },
    {
     "cell_type": "code",
     "collapsed": false,
     "input": [
      "df12_watch_altered = sqlContext.sql(\"SELECT actor, repo, type FROM df12_watch_table\")\n",
      "df12_commit_altered = sqlContext.sql(\"SELECT actor, repo, type FROM df12_commit_table\")\n",
      "df12_fork_altered = sqlContext.sql(\"SELECT actor, repo, type FROM df12_fork_table\")"
     ],
     "language": "python",
     "metadata": {},
     "outputs": [],
     "prompt_number": 12
    },
    {
     "cell_type": "code",
     "collapsed": false,
     "input": [
      "sqlContext.registerDataFrameAsTable(df12_watch_altered, \"df12_watch_altered_table\")\n",
      "sqlContext.registerDataFrameAsTable(df12_commit_altered, \"df12_commit_altered_table\")\n",
      "sqlContext.registerDataFrameAsTable(df12_fork_altered, \"df12_fork_altered_table\")\n",
      "\n",
      "df12_altered_union = sqlContext.sql(\"SELECT * from df12_watch_altered_table UNION ALL SELECT * from df12_commit_altered_table UNION ALL SELECT * from df12_fork_altered_table\")"
     ],
     "language": "python",
     "metadata": {},
     "outputs": [],
     "prompt_number": 14
    },
    {
     "cell_type": "code",
     "collapsed": false,
     "input": [
      "user_repo_map12 = df12_altered_union.map(lambda x: (x.actor.login, list([x.repo.name]))).groupByKey() "
     ],
     "language": "python",
     "metadata": {},
     "outputs": [],
     "prompt_number": 15
    },
    {
     "cell_type": "code",
     "collapsed": false,
     "input": [
      "user_repo12 = user_repo_map12.map(lambda x: {\"username\":x[0], \"repo\":[user for sublist in x[1] for user in sublist]}).collect()"
     ],
     "language": "python",
     "metadata": {},
     "outputs": [
      {
       "ename": "Py4JJavaError",
       "evalue": "An error occurred while calling z:org.apache.spark.api.python.PythonRDD.collectAndServe.\n: org.apache.spark.SparkException: Job aborted due to stage failure: Task 18 in stage 5.0 failed 4 times, most recent failure: Lost task 18.3 in stage 5.0 (TID 17263, ip-172-31-13-240.us-west-1.compute.internal): org.apache.spark.api.python.PythonException: Traceback (most recent call last):\n  File \"/usr/local/spark/python/pyspark/worker.py\", line 101, in main\n    process()\n  File \"/usr/local/spark/python/pyspark/worker.py\", line 96, in process\n    serializer.dump_stream(func(split_index, iterator), outfile)\n  File \"/usr/local/spark/python/pyspark/rdd.py\", line 2252, in pipeline_func\n    return func(split, prev_func(split, iterator))\n  File \"/usr/local/spark/python/pyspark/rdd.py\", line 2252, in pipeline_func\n    return func(split, prev_func(split, iterator))\n  File \"/usr/local/spark/python/pyspark/rdd.py\", line 282, in func\n    return f(iterator)\n  File \"/usr/local/spark/python/pyspark/rdd.py\", line 1705, in combineLocally\n    merger.mergeValues(iterator)\n  File \"/usr/local/spark/python/pyspark/shuffle.py\", line 252, in mergeValues\n    for k, v in iterator:\n  File \"<ipython-input-15-adb506dbec41>\", line 1, in <lambda>\nAttributeError: 'unicode' object has no attribute 'login'\n\n\tat org.apache.spark.api.python.PythonRDD$$anon$1.read(PythonRDD.scala:135)\n\tat org.apache.spark.api.python.PythonRDD$$anon$1.<init>(PythonRDD.scala:176)\n\tat org.apache.spark.api.python.PythonRDD.compute(PythonRDD.scala:94)\n\tat org.apache.spark.rdd.RDD.computeOrReadCheckpoint(RDD.scala:277)\n\tat org.apache.spark.rdd.RDD.iterator(RDD.scala:244)\n\tat org.apache.spark.api.python.PairwiseRDD.compute(PythonRDD.scala:311)\n\tat org.apache.spark.rdd.RDD.computeOrReadCheckpoint(RDD.scala:277)\n\tat org.apache.spark.rdd.RDD.iterator(RDD.scala:244)\n\tat org.apache.spark.scheduler.ShuffleMapTask.runTask(ShuffleMapTask.scala:68)\n\tat org.apache.spark.scheduler.ShuffleMapTask.runTask(ShuffleMapTask.scala:41)\n\tat org.apache.spark.scheduler.Task.run(Task.scala:64)\n\tat org.apache.spark.executor.Executor$TaskRunner.run(Executor.scala:203)\n\tat java.util.concurrent.ThreadPoolExecutor.runWorker(ThreadPoolExecutor.java:1145)\n\tat java.util.concurrent.ThreadPoolExecutor$Worker.run(ThreadPoolExecutor.java:615)\n\tat java.lang.Thread.run(Thread.java:745)\n\nDriver stacktrace:\n\tat org.apache.spark.scheduler.DAGScheduler.org$apache$spark$scheduler$DAGScheduler$$failJobAndIndependentStages(DAGScheduler.scala:1204)\n\tat org.apache.spark.scheduler.DAGScheduler$$anonfun$abortStage$1.apply(DAGScheduler.scala:1193)\n\tat org.apache.spark.scheduler.DAGScheduler$$anonfun$abortStage$1.apply(DAGScheduler.scala:1192)\n\tat scala.collection.mutable.ResizableArray$class.foreach(ResizableArray.scala:59)\n\tat scala.collection.mutable.ArrayBuffer.foreach(ArrayBuffer.scala:47)\n\tat org.apache.spark.scheduler.DAGScheduler.abortStage(DAGScheduler.scala:1192)\n\tat org.apache.spark.scheduler.DAGScheduler$$anonfun$handleTaskSetFailed$1.apply(DAGScheduler.scala:693)\n\tat org.apache.spark.scheduler.DAGScheduler$$anonfun$handleTaskSetFailed$1.apply(DAGScheduler.scala:693)\n\tat scala.Option.foreach(Option.scala:236)\n\tat org.apache.spark.scheduler.DAGScheduler.handleTaskSetFailed(DAGScheduler.scala:693)\n\tat org.apache.spark.scheduler.DAGSchedulerEventProcessLoop.onReceive(DAGScheduler.scala:1393)\n\tat org.apache.spark.scheduler.DAGSchedulerEventProcessLoop.onReceive(DAGScheduler.scala:1354)\n\tat org.apache.spark.util.EventLoop$$anon$1.run(EventLoop.scala:48)\n",
       "output_type": "pyerr",
       "traceback": [
        "\u001b[0;31m---------------------------------------------------------------------------\u001b[0m\n\u001b[0;31mPy4JJavaError\u001b[0m                             Traceback (most recent call last)",
        "\u001b[0;32m<ipython-input-16-30badaaf1707>\u001b[0m in \u001b[0;36m<module>\u001b[0;34m()\u001b[0m\n\u001b[0;32m----> 1\u001b[0;31m \u001b[0muser_repo12\u001b[0m \u001b[0;34m=\u001b[0m \u001b[0muser_repo_map12\u001b[0m\u001b[0;34m.\u001b[0m\u001b[0mmap\u001b[0m\u001b[0;34m(\u001b[0m\u001b[0;32mlambda\u001b[0m \u001b[0mx\u001b[0m\u001b[0;34m:\u001b[0m \u001b[0;34m{\u001b[0m\u001b[0;34m\"username\"\u001b[0m\u001b[0;34m:\u001b[0m\u001b[0mx\u001b[0m\u001b[0;34m[\u001b[0m\u001b[0;36m0\u001b[0m\u001b[0;34m]\u001b[0m\u001b[0;34m,\u001b[0m \u001b[0;34m\"repo\"\u001b[0m\u001b[0;34m:\u001b[0m\u001b[0;34m[\u001b[0m\u001b[0muser\u001b[0m \u001b[0;32mfor\u001b[0m \u001b[0msublist\u001b[0m \u001b[0;32min\u001b[0m \u001b[0mx\u001b[0m\u001b[0;34m[\u001b[0m\u001b[0;36m1\u001b[0m\u001b[0;34m]\u001b[0m \u001b[0;32mfor\u001b[0m \u001b[0muser\u001b[0m \u001b[0;32min\u001b[0m \u001b[0msublist\u001b[0m\u001b[0;34m]\u001b[0m\u001b[0;34m}\u001b[0m\u001b[0;34m)\u001b[0m\u001b[0;34m.\u001b[0m\u001b[0mcollect\u001b[0m\u001b[0;34m(\u001b[0m\u001b[0;34m)\u001b[0m\u001b[0;34m\u001b[0m\u001b[0m\n\u001b[0m",
        "\u001b[0;32m/usr/local/spark/python/pyspark/rdd.pyc\u001b[0m in \u001b[0;36mcollect\u001b[0;34m(self)\u001b[0m\n\u001b[1;32m    711\u001b[0m         \"\"\"\n\u001b[1;32m    712\u001b[0m         \u001b[0;32mwith\u001b[0m \u001b[0mSCCallSiteSync\u001b[0m\u001b[0;34m(\u001b[0m\u001b[0mself\u001b[0m\u001b[0;34m.\u001b[0m\u001b[0mcontext\u001b[0m\u001b[0;34m)\u001b[0m \u001b[0;32mas\u001b[0m \u001b[0mcss\u001b[0m\u001b[0;34m:\u001b[0m\u001b[0;34m\u001b[0m\u001b[0m\n\u001b[0;32m--> 713\u001b[0;31m             \u001b[0mport\u001b[0m \u001b[0;34m=\u001b[0m \u001b[0mself\u001b[0m\u001b[0;34m.\u001b[0m\u001b[0mctx\u001b[0m\u001b[0;34m.\u001b[0m\u001b[0m_jvm\u001b[0m\u001b[0;34m.\u001b[0m\u001b[0mPythonRDD\u001b[0m\u001b[0;34m.\u001b[0m\u001b[0mcollectAndServe\u001b[0m\u001b[0;34m(\u001b[0m\u001b[0mself\u001b[0m\u001b[0;34m.\u001b[0m\u001b[0m_jrdd\u001b[0m\u001b[0;34m.\u001b[0m\u001b[0mrdd\u001b[0m\u001b[0;34m(\u001b[0m\u001b[0;34m)\u001b[0m\u001b[0;34m)\u001b[0m\u001b[0;34m\u001b[0m\u001b[0m\n\u001b[0m\u001b[1;32m    714\u001b[0m         \u001b[0;32mreturn\u001b[0m \u001b[0mlist\u001b[0m\u001b[0;34m(\u001b[0m\u001b[0m_load_from_socket\u001b[0m\u001b[0;34m(\u001b[0m\u001b[0mport\u001b[0m\u001b[0;34m,\u001b[0m \u001b[0mself\u001b[0m\u001b[0;34m.\u001b[0m\u001b[0m_jrdd_deserializer\u001b[0m\u001b[0;34m)\u001b[0m\u001b[0;34m)\u001b[0m\u001b[0;34m\u001b[0m\u001b[0m\n\u001b[1;32m    715\u001b[0m \u001b[0;34m\u001b[0m\u001b[0m\n",
        "\u001b[0;32m/usr/local/spark/python/lib/py4j-0.8.2.1-src.zip/py4j/java_gateway.py\u001b[0m in \u001b[0;36m__call__\u001b[0;34m(self, *args)\u001b[0m\n\u001b[1;32m    536\u001b[0m         \u001b[0manswer\u001b[0m \u001b[0;34m=\u001b[0m \u001b[0mself\u001b[0m\u001b[0;34m.\u001b[0m\u001b[0mgateway_client\u001b[0m\u001b[0;34m.\u001b[0m\u001b[0msend_command\u001b[0m\u001b[0;34m(\u001b[0m\u001b[0mcommand\u001b[0m\u001b[0;34m)\u001b[0m\u001b[0;34m\u001b[0m\u001b[0m\n\u001b[1;32m    537\u001b[0m         return_value = get_return_value(answer, self.gateway_client,\n\u001b[0;32m--> 538\u001b[0;31m                 self.target_id, self.name)\n\u001b[0m\u001b[1;32m    539\u001b[0m \u001b[0;34m\u001b[0m\u001b[0m\n\u001b[1;32m    540\u001b[0m         \u001b[0;32mfor\u001b[0m \u001b[0mtemp_arg\u001b[0m \u001b[0;32min\u001b[0m \u001b[0mtemp_args\u001b[0m\u001b[0;34m:\u001b[0m\u001b[0;34m\u001b[0m\u001b[0m\n",
        "\u001b[0;32m/usr/local/spark/python/lib/py4j-0.8.2.1-src.zip/py4j/protocol.py\u001b[0m in \u001b[0;36mget_return_value\u001b[0;34m(answer, gateway_client, target_id, name)\u001b[0m\n\u001b[1;32m    298\u001b[0m                 raise Py4JJavaError(\n\u001b[1;32m    299\u001b[0m                     \u001b[0;34m'An error occurred while calling {0}{1}{2}.\\n'\u001b[0m\u001b[0;34m.\u001b[0m\u001b[0;34m\u001b[0m\u001b[0m\n\u001b[0;32m--> 300\u001b[0;31m                     format(target_id, '.', name), value)\n\u001b[0m\u001b[1;32m    301\u001b[0m             \u001b[0;32melse\u001b[0m\u001b[0;34m:\u001b[0m\u001b[0;34m\u001b[0m\u001b[0m\n\u001b[1;32m    302\u001b[0m                 raise Py4JError(\n",
        "\u001b[0;31mPy4JJavaError\u001b[0m: An error occurred while calling z:org.apache.spark.api.python.PythonRDD.collectAndServe.\n: org.apache.spark.SparkException: Job aborted due to stage failure: Task 18 in stage 5.0 failed 4 times, most recent failure: Lost task 18.3 in stage 5.0 (TID 17263, ip-172-31-13-240.us-west-1.compute.internal): org.apache.spark.api.python.PythonException: Traceback (most recent call last):\n  File \"/usr/local/spark/python/pyspark/worker.py\", line 101, in main\n    process()\n  File \"/usr/local/spark/python/pyspark/worker.py\", line 96, in process\n    serializer.dump_stream(func(split_index, iterator), outfile)\n  File \"/usr/local/spark/python/pyspark/rdd.py\", line 2252, in pipeline_func\n    return func(split, prev_func(split, iterator))\n  File \"/usr/local/spark/python/pyspark/rdd.py\", line 2252, in pipeline_func\n    return func(split, prev_func(split, iterator))\n  File \"/usr/local/spark/python/pyspark/rdd.py\", line 282, in func\n    return f(iterator)\n  File \"/usr/local/spark/python/pyspark/rdd.py\", line 1705, in combineLocally\n    merger.mergeValues(iterator)\n  File \"/usr/local/spark/python/pyspark/shuffle.py\", line 252, in mergeValues\n    for k, v in iterator:\n  File \"<ipython-input-15-adb506dbec41>\", line 1, in <lambda>\nAttributeError: 'unicode' object has no attribute 'login'\n\n\tat org.apache.spark.api.python.PythonRDD$$anon$1.read(PythonRDD.scala:135)\n\tat org.apache.spark.api.python.PythonRDD$$anon$1.<init>(PythonRDD.scala:176)\n\tat org.apache.spark.api.python.PythonRDD.compute(PythonRDD.scala:94)\n\tat org.apache.spark.rdd.RDD.computeOrReadCheckpoint(RDD.scala:277)\n\tat org.apache.spark.rdd.RDD.iterator(RDD.scala:244)\n\tat org.apache.spark.api.python.PairwiseRDD.compute(PythonRDD.scala:311)\n\tat org.apache.spark.rdd.RDD.computeOrReadCheckpoint(RDD.scala:277)\n\tat org.apache.spark.rdd.RDD.iterator(RDD.scala:244)\n\tat org.apache.spark.scheduler.ShuffleMapTask.runTask(ShuffleMapTask.scala:68)\n\tat org.apache.spark.scheduler.ShuffleMapTask.runTask(ShuffleMapTask.scala:41)\n\tat org.apache.spark.scheduler.Task.run(Task.scala:64)\n\tat org.apache.spark.executor.Executor$TaskRunner.run(Executor.scala:203)\n\tat java.util.concurrent.ThreadPoolExecutor.runWorker(ThreadPoolExecutor.java:1145)\n\tat java.util.concurrent.ThreadPoolExecutor$Worker.run(ThreadPoolExecutor.java:615)\n\tat java.lang.Thread.run(Thread.java:745)\n\nDriver stacktrace:\n\tat org.apache.spark.scheduler.DAGScheduler.org$apache$spark$scheduler$DAGScheduler$$failJobAndIndependentStages(DAGScheduler.scala:1204)\n\tat org.apache.spark.scheduler.DAGScheduler$$anonfun$abortStage$1.apply(DAGScheduler.scala:1193)\n\tat org.apache.spark.scheduler.DAGScheduler$$anonfun$abortStage$1.apply(DAGScheduler.scala:1192)\n\tat scala.collection.mutable.ResizableArray$class.foreach(ResizableArray.scala:59)\n\tat scala.collection.mutable.ArrayBuffer.foreach(ArrayBuffer.scala:47)\n\tat org.apache.spark.scheduler.DAGScheduler.abortStage(DAGScheduler.scala:1192)\n\tat org.apache.spark.scheduler.DAGScheduler$$anonfun$handleTaskSetFailed$1.apply(DAGScheduler.scala:693)\n\tat org.apache.spark.scheduler.DAGScheduler$$anonfun$handleTaskSetFailed$1.apply(DAGScheduler.scala:693)\n\tat scala.Option.foreach(Option.scala:236)\n\tat org.apache.spark.scheduler.DAGScheduler.handleTaskSetFailed(DAGScheduler.scala:693)\n\tat org.apache.spark.scheduler.DAGSchedulerEventProcessLoop.onReceive(DAGScheduler.scala:1393)\n\tat org.apache.spark.scheduler.DAGSchedulerEventProcessLoop.onReceive(DAGScheduler.scala:1354)\n\tat org.apache.spark.util.EventLoop$$anon$1.run(EventLoop.scala:48)\n"
       ]
      }
     ],
     "prompt_number": 16
    },
    {
     "cell_type": "code",
     "collapsed": false,
     "input": [],
     "language": "python",
     "metadata": {},
     "outputs": []
    }
   ],
   "metadata": {}
  }
 ]
}