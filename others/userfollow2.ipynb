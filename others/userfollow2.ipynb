{
 "metadata": {
  "name": ""
 },
 "nbformat": 3,
 "nbformat_minor": 0,
 "worksheets": [
  {
   "cells": [
    {
     "cell_type": "code",
     "collapsed": false,
     "input": [
      "import os \n",
      "os.environ['PYSPARK_SUBMIT_ARGS']='--master spark://ip-172-31-2-89:7077 --executor-memory 1300m --driver-memory 1300m'\n",
      "import sys\n",
      " \n",
      "spark_home = os.environ.get('SPARK_HOME', None)\n",
      "if not spark_home:\n",
      "  raise ValueError('SPARK_HOME environment variable is not set')\n",
      "sys.path.insert(0, os.path.join(spark_home, 'python'))\n",
      "sys.path.insert(0, os.path.join(spark_home, 'python/lib/py4j-0.8.1-src.zip'))\n",
      "execfile(os.path.join(spark_home, 'python/pyspark/shell.py'))\n"
     ],
     "language": "python",
     "metadata": {},
     "outputs": [
      {
       "output_type": "stream",
       "stream": "stdout",
       "text": [
        "Welcome to\n",
        "      ____              __\n",
        "     / __/__  ___ _____/ /__\n",
        "    _\\ \\/ _ \\/ _ `/ __/  '_/\n",
        "   /__ / .__/\\_,_/_/ /_/\\_\\   version 1.3.1\n",
        "      /_/\n",
        "\n",
        "Using Python version 2.7.6 (default, Mar 22 2014 22:59:56)\n",
        "SparkContext available as sc, HiveContext available as sqlContext.\n"
       ]
      }
     ],
     "prompt_number": 1
    },
    {
     "cell_type": "code",
     "collapsed": false,
     "input": [
      "from pyspark import SparkContext\n",
      "from pyspark.sql import SQLContext"
     ],
     "language": "python",
     "metadata": {},
     "outputs": [],
     "prompt_number": 2
    },
    {
     "cell_type": "code",
     "collapsed": false,
     "input": [
      "sqlContext = SQLContext(sc)"
     ],
     "language": "python",
     "metadata": {},
     "outputs": [],
     "prompt_number": 3
    },
    {
     "cell_type": "code",
     "collapsed": false,
     "input": [
      "df3_1 = sqlContext.jsonFile(\"hdfs://ec2-52-8-127-252.us-west-1.compute.amazonaws.com:9000/camus/topics/scrap-following-3/hourly/2015/06/23/11/*\")\n",
      "df3_2 = sqlContext.jsonFile(\"hdfs://ec2-52-8-127-252.us-west-1.compute.amazonaws.com:9000/camus/topics/scrap-following-3/hourly/2015/06/26/01/*\")\n",
      "df3_3 = sqlContext.jsonFile(\"hdfs://ec2-52-8-127-252.us-west-1.compute.amazonaws.com:9000/camus/topics/scrap-following-3/hourly/2015/06/28/19/*\")"
     ],
     "language": "python",
     "metadata": {},
     "outputs": [],
     "prompt_number": 27
    },
    {
     "cell_type": "code",
     "collapsed": false,
     "input": [
      "df4_1 = sqlContext.jsonFile(\"hdfs://ec2-52-8-127-252.us-west-1.compute.amazonaws.com:9000/camus/topics/scrap-following-4/hourly/2015/06/23/11/*\")\n",
      "df4_2 = sqlContext.jsonFile(\"hdfs://ec2-52-8-127-252.us-west-1.compute.amazonaws.com:9000/camus/topics/scrap-following-4/hourly/2015/06/26/01/*\")\n",
      "df4_3 = sqlContext.jsonFile(\"hdfs://ec2-52-8-127-252.us-west-1.compute.amazonaws.com:9000/camus/topics/scrap-following-4/hourly/2015/06/28/19/*\")\n"
     ],
     "language": "python",
     "metadata": {},
     "outputs": [],
     "prompt_number": 28
    },
    {
     "cell_type": "code",
     "collapsed": false,
     "input": [
      "df5_1 = sqlContext.jsonFile(\"hdfs://ec2-52-8-127-252.us-west-1.compute.amazonaws.com:9000/camus/topics/scrap-following-5/hourly/2015/06/23/11/*\")\n",
      "df5_2 = sqlContext.jsonFile(\"hdfs://ec2-52-8-127-252.us-west-1.compute.amazonaws.com:9000/camus/topics/scrap-following-5/hourly/2015/06/26/01/*\")\n",
      "df5_3 = sqlContext.jsonFile(\"hdfs://ec2-52-8-127-252.us-west-1.compute.amazonaws.com:9000/camus/topics/scrap-following-5/hourly/2015/06/28/19/*\")\n"
     ],
     "language": "python",
     "metadata": {},
     "outputs": [],
     "prompt_number": 29
    },
    {
     "cell_type": "code",
     "collapsed": false,
     "input": [
      "df7_1 = sqlContext.jsonFile(\"hdfs://ec2-52-8-127-252.us-west-1.compute.amazonaws.com:9000/camus/topics/scrap-following-7/hourly/2015/06/26/01\")"
     ],
     "language": "python",
     "metadata": {},
     "outputs": [],
     "prompt_number": 30
    },
    {
     "cell_type": "code",
     "collapsed": false,
     "input": [
      "import json\n",
      "def follows(x):\n",
      "    try:\n",
      "        following_list = []\n",
      "        if x == []:\n",
      "            return following_list\n",
      "        else:\n",
      "            for user in x:\n",
      "                following_list.append(json.loads(user)['login'])\n",
      "            return following_list\n",
      "    except Exception as e:\n",
      "        print x, e\n",
      "\n",
      "df3_1_following = df3_1.map(lambda x: (x.login, follows(x.following))).collect()\n",
      "df3_2_following = df3_2.map(lambda x: (x.login, follows(x.following))).collect()\n",
      "df3_3_following = df3_3.map(lambda x: (x.login, follows(x.following))).collect()\n",
      "\n",
      "df4_1_following = df4_1.map(lambda x: (x.login, follows(x.following))).collect()\n",
      "df4_2_following = df4_2.map(lambda x: (x.login, follows(x.following))).collect()\n",
      "df4_3_following = df4_3.map(lambda x: (x.login, follows(x.following))).collect()\n",
      "\n",
      "df5_1_following = df5_1.map(lambda x: (x.login, follows(x.following))).collect()\n",
      "df5_2_following = df5_2.map(lambda x: (x.login, follows(x.following))).collect()\n",
      "df5_3_following = df5_3.map(lambda x: (x.login, follows(x.following))).collect()"
     ],
     "language": "python",
     "metadata": {},
     "outputs": [],
     "prompt_number": 58
    },
    {
     "cell_type": "code",
     "collapsed": false,
     "input": [
      "def follows7(x):\n",
      "    following = []\n",
      "    try:\n",
      "        if x==[]:\n",
      "            return following\n",
      "        else:\n",
      "            for user in x:\n",
      "                following.append(user.login)\n",
      "            return following\n",
      "    except Exception as e:\n",
      "        print x, e\n",
      "            \n",
      "df7_1_following = df7_1.map(lambda x: (x.login, follows7(x.following))).collect()"
     ],
     "language": "python",
     "metadata": {},
     "outputs": [],
     "prompt_number": 59
    },
    {
     "cell_type": "code",
     "collapsed": false,
     "input": [
      "from cqlengine import columns\n",
      "from cqlengine.models import Model\n",
      "from cqlengine import connection\n",
      "from cqlengine.management import sync_table"
     ],
     "language": "python",
     "metadata": {},
     "outputs": [
      {
       "output_type": "stream",
       "stream": "stderr",
       "text": [
        "/usr/local/lib/python2.7/dist-packages/cassandra/util.py:486: UserWarning: The blist library is not available, so a pure python list-based set will be used in place of blist.sortedset for set collection values. You can find the blist library here: https://pypi.python.org/pypi/blist/\n",
        "  \"The blist library is not available, so a pure python list-based set will \"\n"
       ]
      }
     ],
     "prompt_number": 70
    },
    {
     "cell_type": "code",
     "collapsed": false,
     "input": [
      "class userfollow(Model):\n",
      "  username = columns.Text(primary_key=True)\n",
      "  following = columns.List(columns.Text)\n",
      "  def __repr__(self):\n",
      "    return '%s %d' % (self.username, self.following)"
     ],
     "language": "python",
     "metadata": {},
     "outputs": [],
     "prompt_number": 71
    },
    {
     "cell_type": "code",
     "collapsed": false,
     "input": [
      "connection.setup(['52.8.127.252','52.8.41.216'], \"watch_events\")\n",
      "sync_table(userfollow)"
     ],
     "language": "python",
     "metadata": {},
     "outputs": [],
     "prompt_number": 72
    },
    {
     "cell_type": "code",
     "collapsed": false,
     "input": [
      "for val in df3_1_following:\n",
      "    userfollow.create(username = val[0], following = val[1])\n",
      "    \n",
      "for val in df3_2_following:\n",
      "    userfollow.create(username = val[0], following = val[1])\n",
      "\n",
      "for val in df3_3_following:\n",
      "    userfollow.create(username = val[0], following = val[1])\n",
      "    \n",
      "\n",
      "for val in df4_1_following:\n",
      "    userfollow.create(username = val[0], following = val[1])\n",
      "    \n",
      "for val in df4_2_following:\n",
      "    userfollow.create(username = val[0], following = val[1])\n",
      "\n",
      "for val in df4_3_following:\n",
      "    userfollow.create(username = val[0], following = val[1])\n",
      "    \n",
      "    \n",
      "for val in df5_1_following:\n",
      "    userfollow.create(username = val[0], following = val[1])\n",
      "    \n",
      "for val in df5_2_following:\n",
      "    userfollow.create(username = val[0], following = val[1])\n",
      "\n",
      "for val in df5_3_following:\n",
      "    userfollow.create(username = val[0], following = val[1])\n",
      "    \n",
      "    \n",
      "for val in df7_1_following:\n",
      "    userfollow.create(username = val[0], following = val[1])"
     ],
     "language": "python",
     "metadata": {},
     "outputs": [],
     "prompt_number": 73
    },
    {
     "cell_type": "markdown",
     "metadata": {},
     "source": [
      "# Second batch updates for users->following"
     ]
    },
    {
     "cell_type": "code",
     "collapsed": false,
     "input": [
      "df3_4 = sqlContext.jsonFile(\"hdfs://ec2-52-8-127-252.us-west-1.compute.amazonaws.com:9000/camus/topics/scrap-following-3/hourly/2015/06/30/11/*\")\n",
      "df4_4 = sqlContext.jsonFile(\"hdfs://ec2-52-8-127-252.us-west-1.compute.amazonaws.com:9000/camus/topics/scrap-following-4/hourly/2015/06/30/11/*\")\n",
      "df5_4 = sqlContext.jsonFile(\"hdfs://ec2-52-8-127-252.us-west-1.compute.amazonaws.com:9000/camus/topics/scrap-following-5/hourly/2015/06/30/11/*\")"
     ],
     "language": "python",
     "metadata": {},
     "outputs": [],
     "prompt_number": 74
    },
    {
     "cell_type": "code",
     "collapsed": false,
     "input": [
      "import json\n",
      "def follows(x):\n",
      "    try:\n",
      "        following_list = []\n",
      "        if x == []:\n",
      "            return following_list\n",
      "        else:\n",
      "            for user in x:\n",
      "                following_list.append(json.loads(user)['login'])\n",
      "            return following_list\n",
      "    except Exception as e:\n",
      "        print x, e\n",
      "\n",
      "df3_4_following = df3_4.map(lambda x: (x.login, follows(x.following))).collect()\n",
      "df4_4_following = df4_4.map(lambda x: (x.login, follows(x.following))).collect()\n",
      "df5_4_following = df5_4.map(lambda x: (x.login, follows(x.following))).collect()"
     ],
     "language": "python",
     "metadata": {},
     "outputs": [],
     "prompt_number": 78
    },
    {
     "cell_type": "code",
     "collapsed": false,
     "input": [
      "for val in df3_4_following:\n",
      "    userfollow.create(username = val[0], following = val[1])\n",
      "    \n",
      "for val in df4_4_following:\n",
      "    userfollow.create(username = val[0], following = val[1])\n",
      "\n",
      "for val in df5_4_following:\n",
      "    userfollow.create(username = val[0], following = val[1])"
     ],
     "language": "python",
     "metadata": {},
     "outputs": [],
     "prompt_number": 79
    },
    {
     "cell_type": "code",
     "collapsed": false,
     "input": [
      "print len(df5_4_following)"
     ],
     "language": "python",
     "metadata": {},
     "outputs": [
      {
       "output_type": "stream",
       "stream": "stdout",
       "text": [
        "342588\n"
       ]
      }
     ],
     "prompt_number": 82
    },
    {
     "cell_type": "code",
     "collapsed": false,
     "input": [
      "print len(df4_4_following)"
     ],
     "language": "python",
     "metadata": {},
     "outputs": [
      {
       "output_type": "stream",
       "stream": "stdout",
       "text": [
        "269306\n"
       ]
      }
     ],
     "prompt_number": 83
    },
    {
     "cell_type": "code",
     "collapsed": false,
     "input": [
      "print len(df3_4_following)"
     ],
     "language": "python",
     "metadata": {},
     "outputs": [
      {
       "output_type": "stream",
       "stream": "stdout",
       "text": [
        "338692\n"
       ]
      }
     ],
     "prompt_number": 84
    },
    {
     "cell_type": "code",
     "collapsed": false,
     "input": [],
     "language": "python",
     "metadata": {},
     "outputs": [],
     "prompt_number": 33
    },
    {
     "cell_type": "code",
     "collapsed": false,
     "input": [],
     "language": "python",
     "metadata": {},
     "outputs": [],
     "prompt_number": 33
    },
    {
     "cell_type": "code",
     "collapsed": false,
     "input": [],
     "language": "python",
     "metadata": {},
     "outputs": [],
     "prompt_number": 33
    },
    {
     "cell_type": "code",
     "collapsed": false,
     "input": [],
     "language": "python",
     "metadata": {},
     "outputs": [],
     "prompt_number": 33
    },
    {
     "cell_type": "code",
     "collapsed": false,
     "input": [],
     "language": "python",
     "metadata": {},
     "outputs": [],
     "prompt_number": 33
    },
    {
     "cell_type": "code",
     "collapsed": false,
     "input": [],
     "language": "python",
     "metadata": {},
     "outputs": [],
     "prompt_number": 33
    },
    {
     "cell_type": "code",
     "collapsed": false,
     "input": [],
     "language": "python",
     "metadata": {},
     "outputs": []
    }
   ],
   "metadata": {}
  }
 ]
}